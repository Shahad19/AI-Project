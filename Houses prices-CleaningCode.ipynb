{
 "cells": [
  {
   "cell_type": "markdown",
   "id": "21b1a2a9",
   "metadata": {},
   "source": [
    "#  Import The Libraries"
   ]
  },
  {
   "cell_type": "code",
   "execution_count": 1,
   "id": "9df12fca",
   "metadata": {},
   "outputs": [],
   "source": [
    "from bs4 import BeautifulSoup\n",
    "import requests\n",
    "import math\n",
    "import pandas as pd\n",
    "import patsy\n",
    "from statistics import mean\n",
    "\n",
    "import scipy.stats as stats\n",
    "import statsmodels.api as sm\n",
    "import statsmodels.formula.api as smf\n",
    "from sklearn import preprocessing\n",
    "from sklearn.linear_model import LinearRegression,Ridge, Lasso, LassoCV ,RidgeCV\n",
    "from sklearn.model_selection import train_test_split, cross_val_score\n",
    "from sklearn.preprocessing import PolynomialFeatures,StandardScaler\n",
    "from sklearn.pipeline import make_pipeline\n",
    "\n",
    "import numpy as np\n",
    "import pickle\n",
    "import matplotlib.pyplot as plt\n",
    "%matplotlib inline\n",
    "import seaborn as sns\n",
    "sns.set()"
   ]
  },
  {
   "cell_type": "code",
   "execution_count": 2,
   "id": "c0c66cca",
   "metadata": {},
   "outputs": [],
   "source": [
    "import warnings \n",
    "warnings.filterwarnings(\"ignore\")\n",
    "from sklearn.metrics import r2_score\n",
    "from sklearn.metrics import mean_squared_error\n",
    "from sklearn.model_selection import (cross_val_score, train_test_split, KFold, GridSearchCV)"
   ]
  },
  {
   "cell_type": "markdown",
   "id": "5e59a3fc",
   "metadata": {},
   "source": [
    "# Collection data (Web Scraping by beautifulsoup)"
   ]
  },
  {
   "cell_type": "markdown",
   "id": "df1283d8",
   "metadata": {},
   "source": [
    "Sources we Collection from are www.sa.aqar.fm and www.propertyfinder.sa"
   ]
  },
  {
   "cell_type": "markdown",
   "id": "acc15649",
   "metadata": {},
   "source": [
    "- The First source collection:"
   ]
  },
  {
   "cell_type": "code",
   "execution_count": null,
   "id": "5661e172",
   "metadata": {},
   "outputs": [],
   "source": [
    "villa_list_aqar=[]\n",
    "Area_Of_villa=[]\n",
    "i=1\n",
    "\n",
    "while i<100:\n",
    "    url = f\"https://sa.aqar.fm/%D9%81%D9%84%D9%84-%D9%84%D9%84%D8%A8%D9%8A%D8%B9/{i}\"\n",
    "    res=requests.get(url)\n",
    "    if res.status_code==200:\n",
    "        p=res.text\n",
    "        soup=BeautifulSoup(p,\"lxml\")\n",
    "        i+=1\n",
    "        \n",
    "        houses=soup.find_all(\"div\", {\"class\":\"titleAndDetails\"})\n",
    "        headers = [\"Price\", \"Num_Of_Bedrooms\", \"Num_Of_Bathrooms\", \"Size(m²)\",\"District\"]\n",
    "        for house in houses:\n",
    "            price = float(house.find(class_=\"price\").text.replace(\"ريال\", \"\").replace(\",\", \"\").strip())\n",
    "            bed = int(house.find(class_=\"bed\").text.strip())\n",
    "            bath = int(house.find(class_=\"bath\").text.strip())\n",
    "            size = float(house.find(class_=\"size\").text.replace(\"م²\", \"\").strip())\n",
    "            districts = house.find(class_=\"locText\").text.strip()\n",
    "            house_dict = dict(zip(headers, [price, bed, bath, size, districts]))\n",
    "            villa_list_aqar.append(house_dict)\n",
    "            \n",
    "        URL= soup.find_all(\"a\",class_=\"listTitle\")\n",
    "        for h in URL:\n",
    "            pageurl=\"https://sa.aqar.fm\"+h[\"href\"]\n",
    "            resp=requests.get(pageurl)\n",
    "            hpage= resp.text\n",
    "            hsoup=BeautifulSoup(hpage, \"lxml\")\n",
    "            table=hsoup.find(\"table\",class_=\"dc-detailsTable\")\n",
    "            \n",
    "            \n",
    "            for row in :\n",
    "                if \"الشارع\" in row.text:\n",
    "                    x=int(row.find_all(\"td\")[0].text.replace(\"م\", \"\").strip())\n",
    "                    Area_Of_villa.append(x)\n",
    "    else:\n",
    "        break"
   ]
  },
  {
   "cell_type": "code",
   "execution_count": null,
   "id": "fb58a850",
   "metadata": {},
   "outputs": [],
   "source": [
    "len(Area_Of_villa)"
   ]
  },
  {
   "cell_type": "code",
   "execution_count": null,
   "id": "964459ef",
   "metadata": {},
   "outputs": [],
   "source": [
    "len(villa_list_aqar)"
   ]
  },
  {
   "cell_type": "code",
   "execution_count": null,
   "id": "ffc12896",
   "metadata": {},
   "outputs": [],
   "source": [
    "villa_aqar_DF=pd.DataFrame(villa_list_aqar)\n",
    "villa_aqar_DF"
   ]
  },
  {
   "cell_type": "code",
   "execution_count": null,
   "id": "5a149abb",
   "metadata": {},
   "outputs": [],
   "source": [
    "Area_villa_DF=pd.DataFrame(Area_Of_villa)\n",
    "Area_villa_DF"
   ]
  },
  {
   "cell_type": "code",
   "execution_count": null,
   "id": "565182bc",
   "metadata": {},
   "outputs": [],
   "source": [
    "villa_aqar_DF[\"StreetWidth\"]=Area_villa_DF\n",
    "villa_aqar_DF"
   ]
  },
  {
   "cell_type": "code",
   "execution_count": null,
   "id": "74a3bcc9",
   "metadata": {},
   "outputs": [],
   "source": [
    "# list villaDF in Riyadh city\n",
    "villa_aqar_DF= villa_aqar_DF[villa_aqar_DF.District.str.contains(\"الرياض\") == True]\n",
    "villa_aqar_DF"
   ]
  },
  {
   "cell_type": "code",
   "execution_count": null,
   "id": "c515f92b",
   "metadata": {},
   "outputs": [],
   "source": [
    "# All District without (\"حي الرمال - الرياض\")\n",
    "villa_aqar_DF= villa_aqar_DF[villa_aqar_DF.District.str.contains(\"حي الرمال - الرياض\") == False]\n",
    "villa_aqar_DF"
   ]
  },
  {
   "cell_type": "code",
   "execution_count": null,
   "id": "a8017175",
   "metadata": {},
   "outputs": [],
   "source": [
    "houses_list_aqar = []\n",
    "Area_Of_houses=[]\n",
    "\n",
    "i = 1\n",
    "while i < 200:\n",
    "    url = f\"https://sa.aqar.fm/%D8%A8%D9%8A%D8%AA-%D9%84%D9%84%D8%A8%D9%8A%D8%B9/%D8%A7%D9%84%D8%B1%D9%8A%D8%A7%D8%B6/{i}\" \n",
    "    response = requests.get(url)\n",
    "    if response.status_code == 200:\n",
    "        page = response.text\n",
    "        soup = BeautifulSoup(page, \"lxml\")\n",
    "        i += 1\n",
    "        houses=soup.find_all(\"div\", {\"class\":\"titleAndDetails\"})\n",
    "        headers = [\"Price\", \"Num_Of_Bedrooms\", \"Num_Of_Bathrooms\", \"Size(m²)\",\"District\"]\n",
    "        for house in houses:\n",
    "            price = float(house.find(class_=\"price\").text.replace(\"ريال\", \"\").replace(\",\", \"\").strip())\n",
    "            bed = int(house.find(class_=\"bed\").text.strip())\n",
    "            bath = int(house.find(class_=\"bath\").text.strip())\n",
    "            size = float(house.find(class_=\"size\").text.replace(\"م²\", \"\").strip())\n",
    "            districts = house.find(class_=\"locText\").text.strip()\n",
    "            house_dict = dict(zip(headers, [price, bed, bath, size, districts]))\n",
    "            houses_list_aqar.append(house_dict)\n",
    "            \n",
    "        URL= soup.find_all(\"a\",class_=\"listTitle\")\n",
    "        for h in URL:\n",
    "            pageurl=\"https://sa.aqar.fm\"+h[\"href\"]\n",
    "            resp=requests.get(pageurl)\n",
    "            hpage= resp.text\n",
    "            hsoup=BeautifulSoup(hpage, \"lxml\")\n",
    "            table=hsoup.find(\"table\",class_=\"dc-detailsTable\")\n",
    "            rows=table.find_all(\"tr\")\n",
    "            \n",
    "            for row in rows:\n",
    "                if \"الشارع\" in row.text:\n",
    "                    x=int(row.find_all(\"td\")[0].text.replace(\"م\", \"\").strip())\n",
    "                    Area_Of_houses.append(x)\n",
    "    else:\n",
    "        break"
   ]
  },
  {
   "cell_type": "code",
   "execution_count": null,
   "id": "f7465d54",
   "metadata": {},
   "outputs": [],
   "source": [
    "len(houses_list_aqar)"
   ]
  },
  {
   "cell_type": "code",
   "execution_count": null,
   "id": "e031bb75",
   "metadata": {},
   "outputs": [],
   "source": [
    "len(Area_Of_houses)"
   ]
  },
  {
   "cell_type": "code",
   "execution_count": null,
   "id": "445f2b1c",
   "metadata": {},
   "outputs": [],
   "source": [
    "houses_aqar_DF = pd.DataFrame(houses_list_aqar)\n",
    "houses_aqar_DF.head()"
   ]
  },
  {
   "cell_type": "code",
   "execution_count": null,
   "id": "5d2c611b",
   "metadata": {},
   "outputs": [],
   "source": [
    "Area_houses_DF=pd.DataFrame(Area_Of_houses)\n",
    "Area_houses_DF"
   ]
  },
  {
   "cell_type": "code",
   "execution_count": null,
   "id": "a6beeda2",
   "metadata": {},
   "outputs": [],
   "source": [
    "houses_aqar_DF[\"StreetWidth\"]=Area_houses_DF\n",
    "houses_aqar_DF"
   ]
  },
  {
   "cell_type": "markdown",
   "id": "84af13ed",
   "metadata": {},
   "source": [
    "- The Second source collection:"
   ]
  },
  {
   "cell_type": "code",
   "execution_count": null,
   "id": "d5bd26a2",
   "metadata": {},
   "outputs": [],
   "source": [
    "houses_list_of_propertyfinder = []\n",
    "i = 1\n",
    "while i < 100:\n",
    "    url_of_propertyfinder = f\"https://www.propertyfinder.sa/ar/search?c=1&ob=mr&page=1&t=35\" \n",
    "    response_of_propertyfinder = requests.get(url_of_propertyfinder)\n",
    "    if response_of_propertyfinder.status_code == 200:\n",
    "        page_of_propertyfinder = response_of_propertyfinder.text\n",
    "        soup_of_propertyfinder = BeautifulSoup(page_of_propertyfinder, \"lxml\")\n",
    "        i += 1\n",
    "        houses_of_propertyfinder=soup_of_propertyfinder.find_all(\"div\", {\"class\":\"card-list__item\"})#class name of div of each house\n",
    "        headers_of_propertyfinder = [\"Price\", \"Num_Of_Bedrooms\", \"Num_Of_Bathrooms\", \"Size(m²)\",\"District\"]\n",
    "        \n",
    "        for house in houses_of_propertyfinder:\n",
    "            price = float(house.find(class_=\"card__price-value\").text.replace(\"ريال\", \"\").replace(\",\", \"\").strip())\n",
    "            bed = int(house.find(class_=\"card__property-amenity card__property-amenity--bedrooms\").text.replace(\"+\", \"\").replace(\"عدد الغرف\",\"\").strip())\n",
    "            bath = int(house.find(class_=\"card__property-amenity card__property-amenity--bathrooms\").text.replace(\"+\", \"\").replace(\"حمامات\",\"\").strip())\n",
    "            size = float(house.find(class_=\"card__property-amenity card__property-amenity--area\").text.replace(\"متر مربع\", \"\").replace(\",\", \"\").strip())\n",
    "            districts = house.find(class_=\"card__location-text\").text.replace(\"حي الملقا\",\"الملقا\").strip()\n",
    "            house_dict_of_propertyfinder = dict(zip(headers, [price, bed, bath, size, districts]))\n",
    "            houses_list_of_propertyfinder.append(house_dict_of_propertyfinder)\n",
    "    else:\n",
    "        break"
   ]
  },
  {
   "cell_type": "code",
   "execution_count": null,
   "id": "7bcd0766",
   "metadata": {},
   "outputs": [],
   "source": [
    "len(houses_list_of_propertyfinder)"
   ]
  },
  {
   "cell_type": "code",
   "execution_count": null,
   "id": "e6748e45",
   "metadata": {},
   "outputs": [],
   "source": [
    "houses_propertyfinder_DF = pd.DataFrame(houses_list_of_propertyfinder)"
   ]
  },
  {
   "cell_type": "markdown",
   "id": "fbbb9a96",
   "metadata": {},
   "source": [
    "- Collect data from both sources into one DF (Sale_DF)"
   ]
  },
  {
   "cell_type": "code",
   "execution_count": null,
   "id": "370dcc6e",
   "metadata": {},
   "outputs": [],
   "source": [
    "Sale_DF = pd.concat([villa_aqar_DF, houses_aqar_DF, houses_propertyfinder_DF])\n",
    "Sale_DF"
   ]
  },
  {
   "cell_type": "markdown",
   "id": "bb584677",
   "metadata": {},
   "source": [
    "# Save data in excel file"
   ]
  },
  {
   "cell_type": "code",
   "execution_count": null,
   "id": "3b5f22ac",
   "metadata": {},
   "outputs": [],
   "source": [
    "Sale_DF.to_excel(\"aqar.xlsx\")"
   ]
  },
  {
   "cell_type": "code",
   "execution_count": 3,
   "id": "d0cc8e7d",
   "metadata": {},
   "outputs": [],
   "source": [
    "Sale_DF= pd.read_excel ('aqar.xlsx')"
   ]
  },
  {
   "cell_type": "markdown",
   "id": "095ed5e1",
   "metadata": {},
   "source": [
    "# Data Preprocessing"
   ]
  },
  {
   "cell_type": "code",
   "execution_count": 4,
   "id": "f5e99b54",
   "metadata": {},
   "outputs": [
    {
     "name": "stdout",
     "output_type": "stream",
     "text": [
      "<class 'pandas.core.frame.DataFrame'>\n",
      "RangeIndex: 3363 entries, 0 to 3362\n",
      "Data columns (total 8 columns):\n",
      " #   Column            Non-Null Count  Dtype \n",
      "---  ------            --------------  ----- \n",
      " 0   Unnamed: 0        3363 non-null   int64 \n",
      " 1   Unnamed: 0.1      3363 non-null   int64 \n",
      " 2   Price             3363 non-null   int64 \n",
      " 3   Num_Of_Bedrooms   3363 non-null   int64 \n",
      " 4   Num_Of_Bathrooms  3363 non-null   int64 \n",
      " 5   Size(m²)          3363 non-null   int64 \n",
      " 6   District          3363 non-null   object\n",
      " 7   StreetWidth       3363 non-null   int64 \n",
      "dtypes: int64(7), object(1)\n",
      "memory usage: 210.3+ KB\n"
     ]
    }
   ],
   "source": [
    "Sale_DF.info()"
   ]
  },
  {
   "cell_type": "code",
   "execution_count": 5,
   "id": "d129daf7",
   "metadata": {},
   "outputs": [
    {
     "data": {
      "text/plain": [
       "Unnamed: 0          0\n",
       "Unnamed: 0.1        0\n",
       "Price               0\n",
       "Num_Of_Bedrooms     0\n",
       "Num_Of_Bathrooms    0\n",
       "Size(m²)            0\n",
       "District            0\n",
       "StreetWidth         0\n",
       "dtype: int64"
      ]
     },
     "execution_count": 5,
     "metadata": {},
     "output_type": "execute_result"
    }
   ],
   "source": [
    "Sale_DF.isnull().sum()"
   ]
  },
  {
   "cell_type": "markdown",
   "id": "add3c4ed",
   "metadata": {},
   "source": [
    "- drop null value"
   ]
  },
  {
   "cell_type": "code",
   "execution_count": 6,
   "id": "b44add5e",
   "metadata": {},
   "outputs": [],
   "source": [
    "Sale_DF=Sale_DF.dropna()"
   ]
  },
  {
   "cell_type": "code",
   "execution_count": 7,
   "id": "445d02a4",
   "metadata": {},
   "outputs": [
    {
     "data": {
      "text/plain": [
       "Unnamed: 0          0\n",
       "Unnamed: 0.1        0\n",
       "Price               0\n",
       "Num_Of_Bedrooms     0\n",
       "Num_Of_Bathrooms    0\n",
       "Size(m²)            0\n",
       "District            0\n",
       "StreetWidth         0\n",
       "dtype: int64"
      ]
     },
     "execution_count": 7,
     "metadata": {},
     "output_type": "execute_result"
    }
   ],
   "source": [
    "Sale_DF.isnull().sum()"
   ]
  },
  {
   "cell_type": "code",
   "execution_count": 8,
   "id": "a1955e18",
   "metadata": {},
   "outputs": [
    {
     "data": {
      "text/plain": [
       "0"
      ]
     },
     "execution_count": 8,
     "metadata": {},
     "output_type": "execute_result"
    }
   ],
   "source": [
    "Sale_DF[\"StreetWidth\"].isna().sum()"
   ]
  },
  {
   "cell_type": "markdown",
   "id": "2e2c3323",
   "metadata": {},
   "source": [
    "- drop zero value"
   ]
  },
  {
   "cell_type": "code",
   "execution_count": 9,
   "id": "a0cfb7a3",
   "metadata": {},
   "outputs": [
    {
     "data": {
      "text/html": [
       "<div>\n",
       "<style scoped>\n",
       "    .dataframe tbody tr th:only-of-type {\n",
       "        vertical-align: middle;\n",
       "    }\n",
       "\n",
       "    .dataframe tbody tr th {\n",
       "        vertical-align: top;\n",
       "    }\n",
       "\n",
       "    .dataframe thead th {\n",
       "        text-align: right;\n",
       "    }\n",
       "</style>\n",
       "<table border=\"1\" class=\"dataframe\">\n",
       "  <thead>\n",
       "    <tr style=\"text-align: right;\">\n",
       "      <th></th>\n",
       "      <th>Unnamed: 0</th>\n",
       "      <th>Unnamed: 0.1</th>\n",
       "      <th>Price</th>\n",
       "      <th>Num_Of_Bedrooms</th>\n",
       "      <th>Num_Of_Bathrooms</th>\n",
       "      <th>Size(m²)</th>\n",
       "      <th>District</th>\n",
       "      <th>StreetWidth</th>\n",
       "    </tr>\n",
       "  </thead>\n",
       "  <tbody>\n",
       "    <tr>\n",
       "      <th>0</th>\n",
       "      <td>0</td>\n",
       "      <td>0</td>\n",
       "      <td>1400000</td>\n",
       "      <td>5</td>\n",
       "      <td>5</td>\n",
       "      <td>510</td>\n",
       "      <td>الروضة</td>\n",
       "      <td>20</td>\n",
       "    </tr>\n",
       "    <tr>\n",
       "      <th>1</th>\n",
       "      <td>1</td>\n",
       "      <td>3</td>\n",
       "      <td>1400000</td>\n",
       "      <td>5</td>\n",
       "      <td>5</td>\n",
       "      <td>375</td>\n",
       "      <td>المنصورة</td>\n",
       "      <td>15</td>\n",
       "    </tr>\n",
       "    <tr>\n",
       "      <th>2</th>\n",
       "      <td>2</td>\n",
       "      <td>5</td>\n",
       "      <td>2500000</td>\n",
       "      <td>5</td>\n",
       "      <td>5</td>\n",
       "      <td>700</td>\n",
       "      <td>المنار</td>\n",
       "      <td>36</td>\n",
       "    </tr>\n",
       "    <tr>\n",
       "      <th>3</th>\n",
       "      <td>3</td>\n",
       "      <td>9</td>\n",
       "      <td>2700000</td>\n",
       "      <td>4</td>\n",
       "      <td>5</td>\n",
       "      <td>375</td>\n",
       "      <td>النرجس</td>\n",
       "      <td>15</td>\n",
       "    </tr>\n",
       "    <tr>\n",
       "      <th>4</th>\n",
       "      <td>4</td>\n",
       "      <td>10</td>\n",
       "      <td>3000000</td>\n",
       "      <td>7</td>\n",
       "      <td>5</td>\n",
       "      <td>600</td>\n",
       "      <td>اليرموك</td>\n",
       "      <td>20</td>\n",
       "    </tr>\n",
       "    <tr>\n",
       "      <th>...</th>\n",
       "      <td>...</td>\n",
       "      <td>...</td>\n",
       "      <td>...</td>\n",
       "      <td>...</td>\n",
       "      <td>...</td>\n",
       "      <td>...</td>\n",
       "      <td>...</td>\n",
       "      <td>...</td>\n",
       "    </tr>\n",
       "    <tr>\n",
       "      <th>3358</th>\n",
       "      <td>3573</td>\n",
       "      <td>3800</td>\n",
       "      <td>300000</td>\n",
       "      <td>5</td>\n",
       "      <td>5</td>\n",
       "      <td>185</td>\n",
       "      <td>سلطانة</td>\n",
       "      <td>20</td>\n",
       "    </tr>\n",
       "    <tr>\n",
       "      <th>3359</th>\n",
       "      <td>3574</td>\n",
       "      <td>3801</td>\n",
       "      <td>2000000</td>\n",
       "      <td>5</td>\n",
       "      <td>5</td>\n",
       "      <td>450</td>\n",
       "      <td>ظهرة لبن</td>\n",
       "      <td>20</td>\n",
       "    </tr>\n",
       "    <tr>\n",
       "      <th>3360</th>\n",
       "      <td>3575</td>\n",
       "      <td>3802</td>\n",
       "      <td>1850000</td>\n",
       "      <td>4</td>\n",
       "      <td>4</td>\n",
       "      <td>625</td>\n",
       "      <td>النظيم</td>\n",
       "      <td>20</td>\n",
       "    </tr>\n",
       "    <tr>\n",
       "      <th>3361</th>\n",
       "      <td>3576</td>\n",
       "      <td>3804</td>\n",
       "      <td>1450000</td>\n",
       "      <td>5</td>\n",
       "      <td>5</td>\n",
       "      <td>750</td>\n",
       "      <td>الشفا</td>\n",
       "      <td>20</td>\n",
       "    </tr>\n",
       "    <tr>\n",
       "      <th>3362</th>\n",
       "      <td>3577</td>\n",
       "      <td>3805</td>\n",
       "      <td>900000</td>\n",
       "      <td>5</td>\n",
       "      <td>5</td>\n",
       "      <td>400</td>\n",
       "      <td>الدار البيضاء</td>\n",
       "      <td>15</td>\n",
       "    </tr>\n",
       "  </tbody>\n",
       "</table>\n",
       "<p>3363 rows × 8 columns</p>\n",
       "</div>"
      ],
      "text/plain": [
       "      Unnamed: 0  Unnamed: 0.1    Price  Num_Of_Bedrooms  Num_Of_Bathrooms  \\\n",
       "0              0             0  1400000                5                 5   \n",
       "1              1             3  1400000                5                 5   \n",
       "2              2             5  2500000                5                 5   \n",
       "3              3             9  2700000                4                 5   \n",
       "4              4            10  3000000                7                 5   \n",
       "...          ...           ...      ...              ...               ...   \n",
       "3358        3573          3800   300000                5                 5   \n",
       "3359        3574          3801  2000000                5                 5   \n",
       "3360        3575          3802  1850000                4                 4   \n",
       "3361        3576          3804  1450000                5                 5   \n",
       "3362        3577          3805   900000                5                 5   \n",
       "\n",
       "      Size(m²)       District  StreetWidth  \n",
       "0          510         الروضة           20  \n",
       "1          375       المنصورة           15  \n",
       "2          700         المنار           36  \n",
       "3          375         النرجس           15  \n",
       "4          600        اليرموك           20  \n",
       "...        ...            ...          ...  \n",
       "3358       185         سلطانة           20  \n",
       "3359       450       ظهرة لبن           20  \n",
       "3360       625         النظيم           20  \n",
       "3361       750          الشفا           20  \n",
       "3362       400  الدار البيضاء           15  \n",
       "\n",
       "[3363 rows x 8 columns]"
      ]
     },
     "execution_count": 9,
     "metadata": {},
     "output_type": "execute_result"
    }
   ],
   "source": [
    "Sale_DF.loc[~(Sale_DF==0).all(axis=1)]"
   ]
  },
  {
   "cell_type": "code",
   "execution_count": 10,
   "id": "2c215294",
   "metadata": {},
   "outputs": [
    {
     "data": {
      "text/plain": [
       "Unnamed: 0          False\n",
       "Unnamed: 0.1        False\n",
       "Price                True\n",
       "Num_Of_Bedrooms      True\n",
       "Num_Of_Bathrooms     True\n",
       "Size(m²)             True\n",
       "District             True\n",
       "StreetWidth          True\n",
       "dtype: bool"
      ]
     },
     "execution_count": 10,
     "metadata": {},
     "output_type": "execute_result"
    }
   ],
   "source": [
    "#check for zero value and saved in other DF\n",
    "Sale_DF2 = Sale_DF.all()\n",
    "Sale_DF2"
   ]
  },
  {
   "cell_type": "code",
   "execution_count": 11,
   "id": "c1c31d06",
   "metadata": {},
   "outputs": [
    {
     "data": {
      "text/html": [
       "<div>\n",
       "<style scoped>\n",
       "    .dataframe tbody tr th:only-of-type {\n",
       "        vertical-align: middle;\n",
       "    }\n",
       "\n",
       "    .dataframe tbody tr th {\n",
       "        vertical-align: top;\n",
       "    }\n",
       "\n",
       "    .dataframe thead th {\n",
       "        text-align: right;\n",
       "    }\n",
       "</style>\n",
       "<table border=\"1\" class=\"dataframe\">\n",
       "  <thead>\n",
       "    <tr style=\"text-align: right;\">\n",
       "      <th></th>\n",
       "      <th>Unnamed: 0</th>\n",
       "      <th>Unnamed: 0.1</th>\n",
       "      <th>Price</th>\n",
       "      <th>Num_Of_Bedrooms</th>\n",
       "      <th>Num_Of_Bathrooms</th>\n",
       "      <th>Size(m²)</th>\n",
       "      <th>District</th>\n",
       "      <th>StreetWidth</th>\n",
       "    </tr>\n",
       "  </thead>\n",
       "  <tbody>\n",
       "    <tr>\n",
       "      <th>0</th>\n",
       "      <td>0</td>\n",
       "      <td>0</td>\n",
       "      <td>1400000</td>\n",
       "      <td>5</td>\n",
       "      <td>5</td>\n",
       "      <td>510</td>\n",
       "      <td>الروضة</td>\n",
       "      <td>20</td>\n",
       "    </tr>\n",
       "    <tr>\n",
       "      <th>1</th>\n",
       "      <td>1</td>\n",
       "      <td>3</td>\n",
       "      <td>1400000</td>\n",
       "      <td>5</td>\n",
       "      <td>5</td>\n",
       "      <td>375</td>\n",
       "      <td>المنصورة</td>\n",
       "      <td>15</td>\n",
       "    </tr>\n",
       "    <tr>\n",
       "      <th>2</th>\n",
       "      <td>2</td>\n",
       "      <td>5</td>\n",
       "      <td>2500000</td>\n",
       "      <td>5</td>\n",
       "      <td>5</td>\n",
       "      <td>700</td>\n",
       "      <td>المنار</td>\n",
       "      <td>36</td>\n",
       "    </tr>\n",
       "    <tr>\n",
       "      <th>3</th>\n",
       "      <td>3</td>\n",
       "      <td>9</td>\n",
       "      <td>2700000</td>\n",
       "      <td>4</td>\n",
       "      <td>5</td>\n",
       "      <td>375</td>\n",
       "      <td>النرجس</td>\n",
       "      <td>15</td>\n",
       "    </tr>\n",
       "    <tr>\n",
       "      <th>4</th>\n",
       "      <td>4</td>\n",
       "      <td>10</td>\n",
       "      <td>3000000</td>\n",
       "      <td>7</td>\n",
       "      <td>5</td>\n",
       "      <td>600</td>\n",
       "      <td>اليرموك</td>\n",
       "      <td>20</td>\n",
       "    </tr>\n",
       "  </tbody>\n",
       "</table>\n",
       "</div>"
      ],
      "text/plain": [
       "   Unnamed: 0  Unnamed: 0.1    Price  Num_Of_Bedrooms  Num_Of_Bathrooms  \\\n",
       "0           0             0  1400000                5                 5   \n",
       "1           1             3  1400000                5                 5   \n",
       "2           2             5  2500000                5                 5   \n",
       "3           3             9  2700000                4                 5   \n",
       "4           4            10  3000000                7                 5   \n",
       "\n",
       "   Size(m²)  District  StreetWidth  \n",
       "0       510    الروضة           20  \n",
       "1       375  المنصورة           15  \n",
       "2       700    المنار           36  \n",
       "3       375    النرجس           15  \n",
       "4       600   اليرموك           20  "
      ]
     },
     "execution_count": 11,
     "metadata": {},
     "output_type": "execute_result"
    }
   ],
   "source": [
    "Sale_DF.head()"
   ]
  },
  {
   "cell_type": "code",
   "execution_count": 12,
   "id": "8819871c",
   "metadata": {},
   "outputs": [
    {
     "data": {
      "text/html": [
       "<div>\n",
       "<style scoped>\n",
       "    .dataframe tbody tr th:only-of-type {\n",
       "        vertical-align: middle;\n",
       "    }\n",
       "\n",
       "    .dataframe tbody tr th {\n",
       "        vertical-align: top;\n",
       "    }\n",
       "\n",
       "    .dataframe thead th {\n",
       "        text-align: right;\n",
       "    }\n",
       "</style>\n",
       "<table border=\"1\" class=\"dataframe\">\n",
       "  <thead>\n",
       "    <tr style=\"text-align: right;\">\n",
       "      <th></th>\n",
       "      <th>Unnamed: 0</th>\n",
       "      <th>Unnamed: 0.1</th>\n",
       "      <th>Price</th>\n",
       "      <th>Num_Of_Bedrooms</th>\n",
       "      <th>Num_Of_Bathrooms</th>\n",
       "      <th>Size(m²)</th>\n",
       "      <th>District</th>\n",
       "      <th>StreetWidth</th>\n",
       "    </tr>\n",
       "  </thead>\n",
       "  <tbody>\n",
       "    <tr>\n",
       "      <th>72</th>\n",
       "      <td>74</td>\n",
       "      <td>157</td>\n",
       "      <td>1250000</td>\n",
       "      <td>5</td>\n",
       "      <td>5</td>\n",
       "      <td>270</td>\n",
       "      <td>طويق</td>\n",
       "      <td>20</td>\n",
       "    </tr>\n",
       "    <tr>\n",
       "      <th>318</th>\n",
       "      <td>329</td>\n",
       "      <td>611</td>\n",
       "      <td>1000000</td>\n",
       "      <td>3</td>\n",
       "      <td>4</td>\n",
       "      <td>375</td>\n",
       "      <td>الحزم</td>\n",
       "      <td>16</td>\n",
       "    </tr>\n",
       "    <tr>\n",
       "      <th>978</th>\n",
       "      <td>1017</td>\n",
       "      <td>1850</td>\n",
       "      <td>2800000</td>\n",
       "      <td>7</td>\n",
       "      <td>4</td>\n",
       "      <td>672</td>\n",
       "      <td>الازدهار</td>\n",
       "      <td>15</td>\n",
       "    </tr>\n",
       "    <tr>\n",
       "      <th>1222</th>\n",
       "      <td>1288</td>\n",
       "      <td>524</td>\n",
       "      <td>780000</td>\n",
       "      <td>5</td>\n",
       "      <td>4</td>\n",
       "      <td>455</td>\n",
       "      <td>الدار البيضاء</td>\n",
       "      <td>15</td>\n",
       "    </tr>\n",
       "    <tr>\n",
       "      <th>1286</th>\n",
       "      <td>1359</td>\n",
       "      <td>697</td>\n",
       "      <td>250000</td>\n",
       "      <td>5</td>\n",
       "      <td>5</td>\n",
       "      <td>150</td>\n",
       "      <td>غبيرة</td>\n",
       "      <td>5</td>\n",
       "    </tr>\n",
       "  </tbody>\n",
       "</table>\n",
       "</div>"
      ],
      "text/plain": [
       "      Unnamed: 0  Unnamed: 0.1    Price  Num_Of_Bedrooms  Num_Of_Bathrooms  \\\n",
       "72            74           157  1250000                5                 5   \n",
       "318          329           611  1000000                3                 4   \n",
       "978         1017          1850  2800000                7                 4   \n",
       "1222        1288           524   780000                5                 4   \n",
       "1286        1359           697   250000                5                 5   \n",
       "\n",
       "      Size(m²)       District  StreetWidth  \n",
       "72         270           طويق           20  \n",
       "318        375          الحزم           16  \n",
       "978        672       الازدهار           15  \n",
       "1222       455  الدار البيضاء           15  \n",
       "1286       150          غبيرة            5  "
      ]
     },
     "execution_count": 12,
     "metadata": {},
     "output_type": "execute_result"
    }
   ],
   "source": [
    "Sale_DF.sample(5)"
   ]
  },
  {
   "cell_type": "code",
   "execution_count": 13,
   "id": "22b730a8",
   "metadata": {
    "scrolled": true
   },
   "outputs": [
    {
     "data": {
      "text/html": [
       "<div>\n",
       "<style scoped>\n",
       "    .dataframe tbody tr th:only-of-type {\n",
       "        vertical-align: middle;\n",
       "    }\n",
       "\n",
       "    .dataframe tbody tr th {\n",
       "        vertical-align: top;\n",
       "    }\n",
       "\n",
       "    .dataframe thead th {\n",
       "        text-align: right;\n",
       "    }\n",
       "</style>\n",
       "<table border=\"1\" class=\"dataframe\">\n",
       "  <thead>\n",
       "    <tr style=\"text-align: right;\">\n",
       "      <th></th>\n",
       "      <th>Unnamed: 0</th>\n",
       "      <th>Unnamed: 0.1</th>\n",
       "      <th>Price</th>\n",
       "      <th>Num_Of_Bedrooms</th>\n",
       "      <th>Num_Of_Bathrooms</th>\n",
       "      <th>Size(m²)</th>\n",
       "      <th>District</th>\n",
       "      <th>StreetWidth</th>\n",
       "    </tr>\n",
       "  </thead>\n",
       "  <tbody>\n",
       "    <tr>\n",
       "      <th>3358</th>\n",
       "      <td>3573</td>\n",
       "      <td>3800</td>\n",
       "      <td>300000</td>\n",
       "      <td>5</td>\n",
       "      <td>5</td>\n",
       "      <td>185</td>\n",
       "      <td>سلطانة</td>\n",
       "      <td>20</td>\n",
       "    </tr>\n",
       "    <tr>\n",
       "      <th>3359</th>\n",
       "      <td>3574</td>\n",
       "      <td>3801</td>\n",
       "      <td>2000000</td>\n",
       "      <td>5</td>\n",
       "      <td>5</td>\n",
       "      <td>450</td>\n",
       "      <td>ظهرة لبن</td>\n",
       "      <td>20</td>\n",
       "    </tr>\n",
       "    <tr>\n",
       "      <th>3360</th>\n",
       "      <td>3575</td>\n",
       "      <td>3802</td>\n",
       "      <td>1850000</td>\n",
       "      <td>4</td>\n",
       "      <td>4</td>\n",
       "      <td>625</td>\n",
       "      <td>النظيم</td>\n",
       "      <td>20</td>\n",
       "    </tr>\n",
       "    <tr>\n",
       "      <th>3361</th>\n",
       "      <td>3576</td>\n",
       "      <td>3804</td>\n",
       "      <td>1450000</td>\n",
       "      <td>5</td>\n",
       "      <td>5</td>\n",
       "      <td>750</td>\n",
       "      <td>الشفا</td>\n",
       "      <td>20</td>\n",
       "    </tr>\n",
       "    <tr>\n",
       "      <th>3362</th>\n",
       "      <td>3577</td>\n",
       "      <td>3805</td>\n",
       "      <td>900000</td>\n",
       "      <td>5</td>\n",
       "      <td>5</td>\n",
       "      <td>400</td>\n",
       "      <td>الدار البيضاء</td>\n",
       "      <td>15</td>\n",
       "    </tr>\n",
       "  </tbody>\n",
       "</table>\n",
       "</div>"
      ],
      "text/plain": [
       "      Unnamed: 0  Unnamed: 0.1    Price  Num_Of_Bedrooms  Num_Of_Bathrooms  \\\n",
       "3358        3573          3800   300000                5                 5   \n",
       "3359        3574          3801  2000000                5                 5   \n",
       "3360        3575          3802  1850000                4                 4   \n",
       "3361        3576          3804  1450000                5                 5   \n",
       "3362        3577          3805   900000                5                 5   \n",
       "\n",
       "      Size(m²)       District  StreetWidth  \n",
       "3358       185         سلطانة           20  \n",
       "3359       450       ظهرة لبن           20  \n",
       "3360       625         النظيم           20  \n",
       "3361       750          الشفا           20  \n",
       "3362       400  الدار البيضاء           15  "
      ]
     },
     "execution_count": 13,
     "metadata": {},
     "output_type": "execute_result"
    }
   ],
   "source": [
    "Sale_DF.tail()"
   ]
  },
  {
   "cell_type": "code",
   "execution_count": 14,
   "id": "c3e722e8",
   "metadata": {},
   "outputs": [
    {
     "name": "stdout",
     "output_type": "stream",
     "text": [
      "<class 'pandas.core.frame.DataFrame'>\n",
      "Int64Index: 3363 entries, 0 to 3362\n",
      "Data columns (total 8 columns):\n",
      " #   Column            Non-Null Count  Dtype \n",
      "---  ------            --------------  ----- \n",
      " 0   Unnamed: 0        3363 non-null   int64 \n",
      " 1   Unnamed: 0.1      3363 non-null   int64 \n",
      " 2   Price             3363 non-null   int64 \n",
      " 3   Num_Of_Bedrooms   3363 non-null   int64 \n",
      " 4   Num_Of_Bathrooms  3363 non-null   int64 \n",
      " 5   Size(m²)          3363 non-null   int64 \n",
      " 6   District          3363 non-null   object\n",
      " 7   StreetWidth       3363 non-null   int64 \n",
      "dtypes: int64(7), object(1)\n",
      "memory usage: 236.5+ KB\n"
     ]
    }
   ],
   "source": [
    "Sale_DF.info()"
   ]
  },
  {
   "cell_type": "markdown",
   "id": "aae1e562",
   "metadata": {},
   "source": [
    "- \"District\" will be split to name of (الأحياء)"
   ]
  },
  {
   "cell_type": "code",
   "execution_count": 15,
   "id": "8efbd955",
   "metadata": {},
   "outputs": [
    {
     "data": {
      "text/html": [
       "<div>\n",
       "<style scoped>\n",
       "    .dataframe tbody tr th:only-of-type {\n",
       "        vertical-align: middle;\n",
       "    }\n",
       "\n",
       "    .dataframe tbody tr th {\n",
       "        vertical-align: top;\n",
       "    }\n",
       "\n",
       "    .dataframe thead th {\n",
       "        text-align: right;\n",
       "    }\n",
       "</style>\n",
       "<table border=\"1\" class=\"dataframe\">\n",
       "  <thead>\n",
       "    <tr style=\"text-align: right;\">\n",
       "      <th></th>\n",
       "      <th>Unnamed: 0</th>\n",
       "      <th>Unnamed: 0.1</th>\n",
       "      <th>Price</th>\n",
       "      <th>Num_Of_Bedrooms</th>\n",
       "      <th>Num_Of_Bathrooms</th>\n",
       "      <th>Size(m²)</th>\n",
       "      <th>District</th>\n",
       "      <th>StreetWidth</th>\n",
       "    </tr>\n",
       "  </thead>\n",
       "  <tbody>\n",
       "    <tr>\n",
       "      <th>0</th>\n",
       "      <td>0</td>\n",
       "      <td>0</td>\n",
       "      <td>1400000</td>\n",
       "      <td>5</td>\n",
       "      <td>5</td>\n",
       "      <td>510</td>\n",
       "      <td>الروضة</td>\n",
       "      <td>20</td>\n",
       "    </tr>\n",
       "    <tr>\n",
       "      <th>1</th>\n",
       "      <td>1</td>\n",
       "      <td>3</td>\n",
       "      <td>1400000</td>\n",
       "      <td>5</td>\n",
       "      <td>5</td>\n",
       "      <td>375</td>\n",
       "      <td>المنصورة</td>\n",
       "      <td>15</td>\n",
       "    </tr>\n",
       "    <tr>\n",
       "      <th>2</th>\n",
       "      <td>2</td>\n",
       "      <td>5</td>\n",
       "      <td>2500000</td>\n",
       "      <td>5</td>\n",
       "      <td>5</td>\n",
       "      <td>700</td>\n",
       "      <td>المنار</td>\n",
       "      <td>36</td>\n",
       "    </tr>\n",
       "    <tr>\n",
       "      <th>3</th>\n",
       "      <td>3</td>\n",
       "      <td>9</td>\n",
       "      <td>2700000</td>\n",
       "      <td>4</td>\n",
       "      <td>5</td>\n",
       "      <td>375</td>\n",
       "      <td>النرجس</td>\n",
       "      <td>15</td>\n",
       "    </tr>\n",
       "    <tr>\n",
       "      <th>4</th>\n",
       "      <td>4</td>\n",
       "      <td>10</td>\n",
       "      <td>3000000</td>\n",
       "      <td>7</td>\n",
       "      <td>5</td>\n",
       "      <td>600</td>\n",
       "      <td>اليرموك</td>\n",
       "      <td>20</td>\n",
       "    </tr>\n",
       "    <tr>\n",
       "      <th>...</th>\n",
       "      <td>...</td>\n",
       "      <td>...</td>\n",
       "      <td>...</td>\n",
       "      <td>...</td>\n",
       "      <td>...</td>\n",
       "      <td>...</td>\n",
       "      <td>...</td>\n",
       "      <td>...</td>\n",
       "    </tr>\n",
       "    <tr>\n",
       "      <th>3358</th>\n",
       "      <td>3573</td>\n",
       "      <td>3800</td>\n",
       "      <td>300000</td>\n",
       "      <td>5</td>\n",
       "      <td>5</td>\n",
       "      <td>185</td>\n",
       "      <td>سلطانة</td>\n",
       "      <td>20</td>\n",
       "    </tr>\n",
       "    <tr>\n",
       "      <th>3359</th>\n",
       "      <td>3574</td>\n",
       "      <td>3801</td>\n",
       "      <td>2000000</td>\n",
       "      <td>5</td>\n",
       "      <td>5</td>\n",
       "      <td>450</td>\n",
       "      <td>ظهرة لبن</td>\n",
       "      <td>20</td>\n",
       "    </tr>\n",
       "    <tr>\n",
       "      <th>3360</th>\n",
       "      <td>3575</td>\n",
       "      <td>3802</td>\n",
       "      <td>1850000</td>\n",
       "      <td>4</td>\n",
       "      <td>4</td>\n",
       "      <td>625</td>\n",
       "      <td>النظيم</td>\n",
       "      <td>20</td>\n",
       "    </tr>\n",
       "    <tr>\n",
       "      <th>3361</th>\n",
       "      <td>3576</td>\n",
       "      <td>3804</td>\n",
       "      <td>1450000</td>\n",
       "      <td>5</td>\n",
       "      <td>5</td>\n",
       "      <td>750</td>\n",
       "      <td>الشفا</td>\n",
       "      <td>20</td>\n",
       "    </tr>\n",
       "    <tr>\n",
       "      <th>3362</th>\n",
       "      <td>3577</td>\n",
       "      <td>3805</td>\n",
       "      <td>900000</td>\n",
       "      <td>5</td>\n",
       "      <td>5</td>\n",
       "      <td>400</td>\n",
       "      <td>الدار البيضاء</td>\n",
       "      <td>15</td>\n",
       "    </tr>\n",
       "  </tbody>\n",
       "</table>\n",
       "<p>3363 rows × 8 columns</p>\n",
       "</div>"
      ],
      "text/plain": [
       "      Unnamed: 0  Unnamed: 0.1    Price  Num_Of_Bedrooms  Num_Of_Bathrooms  \\\n",
       "0              0             0  1400000                5                 5   \n",
       "1              1             3  1400000                5                 5   \n",
       "2              2             5  2500000                5                 5   \n",
       "3              3             9  2700000                4                 5   \n",
       "4              4            10  3000000                7                 5   \n",
       "...          ...           ...      ...              ...               ...   \n",
       "3358        3573          3800   300000                5                 5   \n",
       "3359        3574          3801  2000000                5                 5   \n",
       "3360        3575          3802  1850000                4                 4   \n",
       "3361        3576          3804  1450000                5                 5   \n",
       "3362        3577          3805   900000                5                 5   \n",
       "\n",
       "      Size(m²)       District  StreetWidth  \n",
       "0          510         الروضة           20  \n",
       "1          375       المنصورة           15  \n",
       "2          700         المنار           36  \n",
       "3          375         النرجس           15  \n",
       "4          600        اليرموك           20  \n",
       "...        ...            ...          ...  \n",
       "3358       185         سلطانة           20  \n",
       "3359       450       ظهرة لبن           20  \n",
       "3360       625         النظيم           20  \n",
       "3361       750          الشفا           20  \n",
       "3362       400  الدار البيضاء           15  \n",
       "\n",
       "[3363 rows x 8 columns]"
      ]
     },
     "execution_count": 15,
     "metadata": {},
     "output_type": "execute_result"
    }
   ],
   "source": [
    "Sale_DF['District'] = Sale_DF['District'].str.split(\" - \", n = 1, expand = True)\n",
    "Sale_DF"
   ]
  },
  {
   "cell_type": "code",
   "execution_count": 16,
   "id": "56b166c2",
   "metadata": {},
   "outputs": [
    {
     "data": {
      "text/html": [
       "<div>\n",
       "<style scoped>\n",
       "    .dataframe tbody tr th:only-of-type {\n",
       "        vertical-align: middle;\n",
       "    }\n",
       "\n",
       "    .dataframe tbody tr th {\n",
       "        vertical-align: top;\n",
       "    }\n",
       "\n",
       "    .dataframe thead th {\n",
       "        text-align: right;\n",
       "    }\n",
       "</style>\n",
       "<table border=\"1\" class=\"dataframe\">\n",
       "  <thead>\n",
       "    <tr style=\"text-align: right;\">\n",
       "      <th></th>\n",
       "      <th>Unnamed: 0</th>\n",
       "      <th>Unnamed: 0.1</th>\n",
       "      <th>Price</th>\n",
       "      <th>Num_Of_Bedrooms</th>\n",
       "      <th>Num_Of_Bathrooms</th>\n",
       "      <th>Size(m²)</th>\n",
       "      <th>District</th>\n",
       "      <th>StreetWidth</th>\n",
       "    </tr>\n",
       "  </thead>\n",
       "  <tbody>\n",
       "    <tr>\n",
       "      <th>0</th>\n",
       "      <td>0</td>\n",
       "      <td>0</td>\n",
       "      <td>1400000</td>\n",
       "      <td>5</td>\n",
       "      <td>5</td>\n",
       "      <td>510</td>\n",
       "      <td>الروضة</td>\n",
       "      <td>20</td>\n",
       "    </tr>\n",
       "    <tr>\n",
       "      <th>1</th>\n",
       "      <td>1</td>\n",
       "      <td>3</td>\n",
       "      <td>1400000</td>\n",
       "      <td>5</td>\n",
       "      <td>5</td>\n",
       "      <td>375</td>\n",
       "      <td>المنصورة</td>\n",
       "      <td>15</td>\n",
       "    </tr>\n",
       "    <tr>\n",
       "      <th>2</th>\n",
       "      <td>2</td>\n",
       "      <td>5</td>\n",
       "      <td>2500000</td>\n",
       "      <td>5</td>\n",
       "      <td>5</td>\n",
       "      <td>700</td>\n",
       "      <td>المنار</td>\n",
       "      <td>36</td>\n",
       "    </tr>\n",
       "    <tr>\n",
       "      <th>3</th>\n",
       "      <td>3</td>\n",
       "      <td>9</td>\n",
       "      <td>2700000</td>\n",
       "      <td>4</td>\n",
       "      <td>5</td>\n",
       "      <td>375</td>\n",
       "      <td>النرجس</td>\n",
       "      <td>15</td>\n",
       "    </tr>\n",
       "    <tr>\n",
       "      <th>4</th>\n",
       "      <td>4</td>\n",
       "      <td>10</td>\n",
       "      <td>3000000</td>\n",
       "      <td>7</td>\n",
       "      <td>5</td>\n",
       "      <td>600</td>\n",
       "      <td>اليرموك</td>\n",
       "      <td>20</td>\n",
       "    </tr>\n",
       "    <tr>\n",
       "      <th>...</th>\n",
       "      <td>...</td>\n",
       "      <td>...</td>\n",
       "      <td>...</td>\n",
       "      <td>...</td>\n",
       "      <td>...</td>\n",
       "      <td>...</td>\n",
       "      <td>...</td>\n",
       "      <td>...</td>\n",
       "    </tr>\n",
       "    <tr>\n",
       "      <th>3358</th>\n",
       "      <td>3573</td>\n",
       "      <td>3800</td>\n",
       "      <td>300000</td>\n",
       "      <td>5</td>\n",
       "      <td>5</td>\n",
       "      <td>185</td>\n",
       "      <td>سلطانة</td>\n",
       "      <td>20</td>\n",
       "    </tr>\n",
       "    <tr>\n",
       "      <th>3359</th>\n",
       "      <td>3574</td>\n",
       "      <td>3801</td>\n",
       "      <td>2000000</td>\n",
       "      <td>5</td>\n",
       "      <td>5</td>\n",
       "      <td>450</td>\n",
       "      <td>ظهرة لبن</td>\n",
       "      <td>20</td>\n",
       "    </tr>\n",
       "    <tr>\n",
       "      <th>3360</th>\n",
       "      <td>3575</td>\n",
       "      <td>3802</td>\n",
       "      <td>1850000</td>\n",
       "      <td>4</td>\n",
       "      <td>4</td>\n",
       "      <td>625</td>\n",
       "      <td>النظيم</td>\n",
       "      <td>20</td>\n",
       "    </tr>\n",
       "    <tr>\n",
       "      <th>3361</th>\n",
       "      <td>3576</td>\n",
       "      <td>3804</td>\n",
       "      <td>1450000</td>\n",
       "      <td>5</td>\n",
       "      <td>5</td>\n",
       "      <td>750</td>\n",
       "      <td>الشفا</td>\n",
       "      <td>20</td>\n",
       "    </tr>\n",
       "    <tr>\n",
       "      <th>3362</th>\n",
       "      <td>3577</td>\n",
       "      <td>3805</td>\n",
       "      <td>900000</td>\n",
       "      <td>5</td>\n",
       "      <td>5</td>\n",
       "      <td>400</td>\n",
       "      <td>الدار البيضاء</td>\n",
       "      <td>15</td>\n",
       "    </tr>\n",
       "  </tbody>\n",
       "</table>\n",
       "<p>3363 rows × 8 columns</p>\n",
       "</div>"
      ],
      "text/plain": [
       "      Unnamed: 0  Unnamed: 0.1    Price  Num_Of_Bedrooms  Num_Of_Bathrooms  \\\n",
       "0              0             0  1400000                5                 5   \n",
       "1              1             3  1400000                5                 5   \n",
       "2              2             5  2500000                5                 5   \n",
       "3              3             9  2700000                4                 5   \n",
       "4              4            10  3000000                7                 5   \n",
       "...          ...           ...      ...              ...               ...   \n",
       "3358        3573          3800   300000                5                 5   \n",
       "3359        3574          3801  2000000                5                 5   \n",
       "3360        3575          3802  1850000                4                 4   \n",
       "3361        3576          3804  1450000                5                 5   \n",
       "3362        3577          3805   900000                5                 5   \n",
       "\n",
       "      Size(m²)       District  StreetWidth  \n",
       "0          510         الروضة           20  \n",
       "1          375       المنصورة           15  \n",
       "2          700         المنار           36  \n",
       "3          375         النرجس           15  \n",
       "4          600        اليرموك           20  \n",
       "...        ...            ...          ...  \n",
       "3358       185         سلطانة           20  \n",
       "3359       450       ظهرة لبن           20  \n",
       "3360       625         النظيم           20  \n",
       "3361       750          الشفا           20  \n",
       "3362       400  الدار البيضاء           15  \n",
       "\n",
       "[3363 rows x 8 columns]"
      ]
     },
     "execution_count": 16,
     "metadata": {},
     "output_type": "execute_result"
    }
   ],
   "source": [
    "Sale_DF['District'] = Sale_DF['District'].str.split(\", \", n = 1, expand = True)\n",
    "Sale_DF"
   ]
  },
  {
   "cell_type": "code",
   "execution_count": 17,
   "id": "7b92f97b",
   "metadata": {},
   "outputs": [
    {
     "data": {
      "text/html": [
       "<div>\n",
       "<style scoped>\n",
       "    .dataframe tbody tr th:only-of-type {\n",
       "        vertical-align: middle;\n",
       "    }\n",
       "\n",
       "    .dataframe tbody tr th {\n",
       "        vertical-align: top;\n",
       "    }\n",
       "\n",
       "    .dataframe thead th {\n",
       "        text-align: right;\n",
       "    }\n",
       "</style>\n",
       "<table border=\"1\" class=\"dataframe\">\n",
       "  <thead>\n",
       "    <tr style=\"text-align: right;\">\n",
       "      <th></th>\n",
       "      <th>Unnamed: 0</th>\n",
       "      <th>Unnamed: 0.1</th>\n",
       "      <th>Price</th>\n",
       "      <th>Num_Of_Bedrooms</th>\n",
       "      <th>Num_Of_Bathrooms</th>\n",
       "      <th>Size(m²)</th>\n",
       "      <th>District</th>\n",
       "      <th>StreetWidth</th>\n",
       "    </tr>\n",
       "  </thead>\n",
       "  <tbody>\n",
       "    <tr>\n",
       "      <th>0</th>\n",
       "      <td>0</td>\n",
       "      <td>0</td>\n",
       "      <td>1400000</td>\n",
       "      <td>5</td>\n",
       "      <td>5</td>\n",
       "      <td>510</td>\n",
       "      <td>الروضة</td>\n",
       "      <td>20</td>\n",
       "    </tr>\n",
       "    <tr>\n",
       "      <th>1</th>\n",
       "      <td>1</td>\n",
       "      <td>3</td>\n",
       "      <td>1400000</td>\n",
       "      <td>5</td>\n",
       "      <td>5</td>\n",
       "      <td>375</td>\n",
       "      <td>المنصورة</td>\n",
       "      <td>15</td>\n",
       "    </tr>\n",
       "    <tr>\n",
       "      <th>2</th>\n",
       "      <td>2</td>\n",
       "      <td>5</td>\n",
       "      <td>2500000</td>\n",
       "      <td>5</td>\n",
       "      <td>5</td>\n",
       "      <td>700</td>\n",
       "      <td>المنار</td>\n",
       "      <td>36</td>\n",
       "    </tr>\n",
       "    <tr>\n",
       "      <th>3</th>\n",
       "      <td>3</td>\n",
       "      <td>9</td>\n",
       "      <td>2700000</td>\n",
       "      <td>4</td>\n",
       "      <td>5</td>\n",
       "      <td>375</td>\n",
       "      <td>النرجس</td>\n",
       "      <td>15</td>\n",
       "    </tr>\n",
       "    <tr>\n",
       "      <th>4</th>\n",
       "      <td>4</td>\n",
       "      <td>10</td>\n",
       "      <td>3000000</td>\n",
       "      <td>7</td>\n",
       "      <td>5</td>\n",
       "      <td>600</td>\n",
       "      <td>اليرموك</td>\n",
       "      <td>20</td>\n",
       "    </tr>\n",
       "    <tr>\n",
       "      <th>...</th>\n",
       "      <td>...</td>\n",
       "      <td>...</td>\n",
       "      <td>...</td>\n",
       "      <td>...</td>\n",
       "      <td>...</td>\n",
       "      <td>...</td>\n",
       "      <td>...</td>\n",
       "      <td>...</td>\n",
       "    </tr>\n",
       "    <tr>\n",
       "      <th>3358</th>\n",
       "      <td>3573</td>\n",
       "      <td>3800</td>\n",
       "      <td>300000</td>\n",
       "      <td>5</td>\n",
       "      <td>5</td>\n",
       "      <td>185</td>\n",
       "      <td>سلطانة</td>\n",
       "      <td>20</td>\n",
       "    </tr>\n",
       "    <tr>\n",
       "      <th>3359</th>\n",
       "      <td>3574</td>\n",
       "      <td>3801</td>\n",
       "      <td>2000000</td>\n",
       "      <td>5</td>\n",
       "      <td>5</td>\n",
       "      <td>450</td>\n",
       "      <td>ظهرة لبن</td>\n",
       "      <td>20</td>\n",
       "    </tr>\n",
       "    <tr>\n",
       "      <th>3360</th>\n",
       "      <td>3575</td>\n",
       "      <td>3802</td>\n",
       "      <td>1850000</td>\n",
       "      <td>4</td>\n",
       "      <td>4</td>\n",
       "      <td>625</td>\n",
       "      <td>النظيم</td>\n",
       "      <td>20</td>\n",
       "    </tr>\n",
       "    <tr>\n",
       "      <th>3361</th>\n",
       "      <td>3576</td>\n",
       "      <td>3804</td>\n",
       "      <td>1450000</td>\n",
       "      <td>5</td>\n",
       "      <td>5</td>\n",
       "      <td>750</td>\n",
       "      <td>الشفا</td>\n",
       "      <td>20</td>\n",
       "    </tr>\n",
       "    <tr>\n",
       "      <th>3362</th>\n",
       "      <td>3577</td>\n",
       "      <td>3805</td>\n",
       "      <td>900000</td>\n",
       "      <td>5</td>\n",
       "      <td>5</td>\n",
       "      <td>400</td>\n",
       "      <td>الدار البيضاء</td>\n",
       "      <td>15</td>\n",
       "    </tr>\n",
       "  </tbody>\n",
       "</table>\n",
       "<p>3363 rows × 8 columns</p>\n",
       "</div>"
      ],
      "text/plain": [
       "      Unnamed: 0  Unnamed: 0.1    Price  Num_Of_Bedrooms  Num_Of_Bathrooms  \\\n",
       "0              0             0  1400000                5                 5   \n",
       "1              1             3  1400000                5                 5   \n",
       "2              2             5  2500000                5                 5   \n",
       "3              3             9  2700000                4                 5   \n",
       "4              4            10  3000000                7                 5   \n",
       "...          ...           ...      ...              ...               ...   \n",
       "3358        3573          3800   300000                5                 5   \n",
       "3359        3574          3801  2000000                5                 5   \n",
       "3360        3575          3802  1850000                4                 4   \n",
       "3361        3576          3804  1450000                5                 5   \n",
       "3362        3577          3805   900000                5                 5   \n",
       "\n",
       "      Size(m²)       District  StreetWidth  \n",
       "0          510         الروضة           20  \n",
       "1          375       المنصورة           15  \n",
       "2          700         المنار           36  \n",
       "3          375         النرجس           15  \n",
       "4          600        اليرموك           20  \n",
       "...        ...            ...          ...  \n",
       "3358       185         سلطانة           20  \n",
       "3359       450       ظهرة لبن           20  \n",
       "3360       625         النظيم           20  \n",
       "3361       750          الشفا           20  \n",
       "3362       400  الدار البيضاء           15  \n",
       "\n",
       "[3363 rows x 8 columns]"
      ]
     },
     "execution_count": 17,
     "metadata": {},
     "output_type": "execute_result"
    }
   ],
   "source": [
    "Sale_DF['District'] = Sale_DF['District'].str.replace(\"حي \", \"\")\n",
    "Sale_DF"
   ]
  },
  {
   "cell_type": "code",
   "execution_count": 18,
   "id": "bfa203e3",
   "metadata": {},
   "outputs": [
    {
     "name": "stdout",
     "output_type": "stream",
     "text": [
      "<class 'pandas.core.frame.DataFrame'>\n",
      "Int64Index: 3363 entries, 0 to 3362\n",
      "Data columns (total 8 columns):\n",
      " #   Column            Non-Null Count  Dtype \n",
      "---  ------            --------------  ----- \n",
      " 0   Unnamed: 0        3363 non-null   int64 \n",
      " 1   Unnamed: 0.1      3363 non-null   int64 \n",
      " 2   Price             3363 non-null   int64 \n",
      " 3   Num_Of_Bedrooms   3363 non-null   int64 \n",
      " 4   Num_Of_Bathrooms  3363 non-null   int64 \n",
      " 5   Size(m²)          3363 non-null   int64 \n",
      " 6   District          3363 non-null   object\n",
      " 7   StreetWidth       3363 non-null   int64 \n",
      "dtypes: int64(7), object(1)\n",
      "memory usage: 236.5+ KB\n"
     ]
    }
   ],
   "source": [
    "Sale_DF.info()"
   ]
  },
  {
   "cell_type": "code",
   "execution_count": 19,
   "id": "34fbc7b6",
   "metadata": {},
   "outputs": [
    {
     "data": {
      "text/plain": [
       "(3363, 8)"
      ]
     },
     "execution_count": 19,
     "metadata": {},
     "output_type": "execute_result"
    }
   ],
   "source": [
    "Sale_DF.shape"
   ]
  },
  {
   "cell_type": "code",
   "execution_count": 20,
   "id": "74d002c2",
   "metadata": {},
   "outputs": [
    {
     "data": {
      "text/html": [
       "<div>\n",
       "<style scoped>\n",
       "    .dataframe tbody tr th:only-of-type {\n",
       "        vertical-align: middle;\n",
       "    }\n",
       "\n",
       "    .dataframe tbody tr th {\n",
       "        vertical-align: top;\n",
       "    }\n",
       "\n",
       "    .dataframe thead th {\n",
       "        text-align: right;\n",
       "    }\n",
       "</style>\n",
       "<table border=\"1\" class=\"dataframe\">\n",
       "  <thead>\n",
       "    <tr style=\"text-align: right;\">\n",
       "      <th></th>\n",
       "      <th>Unnamed: 0</th>\n",
       "      <th>Unnamed: 0.1</th>\n",
       "      <th>Price</th>\n",
       "      <th>Num_Of_Bedrooms</th>\n",
       "      <th>Num_Of_Bathrooms</th>\n",
       "      <th>Size(m²)</th>\n",
       "      <th>District</th>\n",
       "      <th>StreetWidth</th>\n",
       "    </tr>\n",
       "  </thead>\n",
       "  <tbody>\n",
       "    <tr>\n",
       "      <th>371</th>\n",
       "      <td>386</td>\n",
       "      <td>715</td>\n",
       "      <td>1250000</td>\n",
       "      <td>5</td>\n",
       "      <td>5</td>\n",
       "      <td>300</td>\n",
       "      <td>طويق</td>\n",
       "      <td>20</td>\n",
       "    </tr>\n",
       "    <tr>\n",
       "      <th>1713</th>\n",
       "      <td>1836</td>\n",
       "      <td>1931</td>\n",
       "      <td>500000</td>\n",
       "      <td>4</td>\n",
       "      <td>2</td>\n",
       "      <td>120</td>\n",
       "      <td>اليمامة</td>\n",
       "      <td>20</td>\n",
       "    </tr>\n",
       "    <tr>\n",
       "      <th>3253</th>\n",
       "      <td>3461</td>\n",
       "      <td>3683</td>\n",
       "      <td>250000</td>\n",
       "      <td>5</td>\n",
       "      <td>2</td>\n",
       "      <td>158</td>\n",
       "      <td>الشميسي</td>\n",
       "      <td>10</td>\n",
       "    </tr>\n",
       "    <tr>\n",
       "      <th>1219</th>\n",
       "      <td>1285</td>\n",
       "      <td>516</td>\n",
       "      <td>220000</td>\n",
       "      <td>5</td>\n",
       "      <td>3</td>\n",
       "      <td>120</td>\n",
       "      <td>سلطانة</td>\n",
       "      <td>15</td>\n",
       "    </tr>\n",
       "    <tr>\n",
       "      <th>460</th>\n",
       "      <td>478</td>\n",
       "      <td>874</td>\n",
       "      <td>850000</td>\n",
       "      <td>7</td>\n",
       "      <td>5</td>\n",
       "      <td>200</td>\n",
       "      <td>النسيم الشرقي</td>\n",
       "      <td>21</td>\n",
       "    </tr>\n",
       "  </tbody>\n",
       "</table>\n",
       "</div>"
      ],
      "text/plain": [
       "      Unnamed: 0  Unnamed: 0.1    Price  Num_Of_Bedrooms  Num_Of_Bathrooms  \\\n",
       "371          386           715  1250000                5                 5   \n",
       "1713        1836          1931   500000                4                 2   \n",
       "3253        3461          3683   250000                5                 2   \n",
       "1219        1285           516   220000                5                 3   \n",
       "460          478           874   850000                7                 5   \n",
       "\n",
       "      Size(m²)       District  StreetWidth  \n",
       "371        300           طويق           20  \n",
       "1713       120        اليمامة           20  \n",
       "3253       158        الشميسي           10  \n",
       "1219       120         سلطانة           15  \n",
       "460        200  النسيم الشرقي           21  "
      ]
     },
     "execution_count": 20,
     "metadata": {},
     "output_type": "execute_result"
    }
   ],
   "source": [
    "Sale_DF.sample(5)"
   ]
  },
  {
   "cell_type": "markdown",
   "id": "cbcc8f54",
   "metadata": {},
   "source": [
    "- Convert type of (Num_Of_Bedrooms and Num_Of_Bathrooms) from float to int"
   ]
  },
  {
   "cell_type": "code",
   "execution_count": 21,
   "id": "9d2b069e",
   "metadata": {},
   "outputs": [
    {
     "name": "stdout",
     "output_type": "stream",
     "text": [
      "<class 'pandas.core.frame.DataFrame'>\n",
      "Int64Index: 3363 entries, 0 to 3362\n",
      "Data columns (total 8 columns):\n",
      " #   Column            Non-Null Count  Dtype  \n",
      "---  ------            --------------  -----  \n",
      " 0   Unnamed: 0        3363 non-null   int64  \n",
      " 1   Unnamed: 0.1      3363 non-null   int64  \n",
      " 2   Price             3363 non-null   int64  \n",
      " 3   Num_Of_Bedrooms   3363 non-null   float64\n",
      " 4   Num_Of_Bathrooms  3363 non-null   float64\n",
      " 5   Size(m²)          3363 non-null   int64  \n",
      " 6   District          3363 non-null   object \n",
      " 7   StreetWidth       3363 non-null   int64  \n",
      "dtypes: float64(2), int64(5), object(1)\n",
      "memory usage: 236.5+ KB\n"
     ]
    }
   ],
   "source": [
    "Sale_DF['Num_Of_Bedrooms'] = Sale_DF['Num_Of_Bedrooms'].astype(float, errors = 'raise')\n",
    "Sale_DF['Num_Of_Bathrooms'] = Sale_DF['Num_Of_Bathrooms'].astype(float, errors = 'raise')\n",
    "Sale_DF.info()"
   ]
  },
  {
   "cell_type": "markdown",
   "id": "d84933e5",
   "metadata": {},
   "source": [
    "- drop duplicate value"
   ]
  },
  {
   "cell_type": "code",
   "execution_count": 22,
   "id": "281da934",
   "metadata": {},
   "outputs": [
    {
     "data": {
      "text/html": [
       "<div>\n",
       "<style scoped>\n",
       "    .dataframe tbody tr th:only-of-type {\n",
       "        vertical-align: middle;\n",
       "    }\n",
       "\n",
       "    .dataframe tbody tr th {\n",
       "        vertical-align: top;\n",
       "    }\n",
       "\n",
       "    .dataframe thead th {\n",
       "        text-align: right;\n",
       "    }\n",
       "</style>\n",
       "<table border=\"1\" class=\"dataframe\">\n",
       "  <thead>\n",
       "    <tr style=\"text-align: right;\">\n",
       "      <th></th>\n",
       "      <th>Unnamed: 0</th>\n",
       "      <th>Unnamed: 0.1</th>\n",
       "      <th>Price</th>\n",
       "      <th>Num_Of_Bedrooms</th>\n",
       "      <th>Num_Of_Bathrooms</th>\n",
       "      <th>Size(m²)</th>\n",
       "      <th>District</th>\n",
       "      <th>StreetWidth</th>\n",
       "    </tr>\n",
       "  </thead>\n",
       "  <tbody>\n",
       "  </tbody>\n",
       "</table>\n",
       "</div>"
      ],
      "text/plain": [
       "Empty DataFrame\n",
       "Columns: [Unnamed: 0, Unnamed: 0.1, Price, Num_Of_Bedrooms, Num_Of_Bathrooms, Size(m²), District, StreetWidth]\n",
       "Index: []"
      ]
     },
     "execution_count": 22,
     "metadata": {},
     "output_type": "execute_result"
    }
   ],
   "source": [
    "Sale_DF[Sale_DF.index.duplicated()]"
   ]
  },
  {
   "cell_type": "code",
   "execution_count": 23,
   "id": "909f23e4",
   "metadata": {},
   "outputs": [
    {
     "data": {
      "text/plain": [
       "False"
      ]
     },
     "execution_count": 23,
     "metadata": {},
     "output_type": "execute_result"
    }
   ],
   "source": [
    "Sale_DF.columns.duplicated().any()"
   ]
  },
  {
   "cell_type": "code",
   "execution_count": 24,
   "id": "a86734b6",
   "metadata": {},
   "outputs": [],
   "source": [
    "Sale_DF= Sale_DF.loc[~Sale_DF.index.duplicated(), :]"
   ]
  },
  {
   "cell_type": "code",
   "execution_count": 25,
   "id": "cedcb172",
   "metadata": {},
   "outputs": [
    {
     "data": {
      "text/plain": [
       "(3363, 8)"
      ]
     },
     "execution_count": 25,
     "metadata": {},
     "output_type": "execute_result"
    }
   ],
   "source": [
    "Sale_DF.shape"
   ]
  },
  {
   "cell_type": "code",
   "execution_count": 26,
   "id": "19b4790a",
   "metadata": {},
   "outputs": [
    {
     "data": {
      "text/html": [
       "<div>\n",
       "<style scoped>\n",
       "    .dataframe tbody tr th:only-of-type {\n",
       "        vertical-align: middle;\n",
       "    }\n",
       "\n",
       "    .dataframe tbody tr th {\n",
       "        vertical-align: top;\n",
       "    }\n",
       "\n",
       "    .dataframe thead th {\n",
       "        text-align: right;\n",
       "    }\n",
       "</style>\n",
       "<table border=\"1\" class=\"dataframe\">\n",
       "  <thead>\n",
       "    <tr style=\"text-align: right;\">\n",
       "      <th></th>\n",
       "      <th>Unnamed: 0</th>\n",
       "      <th>Unnamed: 0.1</th>\n",
       "      <th>Price</th>\n",
       "      <th>Num_Of_Bedrooms</th>\n",
       "      <th>Num_Of_Bathrooms</th>\n",
       "      <th>Size(m²)</th>\n",
       "      <th>StreetWidth</th>\n",
       "    </tr>\n",
       "  </thead>\n",
       "  <tbody>\n",
       "    <tr>\n",
       "      <th>count</th>\n",
       "      <td>3363.000000</td>\n",
       "      <td>3363.000000</td>\n",
       "      <td>3.363000e+03</td>\n",
       "      <td>3363.000000</td>\n",
       "      <td>3363.000000</td>\n",
       "      <td>3363.000000</td>\n",
       "      <td>3363.000000</td>\n",
       "    </tr>\n",
       "    <tr>\n",
       "      <th>mean</th>\n",
       "      <td>1787.340172</td>\n",
       "      <td>1915.683021</td>\n",
       "      <td>1.250782e+06</td>\n",
       "      <td>4.804044</td>\n",
       "      <td>4.250966</td>\n",
       "      <td>376.595599</td>\n",
       "      <td>15.496878</td>\n",
       "    </tr>\n",
       "    <tr>\n",
       "      <th>std</th>\n",
       "      <td>1039.769783</td>\n",
       "      <td>1097.805026</td>\n",
       "      <td>7.361113e+05</td>\n",
       "      <td>0.774724</td>\n",
       "      <td>1.041692</td>\n",
       "      <td>185.257155</td>\n",
       "      <td>6.728629</td>\n",
       "    </tr>\n",
       "    <tr>\n",
       "      <th>min</th>\n",
       "      <td>0.000000</td>\n",
       "      <td>0.000000</td>\n",
       "      <td>1.600000e+05</td>\n",
       "      <td>1.000000</td>\n",
       "      <td>1.000000</td>\n",
       "      <td>106.000000</td>\n",
       "      <td>1.000000</td>\n",
       "    </tr>\n",
       "    <tr>\n",
       "      <th>25%</th>\n",
       "      <td>873.500000</td>\n",
       "      <td>971.500000</td>\n",
       "      <td>7.800000e+05</td>\n",
       "      <td>5.000000</td>\n",
       "      <td>4.000000</td>\n",
       "      <td>253.000000</td>\n",
       "      <td>10.000000</td>\n",
       "    </tr>\n",
       "    <tr>\n",
       "      <th>50%</th>\n",
       "      <td>1801.000000</td>\n",
       "      <td>1917.000000</td>\n",
       "      <td>1.190000e+06</td>\n",
       "      <td>5.000000</td>\n",
       "      <td>5.000000</td>\n",
       "      <td>362.000000</td>\n",
       "      <td>15.000000</td>\n",
       "    </tr>\n",
       "    <tr>\n",
       "      <th>75%</th>\n",
       "      <td>2689.500000</td>\n",
       "      <td>2870.500000</td>\n",
       "      <td>1.700000e+06</td>\n",
       "      <td>5.000000</td>\n",
       "      <td>5.000000</td>\n",
       "      <td>450.000000</td>\n",
       "      <td>20.000000</td>\n",
       "    </tr>\n",
       "    <tr>\n",
       "      <th>max</th>\n",
       "      <td>3577.000000</td>\n",
       "      <td>3805.000000</td>\n",
       "      <td>4.400000e+06</td>\n",
       "      <td>7.000000</td>\n",
       "      <td>5.000000</td>\n",
       "      <td>1040.000000</td>\n",
       "      <td>100.000000</td>\n",
       "    </tr>\n",
       "  </tbody>\n",
       "</table>\n",
       "</div>"
      ],
      "text/plain": [
       "        Unnamed: 0  Unnamed: 0.1         Price  Num_Of_Bedrooms  \\\n",
       "count  3363.000000   3363.000000  3.363000e+03      3363.000000   \n",
       "mean   1787.340172   1915.683021  1.250782e+06         4.804044   \n",
       "std    1039.769783   1097.805026  7.361113e+05         0.774724   \n",
       "min       0.000000      0.000000  1.600000e+05         1.000000   \n",
       "25%     873.500000    971.500000  7.800000e+05         5.000000   \n",
       "50%    1801.000000   1917.000000  1.190000e+06         5.000000   \n",
       "75%    2689.500000   2870.500000  1.700000e+06         5.000000   \n",
       "max    3577.000000   3805.000000  4.400000e+06         7.000000   \n",
       "\n",
       "       Num_Of_Bathrooms     Size(m²)  StreetWidth  \n",
       "count       3363.000000  3363.000000  3363.000000  \n",
       "mean           4.250966   376.595599    15.496878  \n",
       "std            1.041692   185.257155     6.728629  \n",
       "min            1.000000   106.000000     1.000000  \n",
       "25%            4.000000   253.000000    10.000000  \n",
       "50%            5.000000   362.000000    15.000000  \n",
       "75%            5.000000   450.000000    20.000000  \n",
       "max            5.000000  1040.000000   100.000000  "
      ]
     },
     "execution_count": 26,
     "metadata": {},
     "output_type": "execute_result"
    }
   ],
   "source": [
    "Sale_DF.describe()"
   ]
  },
  {
   "cell_type": "markdown",
   "id": "b3dc553e",
   "metadata": {},
   "source": [
    "# OUTLIERS"
   ]
  },
  {
   "cell_type": "code",
   "execution_count": 27,
   "id": "4de3988b",
   "metadata": {},
   "outputs": [],
   "source": [
    "min_q, max_q = 0.01, 0.999\n",
    "def feature_outlier_removal(data, feature, min_q, max_q):\n",
    "    feature_min_outlier_mask = data[feature] > data[feature].quantile(min_q)\n",
    "    feature_max_outlier_mask = data[feature] < data[feature].quantile(max_q)\n",
    "    data = data[(feature_min_outlier_mask) & (feature_max_outlier_mask)]\n",
    "    print(feature, \"min: \", min(data[feature]))\n",
    "    print(feature, \"max: \", max(data[feature]))\n",
    "    return data"
   ]
  },
  {
   "cell_type": "code",
   "execution_count": 28,
   "id": "fc896346",
   "metadata": {},
   "outputs": [
    {
     "name": "stdout",
     "output_type": "stream",
     "text": [
      "Price min:  180000\n",
      "Price max:  3450000\n"
     ]
    }
   ],
   "source": [
    "Sale_DF = feature_outlier_removal(Sale_DF, \"Price\", 0.01, 0.99)"
   ]
  },
  {
   "cell_type": "code",
   "execution_count": 29,
   "id": "08d3d1f5",
   "metadata": {},
   "outputs": [
    {
     "name": "stdout",
     "output_type": "stream",
     "text": [
      "Size(m²) min:  125\n",
      "Size(m²) max:  933\n"
     ]
    }
   ],
   "source": [
    "Sale_DF = feature_outlier_removal(Sale_DF, \"Size(m²)\", 0.03, 0.999)"
   ]
  },
  {
   "cell_type": "code",
   "execution_count": 30,
   "id": "969bb18c",
   "metadata": {},
   "outputs": [
    {
     "name": "stdout",
     "output_type": "stream",
     "text": [
      "<class 'pandas.core.frame.DataFrame'>\n",
      "Int64Index: 3033 entries, 0 to 3362\n",
      "Data columns (total 8 columns):\n",
      " #   Column            Non-Null Count  Dtype  \n",
      "---  ------            --------------  -----  \n",
      " 0   Unnamed: 0        3033 non-null   int64  \n",
      " 1   Unnamed: 0.1      3033 non-null   int64  \n",
      " 2   Price             3033 non-null   int64  \n",
      " 3   Num_Of_Bedrooms   3033 non-null   float64\n",
      " 4   Num_Of_Bathrooms  3033 non-null   float64\n",
      " 5   Size(m²)          3033 non-null   int64  \n",
      " 6   District          3033 non-null   object \n",
      " 7   StreetWidth       3033 non-null   int64  \n",
      "dtypes: float64(2), int64(5), object(1)\n",
      "memory usage: 213.3+ KB\n"
     ]
    }
   ],
   "source": [
    "Sale_DF.info()"
   ]
  },
  {
   "cell_type": "code",
   "execution_count": 31,
   "id": "6e72637e",
   "metadata": {},
   "outputs": [
    {
     "data": {
      "text/html": [
       "<div>\n",
       "<style scoped>\n",
       "    .dataframe tbody tr th:only-of-type {\n",
       "        vertical-align: middle;\n",
       "    }\n",
       "\n",
       "    .dataframe tbody tr th {\n",
       "        vertical-align: top;\n",
       "    }\n",
       "\n",
       "    .dataframe thead th {\n",
       "        text-align: right;\n",
       "    }\n",
       "</style>\n",
       "<table border=\"1\" class=\"dataframe\">\n",
       "  <thead>\n",
       "    <tr style=\"text-align: right;\">\n",
       "      <th></th>\n",
       "      <th>Unnamed: 0</th>\n",
       "      <th>Unnamed: 0.1</th>\n",
       "      <th>Price</th>\n",
       "      <th>Num_Of_Bedrooms</th>\n",
       "      <th>Num_Of_Bathrooms</th>\n",
       "      <th>Size(m²)</th>\n",
       "      <th>StreetWidth</th>\n",
       "    </tr>\n",
       "  </thead>\n",
       "  <tbody>\n",
       "    <tr>\n",
       "      <th>count</th>\n",
       "      <td>3033.000000</td>\n",
       "      <td>3033.000000</td>\n",
       "      <td>3.033000e+03</td>\n",
       "      <td>3033.000000</td>\n",
       "      <td>3033.000000</td>\n",
       "      <td>3033.000000</td>\n",
       "      <td>3033.000000</td>\n",
       "    </tr>\n",
       "    <tr>\n",
       "      <th>mean</th>\n",
       "      <td>1742.935048</td>\n",
       "      <td>1877.796571</td>\n",
       "      <td>1.292126e+06</td>\n",
       "      <td>4.841081</td>\n",
       "      <td>4.377184</td>\n",
       "      <td>396.580613</td>\n",
       "      <td>15.562479</td>\n",
       "    </tr>\n",
       "    <tr>\n",
       "      <th>std</th>\n",
       "      <td>1041.768273</td>\n",
       "      <td>1093.716424</td>\n",
       "      <td>6.516455e+05</td>\n",
       "      <td>0.782687</td>\n",
       "      <td>0.956594</td>\n",
       "      <td>172.558600</td>\n",
       "      <td>6.619124</td>\n",
       "    </tr>\n",
       "    <tr>\n",
       "      <th>min</th>\n",
       "      <td>0.000000</td>\n",
       "      <td>0.000000</td>\n",
       "      <td>1.800000e+05</td>\n",
       "      <td>1.000000</td>\n",
       "      <td>1.000000</td>\n",
       "      <td>125.000000</td>\n",
       "      <td>1.000000</td>\n",
       "    </tr>\n",
       "    <tr>\n",
       "      <th>25%</th>\n",
       "      <td>821.000000</td>\n",
       "      <td>942.000000</td>\n",
       "      <td>8.700000e+05</td>\n",
       "      <td>5.000000</td>\n",
       "      <td>4.000000</td>\n",
       "      <td>280.000000</td>\n",
       "      <td>10.000000</td>\n",
       "    </tr>\n",
       "    <tr>\n",
       "      <th>50%</th>\n",
       "      <td>1740.000000</td>\n",
       "      <td>1852.000000</td>\n",
       "      <td>1.250000e+06</td>\n",
       "      <td>5.000000</td>\n",
       "      <td>5.000000</td>\n",
       "      <td>375.000000</td>\n",
       "      <td>15.000000</td>\n",
       "    </tr>\n",
       "    <tr>\n",
       "      <th>75%</th>\n",
       "      <td>2649.000000</td>\n",
       "      <td>2828.000000</td>\n",
       "      <td>1.700000e+06</td>\n",
       "      <td>5.000000</td>\n",
       "      <td>5.000000</td>\n",
       "      <td>450.000000</td>\n",
       "      <td>20.000000</td>\n",
       "    </tr>\n",
       "    <tr>\n",
       "      <th>max</th>\n",
       "      <td>3577.000000</td>\n",
       "      <td>3805.000000</td>\n",
       "      <td>3.450000e+06</td>\n",
       "      <td>7.000000</td>\n",
       "      <td>5.000000</td>\n",
       "      <td>933.000000</td>\n",
       "      <td>100.000000</td>\n",
       "    </tr>\n",
       "  </tbody>\n",
       "</table>\n",
       "</div>"
      ],
      "text/plain": [
       "        Unnamed: 0  Unnamed: 0.1         Price  Num_Of_Bedrooms  \\\n",
       "count  3033.000000   3033.000000  3.033000e+03      3033.000000   \n",
       "mean   1742.935048   1877.796571  1.292126e+06         4.841081   \n",
       "std    1041.768273   1093.716424  6.516455e+05         0.782687   \n",
       "min       0.000000      0.000000  1.800000e+05         1.000000   \n",
       "25%     821.000000    942.000000  8.700000e+05         5.000000   \n",
       "50%    1740.000000   1852.000000  1.250000e+06         5.000000   \n",
       "75%    2649.000000   2828.000000  1.700000e+06         5.000000   \n",
       "max    3577.000000   3805.000000  3.450000e+06         7.000000   \n",
       "\n",
       "       Num_Of_Bathrooms     Size(m²)  StreetWidth  \n",
       "count       3033.000000  3033.000000  3033.000000  \n",
       "mean           4.377184   396.580613    15.562479  \n",
       "std            0.956594   172.558600     6.619124  \n",
       "min            1.000000   125.000000     1.000000  \n",
       "25%            4.000000   280.000000    10.000000  \n",
       "50%            5.000000   375.000000    15.000000  \n",
       "75%            5.000000   450.000000    20.000000  \n",
       "max            5.000000   933.000000   100.000000  "
      ]
     },
     "execution_count": 31,
     "metadata": {},
     "output_type": "execute_result"
    }
   ],
   "source": [
    "Sale_DF.describe()"
   ]
  },
  {
   "cell_type": "code",
   "execution_count": 38,
   "id": "1c1ae729",
   "metadata": {},
   "outputs": [
    {
     "data": {
      "text/html": [
       "<div>\n",
       "<style scoped>\n",
       "    .dataframe tbody tr th:only-of-type {\n",
       "        vertical-align: middle;\n",
       "    }\n",
       "\n",
       "    .dataframe tbody tr th {\n",
       "        vertical-align: top;\n",
       "    }\n",
       "\n",
       "    .dataframe thead th {\n",
       "        text-align: right;\n",
       "    }\n",
       "</style>\n",
       "<table border=\"1\" class=\"dataframe\">\n",
       "  <thead>\n",
       "    <tr style=\"text-align: right;\">\n",
       "      <th></th>\n",
       "      <th>Price</th>\n",
       "      <th>Num_Of_Bedrooms</th>\n",
       "      <th>Num_Of_Bathrooms</th>\n",
       "      <th>Size(m²)</th>\n",
       "      <th>District</th>\n",
       "      <th>StreetWidth</th>\n",
       "    </tr>\n",
       "  </thead>\n",
       "  <tbody>\n",
       "    <tr>\n",
       "      <th>0</th>\n",
       "      <td>1400000</td>\n",
       "      <td>5.0</td>\n",
       "      <td>5.0</td>\n",
       "      <td>510</td>\n",
       "      <td>الروضة</td>\n",
       "      <td>20</td>\n",
       "    </tr>\n",
       "    <tr>\n",
       "      <th>1</th>\n",
       "      <td>1400000</td>\n",
       "      <td>5.0</td>\n",
       "      <td>5.0</td>\n",
       "      <td>375</td>\n",
       "      <td>المنصورة</td>\n",
       "      <td>15</td>\n",
       "    </tr>\n",
       "    <tr>\n",
       "      <th>2</th>\n",
       "      <td>2500000</td>\n",
       "      <td>5.0</td>\n",
       "      <td>5.0</td>\n",
       "      <td>700</td>\n",
       "      <td>المنار</td>\n",
       "      <td>36</td>\n",
       "    </tr>\n",
       "    <tr>\n",
       "      <th>3</th>\n",
       "      <td>2700000</td>\n",
       "      <td>4.0</td>\n",
       "      <td>5.0</td>\n",
       "      <td>375</td>\n",
       "      <td>النرجس</td>\n",
       "      <td>15</td>\n",
       "    </tr>\n",
       "    <tr>\n",
       "      <th>4</th>\n",
       "      <td>3000000</td>\n",
       "      <td>7.0</td>\n",
       "      <td>5.0</td>\n",
       "      <td>600</td>\n",
       "      <td>اليرموك</td>\n",
       "      <td>20</td>\n",
       "    </tr>\n",
       "    <tr>\n",
       "      <th>...</th>\n",
       "      <td>...</td>\n",
       "      <td>...</td>\n",
       "      <td>...</td>\n",
       "      <td>...</td>\n",
       "      <td>...</td>\n",
       "      <td>...</td>\n",
       "    </tr>\n",
       "    <tr>\n",
       "      <th>3358</th>\n",
       "      <td>300000</td>\n",
       "      <td>5.0</td>\n",
       "      <td>5.0</td>\n",
       "      <td>185</td>\n",
       "      <td>سلطانة</td>\n",
       "      <td>20</td>\n",
       "    </tr>\n",
       "    <tr>\n",
       "      <th>3359</th>\n",
       "      <td>2000000</td>\n",
       "      <td>5.0</td>\n",
       "      <td>5.0</td>\n",
       "      <td>450</td>\n",
       "      <td>ظهرة لبن</td>\n",
       "      <td>20</td>\n",
       "    </tr>\n",
       "    <tr>\n",
       "      <th>3360</th>\n",
       "      <td>1850000</td>\n",
       "      <td>4.0</td>\n",
       "      <td>4.0</td>\n",
       "      <td>625</td>\n",
       "      <td>النظيم</td>\n",
       "      <td>20</td>\n",
       "    </tr>\n",
       "    <tr>\n",
       "      <th>3361</th>\n",
       "      <td>1450000</td>\n",
       "      <td>5.0</td>\n",
       "      <td>5.0</td>\n",
       "      <td>750</td>\n",
       "      <td>الشفا</td>\n",
       "      <td>20</td>\n",
       "    </tr>\n",
       "    <tr>\n",
       "      <th>3362</th>\n",
       "      <td>900000</td>\n",
       "      <td>5.0</td>\n",
       "      <td>5.0</td>\n",
       "      <td>400</td>\n",
       "      <td>الدار البيضاء</td>\n",
       "      <td>15</td>\n",
       "    </tr>\n",
       "  </tbody>\n",
       "</table>\n",
       "<p>3033 rows × 6 columns</p>\n",
       "</div>"
      ],
      "text/plain": [
       "        Price  Num_Of_Bedrooms  Num_Of_Bathrooms  Size(m²)       District  \\\n",
       "0     1400000              5.0               5.0       510         الروضة   \n",
       "1     1400000              5.0               5.0       375       المنصورة   \n",
       "2     2500000              5.0               5.0       700         المنار   \n",
       "3     2700000              4.0               5.0       375         النرجس   \n",
       "4     3000000              7.0               5.0       600        اليرموك   \n",
       "...       ...              ...               ...       ...            ...   \n",
       "3358   300000              5.0               5.0       185         سلطانة   \n",
       "3359  2000000              5.0               5.0       450       ظهرة لبن   \n",
       "3360  1850000              4.0               4.0       625         النظيم   \n",
       "3361  1450000              5.0               5.0       750          الشفا   \n",
       "3362   900000              5.0               5.0       400  الدار البيضاء   \n",
       "\n",
       "      StreetWidth  \n",
       "0              20  \n",
       "1              15  \n",
       "2              36  \n",
       "3              15  \n",
       "4              20  \n",
       "...           ...  \n",
       "3358           20  \n",
       "3359           20  \n",
       "3360           20  \n",
       "3361           20  \n",
       "3362           15  \n",
       "\n",
       "[3033 rows x 6 columns]"
      ]
     },
     "execution_count": 38,
     "metadata": {},
     "output_type": "execute_result"
    }
   ],
   "source": [
    "Sale_DF.columns=Sale_DF.columns.str.strip()\n",
    "Sale_DF.drop(columns=Sale_DF.columns[0], \n",
    "        axis=1, \n",
    "        inplace=True)\n",
    "Sale_DF"
   ]
  },
  {
   "cell_type": "code",
   "execution_count": 39,
   "id": "84d2fb74",
   "metadata": {},
   "outputs": [
    {
     "data": {
      "image/png": "[encoded data removed]",
      "text/plain": [
       "<Figure size 432x288 with 1 Axes>"
      ]
     },
     "metadata": {},
     "output_type": "display_data"
    }
   ],
   "source": [
    "sns.boxplot(Sale_DF['Price']);"
   ]
  },
  {
   "cell_type": "code",
   "execution_count": 40,
   "id": "0a29dafc",
   "metadata": {},
   "outputs": [
    {
     "data": {
      "image/png": "[encoded data removed]",
      "text/plain": [
       "<Figure size 432x288 with 1 Axes>"
      ]
     },
     "metadata": {},
     "output_type": "display_data"
    }
   ],
   "source": [
    "sns.boxplot(Sale_DF['Size(m²)']);"
   ]
  },
  {
   "cell_type": "code",
   "execution_count": 41,
   "id": "9a485d66",
   "metadata": {},
   "outputs": [
    {
     "data": {
      "text/plain": [
       "<AxesSubplot:xlabel='Price'>"
      ]
     },
     "execution_count": 41,
     "metadata": {},
     "output_type": "execute_result"
    },
    {
     "data": {
      "image/png": "[encoded data removed]",
      "text/plain": [
       "<Figure size 432x288 with 1 Axes>"
      ]
     },
     "metadata": {},
     "output_type": "display_data"
    }
   ],
   "source": [
    "sns.violinplot(Sale_DF['Price'])"
   ]
  },
  {
   "cell_type": "code",
   "execution_count": 42,
   "id": "9f397cd0",
   "metadata": {},
   "outputs": [
    {
     "data": {
      "text/plain": [
       "<AxesSubplot:xlabel='Size(m²)'>"
      ]
     },
     "execution_count": 42,
     "metadata": {},
     "output_type": "execute_result"
    },
    {
     "data": {
      "image/png": "[encoded data removed]",
      "text/plain": [
       "<Figure size 432x288 with 1 Axes>"
      ]
     },
     "metadata": {},
     "output_type": "display_data"
    }
   ],
   "source": [
    "sns.violinplot(Sale_DF['Size(m²)'])"
   ]
  },
  {
   "cell_type": "code",
   "execution_count": 43,
   "id": "7e493151",
   "metadata": {},
   "outputs": [
    {
     "data": {
      "image/png": "[encoded data removed]",
      "text/plain": [
       "<Figure size 720x720 with 6 Axes>"
      ]
     },
     "metadata": {},
     "output_type": "display_data"
    }
   ],
   "source": [
    "# Plot histogram grid\n",
    "Sale_DF.hist(figsize=(10,10), xrot=-45);"
   ]
  },
  {
   "cell_type": "code",
   "execution_count": 44,
   "id": "7f5a3630",
   "metadata": {},
   "outputs": [
    {
     "data": {
      "image/png": "[encoded data removed]",
      "text/plain": [
       "<Figure size 360x360 with 6 Axes>"
      ]
     },
     "metadata": {},
     "output_type": "display_data"
    }
   ],
   "source": [
    "sns.pairplot(Sale_DF[['Size(m²)','Price']][:1000]);"
   ]
  },
  {
   "cell_type": "code",
   "execution_count": 45,
   "id": "e4dadc6b",
   "metadata": {},
   "outputs": [
    {
     "data": {
      "image/png": "[encoded data removed]",
      "text/plain": [
       "<Figure size 432x288 with 1 Axes>"
      ]
     },
     "metadata": {},
     "output_type": "display_data"
    }
   ],
   "source": [
    "sns.distplot(Sale_DF['Price']);"
   ]
  },
  {
   "cell_type": "code",
   "execution_count": 46,
   "id": "c7f84150",
   "metadata": {},
   "outputs": [
    {
     "data": {
      "text/plain": [
       "2300000.0"
      ]
     },
     "execution_count": 46,
     "metadata": {},
     "output_type": "execute_result"
    }
   ],
   "source": [
    "# OUTLIERS\n",
    "q2 = Sale_DF.Price.quantile(q=0.4)\n",
    "q1 = Sale_DF.Price.quantile(q=0.1)\n",
    "IQR = q2 -  q1\n",
    "OUTLIER = q2 + 1.5 * IQR\n",
    "OUTLIER"
   ]
  },
  {
   "cell_type": "code",
   "execution_count": 47,
   "id": "357d198b",
   "metadata": {},
   "outputs": [
    {
     "data": {
      "text/plain": [
       "<AxesSubplot:xlabel='Price'>"
      ]
     },
     "execution_count": 47,
     "metadata": {},
     "output_type": "execute_result"
    },
    {
     "data": {
      "image/png": "[encoded data removed]",
      "text/plain": [
       "<Figure size 432x288 with 1 Axes>"
      ]
     },
     "metadata": {},
     "output_type": "display_data"
    }
   ],
   "source": [
    "#PLOTTING THE BOX PLOT EXCLUDING THE OUTLIERS\n",
    "sns.boxplot( Sale_DF[Sale_DF.Price<=OUTLIER].Price)"
   ]
  },
  {
   "cell_type": "code",
   "execution_count": 48,
   "id": "dd315e97",
   "metadata": {},
   "outputs": [
    {
     "data": {
      "image/png": "[encoded data removed]",
      "text/plain": [
       "<Figure size 432x288 with 1 Axes>"
      ]
     },
     "metadata": {},
     "output_type": "display_data"
    }
   ],
   "source": [
    "plt.boxplot(Sale_DF[\"Price\"])\n",
    "plt.title(\"Box plot to detect the outliers in PRICE\")\n",
    "plt.show()"
   ]
  },
  {
   "cell_type": "code",
   "execution_count": 49,
   "id": "0af91286",
   "metadata": {},
   "outputs": [
    {
     "data": {
      "image/png": "[encoded data removed]",
      "text/plain": [
       "<Figure size 432x288 with 1 Axes>"
      ]
     },
     "metadata": {},
     "output_type": "display_data"
    }
   ],
   "source": [
    "sns.distplot(Sale_DF['Price']);"
   ]
  },
  {
   "cell_type": "code",
   "execution_count": 50,
   "id": "9f8072a4",
   "metadata": {},
   "outputs": [
    {
     "data": {
      "image/png": "[encoded data removed]",
      "text/plain": [
       "<Figure size 432x288 with 1 Axes>"
      ]
     },
     "metadata": {},
     "output_type": "display_data"
    }
   ],
   "source": [
    "sns.distplot(Sale_DF['Size(m²)']);"
   ]
  },
  {
   "cell_type": "code",
   "execution_count": 51,
   "id": "d728aa73",
   "metadata": {},
   "outputs": [
    {
     "data": {
      "image/png": "[encoded data removed]",
      "text/plain": [
       "<Figure size 432x288 with 1 Axes>"
      ]
     },
     "metadata": {},
     "output_type": "display_data"
    }
   ],
   "source": [
    "sns.distplot(Sale_DF['StreetWidth']);"
   ]
  },
  {
   "cell_type": "code",
   "execution_count": 52,
   "id": "435c729c",
   "metadata": {},
   "outputs": [
    {
     "data": {
      "image/png": "[encoded data removed]",
      "text/plain": [
       "<Figure size 432x288 with 1 Axes>"
      ]
     },
     "metadata": {},
     "output_type": "display_data"
    }
   ],
   "source": [
    "sns.distplot(Sale_DF['Num_Of_Bathrooms']);"
   ]
  },
  {
   "cell_type": "code",
   "execution_count": 53,
   "id": "083d3ba0",
   "metadata": {},
   "outputs": [
    {
     "data": {
      "image/png": "[encoded data removed]",
      "text/plain": [
       "<Figure size 432x288 with 1 Axes>"
      ]
     },
     "metadata": {},
     "output_type": "display_data"
    }
   ],
   "source": [
    "sns.distplot(Sale_DF['Num_Of_Bedrooms']);"
   ]
  },
  {
   "cell_type": "code",
   "execution_count": 54,
   "id": "bbc630a6",
   "metadata": {},
   "outputs": [
    {
     "data": {
      "image/png": "[encoded data removed]",
      "text/plain": [
       "<Figure size 432x288 with 1 Axes>"
      ]
     },
     "metadata": {},
     "output_type": "display_data"
    }
   ],
   "source": [
    "sns.distplot(Sale_DF['Price']);"
   ]
  },
  {
   "cell_type": "code",
   "execution_count": 55,
   "id": "3585b9a0",
   "metadata": {},
   "outputs": [
    {
     "data": {
      "text/plain": [
       "طويق              692\n",
       "ظهرة لبن          263\n",
       "الدار البيضاء     197\n",
       "منفوحة الجديدة    172\n",
       "النظيم            157\n",
       "الخليج            123\n",
       "الشميسي           115\n",
       "بنبان             111\n",
       "عكاظ              105\n",
       "القادسية           95\n",
       "Name: District, dtype: int64"
      ]
     },
     "execution_count": 55,
     "metadata": {},
     "output_type": "execute_result"
    }
   ],
   "source": [
    "# top 10\n",
    "Sale_DF['District'].value_counts().head(10)"
   ]
  },
  {
   "cell_type": "code",
   "execution_count": 56,
   "id": "4eff6ce3",
   "metadata": {},
   "outputs": [
    {
     "data": {
      "image/png": "[encoded data removed]",
      "text/plain": [
       "<Figure size 432x288 with 1 Axes>"
      ]
     },
     "metadata": {},
     "output_type": "display_data"
    }
   ],
   "source": [
    "Sale_DF['District'].value_counts()[:10].plot(kind='barh');"
   ]
  },
  {
   "cell_type": "code",
   "execution_count": 57,
   "id": "b8c0ea56",
   "metadata": {},
   "outputs": [
    {
     "data": {
      "text/html": [
       "<div>\n",
       "<style scoped>\n",
       "    .dataframe tbody tr th:only-of-type {\n",
       "        vertical-align: middle;\n",
       "    }\n",
       "\n",
       "    .dataframe tbody tr th {\n",
       "        vertical-align: top;\n",
       "    }\n",
       "\n",
       "    .dataframe thead th {\n",
       "        text-align: right;\n",
       "    }\n",
       "</style>\n",
       "<table border=\"1\" class=\"dataframe\">\n",
       "  <thead>\n",
       "    <tr style=\"text-align: right;\">\n",
       "      <th></th>\n",
       "      <th>District</th>\n",
       "      <th>Price</th>\n",
       "    </tr>\n",
       "  </thead>\n",
       "  <tbody>\n",
       "    <tr>\n",
       "      <th>70</th>\n",
       "      <td>الواحة</td>\n",
       "      <td>3.300000e+06</td>\n",
       "    </tr>\n",
       "    <tr>\n",
       "      <th>68</th>\n",
       "      <td>النفل</td>\n",
       "      <td>3.000000e+06</td>\n",
       "    </tr>\n",
       "    <tr>\n",
       "      <th>46</th>\n",
       "      <td>القدس</td>\n",
       "      <td>2.933333e+06</td>\n",
       "    </tr>\n",
       "    <tr>\n",
       "      <th>74</th>\n",
       "      <td>الياسمين</td>\n",
       "      <td>2.895464e+06</td>\n",
       "    </tr>\n",
       "    <tr>\n",
       "      <th>56</th>\n",
       "      <td>الملقا</td>\n",
       "      <td>2.685714e+06</td>\n",
       "    </tr>\n",
       "    <tr>\n",
       "      <th>97</th>\n",
       "      <td>قرطبة</td>\n",
       "      <td>2.650000e+06</td>\n",
       "    </tr>\n",
       "    <tr>\n",
       "      <th>63</th>\n",
       "      <td>النرجس</td>\n",
       "      <td>2.605278e+06</td>\n",
       "    </tr>\n",
       "    <tr>\n",
       "      <th>51</th>\n",
       "      <td>المروج</td>\n",
       "      <td>2.550000e+06</td>\n",
       "    </tr>\n",
       "    <tr>\n",
       "      <th>59</th>\n",
       "      <td>المنار</td>\n",
       "      <td>2.500000e+06</td>\n",
       "    </tr>\n",
       "    <tr>\n",
       "      <th>5</th>\n",
       "      <td>التعاون</td>\n",
       "      <td>2.408333e+06</td>\n",
       "    </tr>\n",
       "  </tbody>\n",
       "</table>\n",
       "</div>"
      ],
      "text/plain": [
       "    District         Price\n",
       "70    الواحة  3.300000e+06\n",
       "68     النفل  3.000000e+06\n",
       "46     القدس  2.933333e+06\n",
       "74  الياسمين  2.895464e+06\n",
       "56    الملقا  2.685714e+06\n",
       "97     قرطبة  2.650000e+06\n",
       "63    النرجس  2.605278e+06\n",
       "51    المروج  2.550000e+06\n",
       "59    المنار  2.500000e+06\n",
       "5    التعاون  2.408333e+06"
      ]
     },
     "execution_count": 57,
     "metadata": {},
     "output_type": "execute_result"
    }
   ],
   "source": [
    "Top_District =Sale_DF[['District' ,'Price']].groupby('District').mean().reset_index().sort_values(by = 'Price', ascending = False)\n",
    "Top_District.head(10)"
   ]
  },
  {
   "cell_type": "code",
   "execution_count": 58,
   "id": "c71c0448",
   "metadata": {},
   "outputs": [
    {
     "data": {
      "image/png": "[encoded data removed]",
      "text/plain": [
       "<Figure size 432x288 with 1 Axes>"
      ]
     },
     "metadata": {},
     "output_type": "display_data"
    }
   ],
   "source": [
    "sns.barplot(data=Top_District.head(10), x='Price',y='District', palette = 'deep');"
   ]
  },
  {
   "cell_type": "code",
   "execution_count": 59,
   "id": "d5e5f28c",
   "metadata": {},
   "outputs": [
    {
     "data": {
      "text/html": [
       "<div>\n",
       "<style scoped>\n",
       "    .dataframe tbody tr th:only-of-type {\n",
       "        vertical-align: middle;\n",
       "    }\n",
       "\n",
       "    .dataframe tbody tr th {\n",
       "        vertical-align: top;\n",
       "    }\n",
       "\n",
       "    .dataframe thead th {\n",
       "        text-align: right;\n",
       "    }\n",
       "</style>\n",
       "<table border=\"1\" class=\"dataframe\">\n",
       "  <thead>\n",
       "    <tr style=\"text-align: right;\">\n",
       "      <th></th>\n",
       "      <th>Price</th>\n",
       "      <th>Num_Of_Bedrooms</th>\n",
       "      <th>Num_Of_Bathrooms</th>\n",
       "      <th>Size(m²)</th>\n",
       "      <th>StreetWidth</th>\n",
       "    </tr>\n",
       "  </thead>\n",
       "  <tbody>\n",
       "    <tr>\n",
       "      <th>count</th>\n",
       "      <td>3.033000e+03</td>\n",
       "      <td>3033.000000</td>\n",
       "      <td>3033.000000</td>\n",
       "      <td>3033.000000</td>\n",
       "      <td>3033.000000</td>\n",
       "    </tr>\n",
       "    <tr>\n",
       "      <th>mean</th>\n",
       "      <td>1.292126e+06</td>\n",
       "      <td>4.841081</td>\n",
       "      <td>4.377184</td>\n",
       "      <td>396.580613</td>\n",
       "      <td>15.562479</td>\n",
       "    </tr>\n",
       "    <tr>\n",
       "      <th>std</th>\n",
       "      <td>6.516455e+05</td>\n",
       "      <td>0.782687</td>\n",
       "      <td>0.956594</td>\n",
       "      <td>172.558600</td>\n",
       "      <td>6.619124</td>\n",
       "    </tr>\n",
       "    <tr>\n",
       "      <th>min</th>\n",
       "      <td>1.800000e+05</td>\n",
       "      <td>1.000000</td>\n",
       "      <td>1.000000</td>\n",
       "      <td>125.000000</td>\n",
       "      <td>1.000000</td>\n",
       "    </tr>\n",
       "    <tr>\n",
       "      <th>25%</th>\n",
       "      <td>8.700000e+05</td>\n",
       "      <td>5.000000</td>\n",
       "      <td>4.000000</td>\n",
       "      <td>280.000000</td>\n",
       "      <td>10.000000</td>\n",
       "    </tr>\n",
       "    <tr>\n",
       "      <th>50%</th>\n",
       "      <td>1.250000e+06</td>\n",
       "      <td>5.000000</td>\n",
       "      <td>5.000000</td>\n",
       "      <td>375.000000</td>\n",
       "      <td>15.000000</td>\n",
       "    </tr>\n",
       "    <tr>\n",
       "      <th>75%</th>\n",
       "      <td>1.700000e+06</td>\n",
       "      <td>5.000000</td>\n",
       "      <td>5.000000</td>\n",
       "      <td>450.000000</td>\n",
       "      <td>20.000000</td>\n",
       "    </tr>\n",
       "    <tr>\n",
       "      <th>max</th>\n",
       "      <td>3.450000e+06</td>\n",
       "      <td>7.000000</td>\n",
       "      <td>5.000000</td>\n",
       "      <td>933.000000</td>\n",
       "      <td>100.000000</td>\n",
       "    </tr>\n",
       "  </tbody>\n",
       "</table>\n",
       "</div>"
      ],
      "text/plain": [
       "              Price  Num_Of_Bedrooms  Num_Of_Bathrooms     Size(m²)  \\\n",
       "count  3.033000e+03      3033.000000       3033.000000  3033.000000   \n",
       "mean   1.292126e+06         4.841081          4.377184   396.580613   \n",
       "std    6.516455e+05         0.782687          0.956594   172.558600   \n",
       "min    1.800000e+05         1.000000          1.000000   125.000000   \n",
       "25%    8.700000e+05         5.000000          4.000000   280.000000   \n",
       "50%    1.250000e+06         5.000000          5.000000   375.000000   \n",
       "75%    1.700000e+06         5.000000          5.000000   450.000000   \n",
       "max    3.450000e+06         7.000000          5.000000   933.000000   \n",
       "\n",
       "       StreetWidth  \n",
       "count  3033.000000  \n",
       "mean     15.562479  \n",
       "std       6.619124  \n",
       "min       1.000000  \n",
       "25%      10.000000  \n",
       "50%      15.000000  \n",
       "75%      20.000000  \n",
       "max     100.000000  "
      ]
     },
     "execution_count": 59,
     "metadata": {},
     "output_type": "execute_result"
    }
   ],
   "source": [
    "Sale_DF.describe()"
   ]
  },
  {
   "cell_type": "markdown",
   "id": "6c012367",
   "metadata": {},
   "source": [
    "# counting correlation"
   ]
  },
  {
   "cell_type": "code",
   "execution_count": 60,
   "id": "7e63299f",
   "metadata": {},
   "outputs": [
    {
     "data": {
      "text/html": [
       "<div>\n",
       "<style scoped>\n",
       "    .dataframe tbody tr th:only-of-type {\n",
       "        vertical-align: middle;\n",
       "    }\n",
       "\n",
       "    .dataframe tbody tr th {\n",
       "        vertical-align: top;\n",
       "    }\n",
       "\n",
       "    .dataframe thead th {\n",
       "        text-align: right;\n",
       "    }\n",
       "</style>\n",
       "<table border=\"1\" class=\"dataframe\">\n",
       "  <thead>\n",
       "    <tr style=\"text-align: right;\">\n",
       "      <th></th>\n",
       "      <th>Price</th>\n",
       "      <th>Num_Of_Bedrooms</th>\n",
       "      <th>Num_Of_Bathrooms</th>\n",
       "      <th>Size(m²)</th>\n",
       "      <th>StreetWidth</th>\n",
       "    </tr>\n",
       "  </thead>\n",
       "  <tbody>\n",
       "    <tr>\n",
       "      <th>Price</th>\n",
       "      <td>1.000000</td>\n",
       "      <td>-0.015048</td>\n",
       "      <td>0.330657</td>\n",
       "      <td>0.621290</td>\n",
       "      <td>0.043085</td>\n",
       "    </tr>\n",
       "    <tr>\n",
       "      <th>Num_Of_Bedrooms</th>\n",
       "      <td>-0.015048</td>\n",
       "      <td>1.000000</td>\n",
       "      <td>0.244396</td>\n",
       "      <td>0.059411</td>\n",
       "      <td>0.021271</td>\n",
       "    </tr>\n",
       "    <tr>\n",
       "      <th>Num_Of_Bathrooms</th>\n",
       "      <td>0.330657</td>\n",
       "      <td>0.244396</td>\n",
       "      <td>1.000000</td>\n",
       "      <td>0.207231</td>\n",
       "      <td>0.031697</td>\n",
       "    </tr>\n",
       "    <tr>\n",
       "      <th>Size(m²)</th>\n",
       "      <td>0.621290</td>\n",
       "      <td>0.059411</td>\n",
       "      <td>0.207231</td>\n",
       "      <td>1.000000</td>\n",
       "      <td>-0.101476</td>\n",
       "    </tr>\n",
       "    <tr>\n",
       "      <th>StreetWidth</th>\n",
       "      <td>0.043085</td>\n",
       "      <td>0.021271</td>\n",
       "      <td>0.031697</td>\n",
       "      <td>-0.101476</td>\n",
       "      <td>1.000000</td>\n",
       "    </tr>\n",
       "  </tbody>\n",
       "</table>\n",
       "</div>"
      ],
      "text/plain": [
       "                     Price  Num_Of_Bedrooms  Num_Of_Bathrooms  Size(m²)  \\\n",
       "Price             1.000000        -0.015048          0.330657  0.621290   \n",
       "Num_Of_Bedrooms  -0.015048         1.000000          0.244396  0.059411   \n",
       "Num_Of_Bathrooms  0.330657         0.244396          1.000000  0.207231   \n",
       "Size(m²)          0.621290         0.059411          0.207231  1.000000   \n",
       "StreetWidth       0.043085         0.021271          0.031697 -0.101476   \n",
       "\n",
       "                  StreetWidth  \n",
       "Price                0.043085  \n",
       "Num_Of_Bedrooms      0.021271  \n",
       "Num_Of_Bathrooms     0.031697  \n",
       "Size(m²)            -0.101476  \n",
       "StreetWidth          1.000000  "
      ]
     },
     "execution_count": 60,
     "metadata": {},
     "output_type": "execute_result"
    }
   ],
   "source": [
    "Sale_DF.corr()"
   ]
  },
  {
   "cell_type": "code",
   "execution_count": 61,
   "id": "f1dcac44",
   "metadata": {},
   "outputs": [
    {
     "data": {
      "text/html": [
       "<div>\n",
       "<style scoped>\n",
       "    .dataframe tbody tr th:only-of-type {\n",
       "        vertical-align: middle;\n",
       "    }\n",
       "\n",
       "    .dataframe tbody tr th {\n",
       "        vertical-align: top;\n",
       "    }\n",
       "\n",
       "    .dataframe thead th {\n",
       "        text-align: right;\n",
       "    }\n",
       "</style>\n",
       "<table border=\"1\" class=\"dataframe\">\n",
       "  <thead>\n",
       "    <tr style=\"text-align: right;\">\n",
       "      <th></th>\n",
       "      <th>Price</th>\n",
       "      <th>Num_Of_Bedrooms</th>\n",
       "      <th>Num_Of_Bathrooms</th>\n",
       "      <th>Size(m²)</th>\n",
       "      <th>StreetWidth</th>\n",
       "    </tr>\n",
       "  </thead>\n",
       "  <tbody>\n",
       "    <tr>\n",
       "      <th>Price</th>\n",
       "      <td>4.246419e+11</td>\n",
       "      <td>-7674.930638</td>\n",
       "      <td>206118.803694</td>\n",
       "      <td>6.986223e+07</td>\n",
       "      <td>185840.538555</td>\n",
       "    </tr>\n",
       "    <tr>\n",
       "      <th>Num_Of_Bedrooms</th>\n",
       "      <td>-7.674931e+03</td>\n",
       "      <td>0.612599</td>\n",
       "      <td>0.182982</td>\n",
       "      <td>8.024029e+00</td>\n",
       "      <td>0.110196</td>\n",
       "    </tr>\n",
       "    <tr>\n",
       "      <th>Num_Of_Bathrooms</th>\n",
       "      <td>2.061188e+05</td>\n",
       "      <td>0.182982</td>\n",
       "      <td>0.915073</td>\n",
       "      <td>3.420738e+01</td>\n",
       "      <td>0.200700</td>\n",
       "    </tr>\n",
       "    <tr>\n",
       "      <th>Size(m²)</th>\n",
       "      <td>6.986223e+07</td>\n",
       "      <td>8.024029</td>\n",
       "      <td>34.207381</td>\n",
       "      <td>2.977647e+04</td>\n",
       "      <td>-115.904197</td>\n",
       "    </tr>\n",
       "    <tr>\n",
       "      <th>StreetWidth</th>\n",
       "      <td>1.858405e+05</td>\n",
       "      <td>0.110196</td>\n",
       "      <td>0.200700</td>\n",
       "      <td>-1.159042e+02</td>\n",
       "      <td>43.812800</td>\n",
       "    </tr>\n",
       "  </tbody>\n",
       "</table>\n",
       "</div>"
      ],
      "text/plain": [
       "                         Price  Num_Of_Bedrooms  Num_Of_Bathrooms  \\\n",
       "Price             4.246419e+11     -7674.930638     206118.803694   \n",
       "Num_Of_Bedrooms  -7.674931e+03         0.612599          0.182982   \n",
       "Num_Of_Bathrooms  2.061188e+05         0.182982          0.915073   \n",
       "Size(m²)          6.986223e+07         8.024029         34.207381   \n",
       "StreetWidth       1.858405e+05         0.110196          0.200700   \n",
       "\n",
       "                      Size(m²)    StreetWidth  \n",
       "Price             6.986223e+07  185840.538555  \n",
       "Num_Of_Bedrooms   8.024029e+00       0.110196  \n",
       "Num_Of_Bathrooms  3.420738e+01       0.200700  \n",
       "Size(m²)          2.977647e+04    -115.904197  \n",
       "StreetWidth      -1.159042e+02      43.812800  "
      ]
     },
     "execution_count": 61,
     "metadata": {},
     "output_type": "execute_result"
    }
   ],
   "source": [
    "Sale_DF.cov()"
   ]
  },
  {
   "cell_type": "code",
   "execution_count": 62,
   "id": "84fbd2c4",
   "metadata": {},
   "outputs": [
    {
     "data": {
      "image/png": "[encoded data removed]",
      "text/plain": [
       "<Figure size 864x432 with 2 Axes>"
      ]
     },
     "metadata": {},
     "output_type": "display_data"
    },
    {
     "data": {
      "text/plain": [
       "<Figure size 432x288 with 0 Axes>"
      ]
     },
     "metadata": {},
     "output_type": "display_data"
    }
   ],
   "source": [
    "plt.figure(figsize=(12, 6))\n",
    "heatmap = sns.heatmap(Sale_DF.corr(), vmin=-1, vmax=1, annot=True,cmap=\"YlGnBu\")\n",
    "heatmap.set_title('Correlation Heatmap', fontdict={'fontsize':12}, pad=12);\n",
    "plt.show()\n",
    "plt.savefig('Correlation Heatmap.png')"
   ]
  },
  {
   "cell_type": "markdown",
   "id": "849a75eb",
   "metadata": {},
   "source": [
    "- The \"Size\" feature has high positive correlation 0.67 with our target \"Price\"\n",
    "- The \"Num_Of_Bathrooms\" feature has positive correlation 0.33 with our target \"Price\"\n",
    "- The \"Num_Of_Bedrooms\" feature has low positive correlation 0.037 with our target \"Price\""
   ]
  },
  {
   "cell_type": "code",
   "execution_count": 63,
   "id": "9ee671c5",
   "metadata": {},
   "outputs": [
    {
     "name": "stderr",
     "output_type": "stream",
     "text": [
      "*c* argument looks like a single numeric RGB or RGBA sequence, which should be avoided as value-mapping will have precedence in case its length matches with *x* & *y*.  Please use the *color* keyword-argument or provide a 2-D array with a single row if you intend to specify the same RGB or RGBA value for all points.\n"
     ]
    },
    {
     "data": {
      "image/png": "[encoded data removed]",
      "text/plain": [
       "<Figure size 720x360 with 1 Axes>"
      ]
     },
     "metadata": {},
     "output_type": "display_data"
    }
   ],
   "source": [
    "corr = Sale_DF[\"Price\"].corr(Sale_DF['Num_Of_Bedrooms']) \n",
    "Sale_DF.plot(kind=\"scatter\",y=\"Num_Of_Bedrooms\" , x=\"Price\",figsize=(10,5) , label = corr)\n",
    "plt.title(\"Correlation between Price & Num Of Bedrooms\" , fontsize=15)\n",
    "plt.xlabel(\"Price\" , fontsize=14)\n",
    "plt.ylabel(\"Num_Of_Bedrooms\" , fontsize=14)\n",
    "plt.legend();"
   ]
  },
  {
   "cell_type": "code",
   "execution_count": 64,
   "id": "b5eba356",
   "metadata": {},
   "outputs": [
    {
     "name": "stderr",
     "output_type": "stream",
     "text": [
      "*c* argument looks like a single numeric RGB or RGBA sequence, which should be avoided as value-mapping will have precedence in case its length matches with *x* & *y*.  Please use the *color* keyword-argument or provide a 2-D array with a single row if you intend to specify the same RGB or RGBA value for all points.\n"
     ]
    },
    {
     "data": {
      "image/png": "[encoded data removed]",
      "text/plain": [
       "<Figure size 720x360 with 1 Axes>"
      ]
     },
     "metadata": {},
     "output_type": "display_data"
    }
   ],
   "source": [
    "corr = Sale_DF[\"Price\"].corr(Sale_DF['Num_Of_Bathrooms']) \n",
    "Sale_DF.plot(kind=\"scatter\",y=\"Num_Of_Bathrooms\" , x=\"Price\",figsize=(10,5) , label = corr)\n",
    "plt.title(\"Correlation between Price & Num Of Bathrooms\" , fontsize=15)\n",
    "plt.xlabel(\"Price\" , fontsize=14)\n",
    "plt.ylabel(\"Num_Of_Bathrooms\" , fontsize=14)\n",
    "plt.legend();"
   ]
  },
  {
   "cell_type": "code",
   "execution_count": 65,
   "id": "208660ec",
   "metadata": {},
   "outputs": [
    {
     "name": "stderr",
     "output_type": "stream",
     "text": [
      "*c* argument looks like a single numeric RGB or RGBA sequence, which should be avoided as value-mapping will have precedence in case its length matches with *x* & *y*.  Please use the *color* keyword-argument or provide a 2-D array with a single row if you intend to specify the same RGB or RGBA value for all points.\n"
     ]
    },
    {
     "data": {
      "image/png": "[encoded data removed]",
      "text/plain": [
       "<Figure size 720x360 with 1 Axes>"
      ]
     },
     "metadata": {},
     "output_type": "display_data"
    }
   ],
   "source": [
    "corr = Sale_DF[\"Price\"].corr(Sale_DF['Size(m²)']) \n",
    "Sale_DF.plot(kind=\"scatter\",y=\"Num_Of_Bathrooms\" , x=\"Price\",figsize=(10,5) , label = corr)\n",
    "plt.title(\"Correlation between Price & Size in m²\" , fontsize=15)\n",
    "plt.xlabel(\"Price\" , fontsize=14)\n",
    "plt.ylabel(\"Size(m²)\" , fontsize=14)\n",
    "plt.legend();"
   ]
  },
  {
   "cell_type": "code",
   "execution_count": 66,
   "id": "14084983",
   "metadata": {},
   "outputs": [
    {
     "name": "stderr",
     "output_type": "stream",
     "text": [
      "*c* argument looks like a single numeric RGB or RGBA sequence, which should be avoided as value-mapping will have precedence in case its length matches with *x* & *y*.  Please use the *color* keyword-argument or provide a 2-D array with a single row if you intend to specify the same RGB or RGBA value for all points.\n",
      "No handles with labels found to put in legend.\n"
     ]
    },
    {
     "data": {
      "image/png": "[encoded data removed]",
      "text/plain": [
       "<Figure size 432x288 with 1 Axes>"
      ]
     },
     "metadata": {},
     "output_type": "display_data"
    }
   ],
   "source": [
    "#Zoomed in plot for the price vs size(m2)\n",
    "\n",
    "Sale_DF.plot(x=\"Size(m²)\", y='Price', kind='scatter')\n",
    "plt.xlim([0, 1000])\n",
    "plt.ylim([0,1e7])\n",
    "plt.title(\"Correlation between Price & Size in m²\" , fontsize=15)\n",
    "plt.xlabel(\"Size(m²)\" , fontsize=15)\n",
    "plt.ylabel(\"Price\" , fontsize=15)\n",
    "plt.legend();"
   ]
  },
  {
   "cell_type": "code",
   "execution_count": 67,
   "id": "51d37836",
   "metadata": {},
   "outputs": [
    {
     "data": {
      "text/plain": [
       "count    3.033000e+03\n",
       "mean     1.292126e+06\n",
       "std      6.516455e+05\n",
       "min      1.800000e+05\n",
       "25%      8.700000e+05\n",
       "50%      1.250000e+06\n",
       "75%      1.700000e+06\n",
       "max      3.450000e+06\n",
       "Name: Price, dtype: float64"
      ]
     },
     "execution_count": 67,
     "metadata": {},
     "output_type": "execute_result"
    }
   ],
   "source": [
    "Sale_DF.Price.describe()"
   ]
  },
  {
   "cell_type": "code",
   "execution_count": 68,
   "id": "8648fea1",
   "metadata": {},
   "outputs": [
    {
     "data": {
      "image/png": "[encoded data removed]",
      "text/plain": [
       "<Figure size 900x900 with 30 Axes>"
      ]
     },
     "metadata": {},
     "output_type": "display_data"
    }
   ],
   "source": [
    "sns.pairplot(Sale_DF);"
   ]
  },
  {
   "cell_type": "markdown",
   "id": "a400dd29",
   "metadata": {},
   "source": [
    "# Save data in excel file"
   ]
  },
  {
   "cell_type": "code",
   "execution_count": 69,
   "id": "1596a54f",
   "metadata": {},
   "outputs": [],
   "source": [
    "Sale_DF.to_excel(\"aqar.xlsx\")"
   ]
  },
  {
   "cell_type": "code",
   "execution_count": 70,
   "id": "7cc0886a",
   "metadata": {},
   "outputs": [],
   "source": [
    "Sale_DF= pd.read_excel ('aqar.xlsx')"
   ]
  },
  {
   "cell_type": "markdown",
   "id": "0c1af9fa",
   "metadata": {},
   "source": [
    "# Model Building"
   ]
  },
  {
   "cell_type": "markdown",
   "id": "5d06ce9b",
   "metadata": {},
   "source": [
    "# Setting up for modeling:"
   ]
  },
  {
   "cell_type": "code",
   "execution_count": 71,
   "id": "a6d63a18",
   "metadata": {},
   "outputs": [],
   "source": [
    "#Split the data 60 - 20 - 20 train/val/test\n",
    "X_train, X_test, y_train, y_test = train_test_split(Sale_DF[['Size(m²)']], Sale_DF[['Price']], test_size=0.3, random_state=42)\n",
    "\n",
    "X_train, X_val, y_train, y_val = train_test_split(X_train, y_train, test_size=0.3, random_state=42)"
   ]
  },
  {
   "cell_type": "code",
   "execution_count": 72,
   "id": "02b727ba",
   "metadata": {},
   "outputs": [
    {
     "data": {
      "text/plain": [
       "Index(['Price'], dtype='object')"
      ]
     },
     "execution_count": 72,
     "metadata": {},
     "output_type": "execute_result"
    }
   ],
   "source": [
    "y_test.columns"
   ]
  },
  {
   "cell_type": "code",
   "execution_count": 73,
   "id": "f7a2bddb",
   "metadata": {},
   "outputs": [
    {
     "data": {
      "text/plain": [
       "Index(['Size(m²)'], dtype='object')"
      ]
     },
     "execution_count": 73,
     "metadata": {},
     "output_type": "execute_result"
    }
   ],
   "source": [
    "X_train.columns"
   ]
  },
  {
   "cell_type": "code",
   "execution_count": 74,
   "id": "64aafcad",
   "metadata": {},
   "outputs": [
    {
     "name": "stdout",
     "output_type": "stream",
     "text": [
      "Training Data has (1486, 1)\n",
      "Testing Data has (910, 1)\n",
      "Validation Data has (637, 1)\n"
     ]
    }
   ],
   "source": [
    "print(\"Training Data has\",X_train.shape)\n",
    "print(\"Testing Data has\",X_test.shape)\n",
    "print(\"Validation Data has\",X_val.shape)"
   ]
  },
  {
   "cell_type": "markdown",
   "id": "188aa99f",
   "metadata": {},
   "source": [
    "# Modeling Housing Data with Statsmodels"
   ]
  },
  {
   "cell_type": "code",
   "execution_count": 75,
   "id": "0a7ba6db",
   "metadata": {},
   "outputs": [],
   "source": [
    "# split into train and target\n",
    "X= Sale_DF.iloc[:,1:]\n",
    "y=Sale_DF['Price']"
   ]
  },
  {
   "cell_type": "code",
   "execution_count": 76,
   "id": "9cefad23",
   "metadata": {},
   "outputs": [
    {
     "data": {
      "text/html": [
       "<table class=\"simpletable\">\n",
       "<caption>OLS Regression Results</caption>\n",
       "<tr>\n",
       "  <th>Dep. Variable:</th>          <td>Price</td>      <th>  R-squared (uncentered):</th>      <td>   0.866</td> \n",
       "</tr>\n",
       "<tr>\n",
       "  <th>Model:</th>                   <td>OLS</td>       <th>  Adj. R-squared (uncentered):</th> <td>   0.866</td> \n",
       "</tr>\n",
       "<tr>\n",
       "  <th>Method:</th>             <td>Least Squares</td>  <th>  F-statistic:       </th>          <td>   9569.</td> \n",
       "</tr>\n",
       "<tr>\n",
       "  <th>Date:</th>             <td>Sun, 24 Oct 2021</td> <th>  Prob (F-statistic):</th>           <td>  0.00</td>  \n",
       "</tr>\n",
       "<tr>\n",
       "  <th>Time:</th>                 <td>21:10:30</td>     <th>  Log-Likelihood:    </th>          <td> -21687.</td> \n",
       "</tr>\n",
       "<tr>\n",
       "  <th>No. Observations:</th>      <td>  1486</td>      <th>  AIC:               </th>          <td>4.338e+04</td>\n",
       "</tr>\n",
       "<tr>\n",
       "  <th>Df Residuals:</th>          <td>  1485</td>      <th>  BIC:               </th>          <td>4.338e+04</td>\n",
       "</tr>\n",
       "<tr>\n",
       "  <th>Df Model:</th>              <td>     1</td>      <th>                     </th>              <td> </td>    \n",
       "</tr>\n",
       "<tr>\n",
       "  <th>Covariance Type:</th>      <td>nonrobust</td>    <th>                     </th>              <td> </td>    \n",
       "</tr>\n",
       "</table>\n",
       "<table class=\"simpletable\">\n",
       "<tr>\n",
       "      <td></td>        <th>coef</th>     <th>std err</th>      <th>t</th>      <th>P>|t|</th>  <th>[0.025</th>    <th>0.975]</th>  \n",
       "</tr>\n",
       "<tr>\n",
       "  <th>Size(m²)</th> <td> 3081.2867</td> <td>   31.499</td> <td>   97.820</td> <td> 0.000</td> <td> 3019.499</td> <td> 3143.075</td>\n",
       "</tr>\n",
       "</table>\n",
       "<table class=\"simpletable\">\n",
       "<tr>\n",
       "  <th>Omnibus:</th>       <td>191.221</td> <th>  Durbin-Watson:     </th> <td>   2.019</td>\n",
       "</tr>\n",
       "<tr>\n",
       "  <th>Prob(Omnibus):</th> <td> 0.000</td>  <th>  Jarque-Bera (JB):  </th> <td> 323.512</td>\n",
       "</tr>\n",
       "<tr>\n",
       "  <th>Skew:</th>          <td> 0.850</td>  <th>  Prob(JB):          </th> <td>5.63e-71</td>\n",
       "</tr>\n",
       "<tr>\n",
       "  <th>Kurtosis:</th>      <td> 4.529</td>  <th>  Cond. No.          </th> <td>    1.00</td>\n",
       "</tr>\n",
       "</table><br/><br/>Notes:<br/>[1] R² is computed without centering (uncentered) since the model does not contain a constant.<br/>[2] Standard Errors assume that the covariance matrix of the errors is correctly specified."
      ],
      "text/plain": [
       "<class 'statsmodels.iolib.summary.Summary'>\n",
       "\"\"\"\n",
       "                                 OLS Regression Results                                \n",
       "=======================================================================================\n",
       "Dep. Variable:                  Price   R-squared (uncentered):                   0.866\n",
       "Model:                            OLS   Adj. R-squared (uncentered):              0.866\n",
       "Method:                 Least Squares   F-statistic:                              9569.\n",
       "Date:                Sun, 24 Oct 2021   Prob (F-statistic):                        0.00\n",
       "Time:                        21:10:30   Log-Likelihood:                         -21687.\n",
       "No. Observations:                1486   AIC:                                  4.338e+04\n",
       "Df Residuals:                    1485   BIC:                                  4.338e+04\n",
       "Df Model:                           1                                                  \n",
       "Covariance Type:            nonrobust                                                  \n",
       "==============================================================================\n",
       "                 coef    std err          t      P>|t|      [0.025      0.975]\n",
       "------------------------------------------------------------------------------\n",
       "Size(m²)    3081.2867     31.499     97.820      0.000    3019.499    3143.075\n",
       "==============================================================================\n",
       "Omnibus:                      191.221   Durbin-Watson:                   2.019\n",
       "Prob(Omnibus):                  0.000   Jarque-Bera (JB):              323.512\n",
       "Skew:                           0.850   Prob(JB):                     5.63e-71\n",
       "Kurtosis:                       4.529   Cond. No.                         1.00\n",
       "==============================================================================\n",
       "\n",
       "Notes:\n",
       "[1] R² is computed without centering (uncentered) since the model does not contain a constant.\n",
       "[2] Standard Errors assume that the covariance matrix of the errors is correctly specified.\n",
       "\"\"\""
      ]
     },
     "execution_count": 76,
     "metadata": {},
     "output_type": "execute_result"
    }
   ],
   "source": [
    "# fit model with target as housing price index\n",
    "import statsmodels.api as sm\n",
    "\n",
    "_model = sm.OLS(y_train, X_train, data=Sale_DF)\n",
    "\n",
    "results =_model.fit()\n",
    "\n",
    "# summarize our model\n",
    "results.summary()"
   ]
  },
  {
   "cell_type": "markdown",
   "id": "45f4a650",
   "metadata": {},
   "source": [
    "# Linear regression model"
   ]
  },
  {
   "cell_type": "code",
   "execution_count": 77,
   "id": "8ccbf995",
   "metadata": {},
   "outputs": [
    {
     "name": "stdout",
     "output_type": "stream",
     "text": [
      "Linear Regression training R^2: 0.38341462503659707\n",
      "Linear Regression validation R^2: 0.4077923076505007\n"
     ]
    }
   ],
   "source": [
    "lm = LinearRegression() # construct LinearRegression model object\n",
    "lm.fit(X_train, y_train) #fit model to features X, target y\n",
    "\n",
    "preds = lm.predict(X_test) # generate predictions for X using fit model\n",
    "pred_1=lm.predict(X_val)  # score predictions on X against ground truth target y, using fit model\n",
    "\n",
    "# score fit model on validation data\n",
    "train_score = lm.score(X_train, y_train)\n",
    "val_score = lm.score(X_val, y_val)\n",
    "test_score = lm.score(X_test, y_test)\n",
    "\n",
    "# report results\n",
    "print('Linear Regression training R^2:', train_score)\n",
    "print('Linear Regression validation R^2:', val_score)"
   ]
  },
  {
   "cell_type": "code",
   "execution_count": 78,
   "id": "5a81d5b4",
   "metadata": {},
   "outputs": [
    {
     "name": "stdout",
     "output_type": "stream",
     "text": [
      "Linear Regression Testing R^2: 0.3723069191665358\n"
     ]
    }
   ],
   "source": [
    "print('Linear Regression Testing R^2:', test_score)"
   ]
  },
  {
   "cell_type": "code",
   "execution_count": 79,
   "id": "8b8a4d40",
   "metadata": {},
   "outputs": [
    {
     "name": "stdout",
     "output_type": "stream",
     "text": [
      "[380673.60814491]\n",
      "[[2278.72251171]]\n"
     ]
    }
   ],
   "source": [
    "print(lm.intercept_)\n",
    "print(lm.coef_)"
   ]
  },
  {
   "cell_type": "code",
   "execution_count": 80,
   "id": "0186bc61",
   "metadata": {},
   "outputs": [
    {
     "data": {
      "image/png": "[encoded data removed]",
      "text/plain": [
       "<Figure size 720x576 with 1 Axes>"
      ]
     },
     "metadata": {},
     "output_type": "display_data"
    }
   ],
   "source": [
    "fig, ax = plt.subplots(figsize=(10,8))\n",
    "ax.scatter(y_val,pred_1)\n",
    "ax.plot([y_val.min(), y_val.max()], [y_val.min(), y_val.max()], 'k--', lw=4)\n",
    "ax.set_title('Actual vs Predicted Price')\n",
    "ax.set_xlabel('Actual Price')\n",
    "ax.set_ylabel('Predicted Price')\n",
    "plt.show()"
   ]
  },
  {
   "cell_type": "markdown",
   "id": "2fbdb757",
   "metadata": {},
   "source": [
    "# Polynomial Regression"
   ]
  },
  {
   "cell_type": "code",
   "execution_count": 81,
   "id": "ccbd955a",
   "metadata": {},
   "outputs": [
    {
     "name": "stdout",
     "output_type": "stream",
     "text": [
      "_____________Degree  2 _______________\n",
      "Polynomial ( 2 ) Regression training R^2 :  1.0\n",
      "Polynomial ( 2 ) Regression validation R^2 :  1.0\n",
      "_____________Degree  3 _______________\n",
      "Polynomial ( 3 ) Regression training R^2 :  0.9999998665989552\n",
      "Polynomial ( 3 ) Regression validation R^2 :  0.9999998665989552\n",
      "_____________Degree  4 _______________\n",
      "Polynomial ( 4 ) Regression training R^2 :  0.9976328163738691\n",
      "Polynomial ( 4 ) Regression validation R^2 :  0.9976328163738691\n",
      "_____________Degree  5 _______________\n",
      "Polynomial ( 5 ) Regression training R^2 :  0.9797576047317624\n",
      "Polynomial ( 5 ) Regression validation R^2 :  0.9797576047317624\n",
      "_____________Degree  6 _______________\n",
      "Polynomial ( 6 ) Regression training R^2 :  0.9417079851784249\n",
      "Polynomial ( 6 ) Regression validation R^2 :  0.9417079851784249\n"
     ]
    }
   ],
   "source": [
    "for i in range(2,7):\n",
    "    poly = PolynomialFeatures(degree=i)\n",
    "    X_train_poly = poly.fit_transform(Sale_DF[['Price']])\n",
    "    X_val_poly = poly.transform(Sale_DF[['Price']])\n",
    "\n",
    "    lr_poly = LinearRegression()\n",
    "    lr_poly.fit(X_train_poly,Sale_DF[['Price']])\n",
    "    lr_poly.score(X_train_poly,Sale_DF[['Price']])\n",
    "    \n",
    "    print(\"_____________Degree \",i,\"_______________\")\n",
    "    print(\"Polynomial (\",i,\") Regression training R^2 : \",lr_poly.score(X_train_poly,Sale_DF['Price']))\n",
    "    print(\"Polynomial (\",i,\") Regression validation R^2 : \",lr_poly.score(X_val_poly, Sale_DF['Price']))"
   ]
  },
  {
   "cell_type": "markdown",
   "id": "a9f3dc39",
   "metadata": {},
   "source": [
    "# dummy"
   ]
  },
  {
   "cell_type": "code",
   "execution_count": 82,
   "id": "044b8f45",
   "metadata": {},
   "outputs": [],
   "source": [
    "Sale_DF_dummy = pd.get_dummies(Sale_DF, drop_first = True)"
   ]
  },
  {
   "cell_type": "code",
   "execution_count": 83,
   "id": "c51e92d3",
   "metadata": {},
   "outputs": [
    {
     "data": {
      "text/html": [
       "<div>\n",
       "<style scoped>\n",
       "    .dataframe tbody tr th:only-of-type {\n",
       "        vertical-align: middle;\n",
       "    }\n",
       "\n",
       "    .dataframe tbody tr th {\n",
       "        vertical-align: top;\n",
       "    }\n",
       "\n",
       "    .dataframe thead th {\n",
       "        text-align: right;\n",
       "    }\n",
       "</style>\n",
       "<table border=\"1\" class=\"dataframe\">\n",
       "  <thead>\n",
       "    <tr style=\"text-align: right;\">\n",
       "      <th></th>\n",
       "      <th>Unnamed: 0</th>\n",
       "      <th>Price</th>\n",
       "      <th>Num_Of_Bedrooms</th>\n",
       "      <th>Num_Of_Bathrooms</th>\n",
       "      <th>Size(m²)</th>\n",
       "      <th>StreetWidth</th>\n",
       "      <th>District_اشبيلية</th>\n",
       "      <th>District_الازدهار</th>\n",
       "      <th>District_الاندلس</th>\n",
       "      <th>District_البديعة</th>\n",
       "      <th>...</th>\n",
       "      <th>District_ظهرة نمار</th>\n",
       "      <th>District_عتيقة</th>\n",
       "      <th>District_عكاظ</th>\n",
       "      <th>District_عليشة</th>\n",
       "      <th>District_غبيرة</th>\n",
       "      <th>District_غرناطة</th>\n",
       "      <th>District_قرطبة</th>\n",
       "      <th>District_منفوحة</th>\n",
       "      <th>District_منفوحة الجديدة</th>\n",
       "      <th>District_نمار</th>\n",
       "    </tr>\n",
       "  </thead>\n",
       "  <tbody>\n",
       "    <tr>\n",
       "      <th>0</th>\n",
       "      <td>0</td>\n",
       "      <td>1400000</td>\n",
       "      <td>5</td>\n",
       "      <td>5</td>\n",
       "      <td>510</td>\n",
       "      <td>20</td>\n",
       "      <td>0</td>\n",
       "      <td>0</td>\n",
       "      <td>0</td>\n",
       "      <td>0</td>\n",
       "      <td>...</td>\n",
       "      <td>0</td>\n",
       "      <td>0</td>\n",
       "      <td>0</td>\n",
       "      <td>0</td>\n",
       "      <td>0</td>\n",
       "      <td>0</td>\n",
       "      <td>0</td>\n",
       "      <td>0</td>\n",
       "      <td>0</td>\n",
       "      <td>0</td>\n",
       "    </tr>\n",
       "    <tr>\n",
       "      <th>1</th>\n",
       "      <td>1</td>\n",
       "      <td>1400000</td>\n",
       "      <td>5</td>\n",
       "      <td>5</td>\n",
       "      <td>375</td>\n",
       "      <td>15</td>\n",
       "      <td>0</td>\n",
       "      <td>0</td>\n",
       "      <td>0</td>\n",
       "      <td>0</td>\n",
       "      <td>...</td>\n",
       "      <td>0</td>\n",
       "      <td>0</td>\n",
       "      <td>0</td>\n",
       "      <td>0</td>\n",
       "      <td>0</td>\n",
       "      <td>0</td>\n",
       "      <td>0</td>\n",
       "      <td>0</td>\n",
       "      <td>0</td>\n",
       "      <td>0</td>\n",
       "    </tr>\n",
       "    <tr>\n",
       "      <th>2</th>\n",
       "      <td>2</td>\n",
       "      <td>2500000</td>\n",
       "      <td>5</td>\n",
       "      <td>5</td>\n",
       "      <td>700</td>\n",
       "      <td>36</td>\n",
       "      <td>0</td>\n",
       "      <td>0</td>\n",
       "      <td>0</td>\n",
       "      <td>0</td>\n",
       "      <td>...</td>\n",
       "      <td>0</td>\n",
       "      <td>0</td>\n",
       "      <td>0</td>\n",
       "      <td>0</td>\n",
       "      <td>0</td>\n",
       "      <td>0</td>\n",
       "      <td>0</td>\n",
       "      <td>0</td>\n",
       "      <td>0</td>\n",
       "      <td>0</td>\n",
       "    </tr>\n",
       "    <tr>\n",
       "      <th>3</th>\n",
       "      <td>3</td>\n",
       "      <td>2700000</td>\n",
       "      <td>4</td>\n",
       "      <td>5</td>\n",
       "      <td>375</td>\n",
       "      <td>15</td>\n",
       "      <td>0</td>\n",
       "      <td>0</td>\n",
       "      <td>0</td>\n",
       "      <td>0</td>\n",
       "      <td>...</td>\n",
       "      <td>0</td>\n",
       "      <td>0</td>\n",
       "      <td>0</td>\n",
       "      <td>0</td>\n",
       "      <td>0</td>\n",
       "      <td>0</td>\n",
       "      <td>0</td>\n",
       "      <td>0</td>\n",
       "      <td>0</td>\n",
       "      <td>0</td>\n",
       "    </tr>\n",
       "    <tr>\n",
       "      <th>4</th>\n",
       "      <td>4</td>\n",
       "      <td>3000000</td>\n",
       "      <td>7</td>\n",
       "      <td>5</td>\n",
       "      <td>600</td>\n",
       "      <td>20</td>\n",
       "      <td>0</td>\n",
       "      <td>0</td>\n",
       "      <td>0</td>\n",
       "      <td>0</td>\n",
       "      <td>...</td>\n",
       "      <td>0</td>\n",
       "      <td>0</td>\n",
       "      <td>0</td>\n",
       "      <td>0</td>\n",
       "      <td>0</td>\n",
       "      <td>0</td>\n",
       "      <td>0</td>\n",
       "      <td>0</td>\n",
       "      <td>0</td>\n",
       "      <td>0</td>\n",
       "    </tr>\n",
       "    <tr>\n",
       "      <th>...</th>\n",
       "      <td>...</td>\n",
       "      <td>...</td>\n",
       "      <td>...</td>\n",
       "      <td>...</td>\n",
       "      <td>...</td>\n",
       "      <td>...</td>\n",
       "      <td>...</td>\n",
       "      <td>...</td>\n",
       "      <td>...</td>\n",
       "      <td>...</td>\n",
       "      <td>...</td>\n",
       "      <td>...</td>\n",
       "      <td>...</td>\n",
       "      <td>...</td>\n",
       "      <td>...</td>\n",
       "      <td>...</td>\n",
       "      <td>...</td>\n",
       "      <td>...</td>\n",
       "      <td>...</td>\n",
       "      <td>...</td>\n",
       "      <td>...</td>\n",
       "    </tr>\n",
       "    <tr>\n",
       "      <th>3028</th>\n",
       "      <td>3358</td>\n",
       "      <td>300000</td>\n",
       "      <td>5</td>\n",
       "      <td>5</td>\n",
       "      <td>185</td>\n",
       "      <td>20</td>\n",
       "      <td>0</td>\n",
       "      <td>0</td>\n",
       "      <td>0</td>\n",
       "      <td>0</td>\n",
       "      <td>...</td>\n",
       "      <td>0</td>\n",
       "      <td>0</td>\n",
       "      <td>0</td>\n",
       "      <td>0</td>\n",
       "      <td>0</td>\n",
       "      <td>0</td>\n",
       "      <td>0</td>\n",
       "      <td>0</td>\n",
       "      <td>0</td>\n",
       "      <td>0</td>\n",
       "    </tr>\n",
       "    <tr>\n",
       "      <th>3029</th>\n",
       "      <td>3359</td>\n",
       "      <td>2000000</td>\n",
       "      <td>5</td>\n",
       "      <td>5</td>\n",
       "      <td>450</td>\n",
       "      <td>20</td>\n",
       "      <td>0</td>\n",
       "      <td>0</td>\n",
       "      <td>0</td>\n",
       "      <td>0</td>\n",
       "      <td>...</td>\n",
       "      <td>0</td>\n",
       "      <td>0</td>\n",
       "      <td>0</td>\n",
       "      <td>0</td>\n",
       "      <td>0</td>\n",
       "      <td>0</td>\n",
       "      <td>0</td>\n",
       "      <td>0</td>\n",
       "      <td>0</td>\n",
       "      <td>0</td>\n",
       "    </tr>\n",
       "    <tr>\n",
       "      <th>3030</th>\n",
       "      <td>3360</td>\n",
       "      <td>1850000</td>\n",
       "      <td>4</td>\n",
       "      <td>4</td>\n",
       "      <td>625</td>\n",
       "      <td>20</td>\n",
       "      <td>0</td>\n",
       "      <td>0</td>\n",
       "      <td>0</td>\n",
       "      <td>0</td>\n",
       "      <td>...</td>\n",
       "      <td>0</td>\n",
       "      <td>0</td>\n",
       "      <td>0</td>\n",
       "      <td>0</td>\n",
       "      <td>0</td>\n",
       "      <td>0</td>\n",
       "      <td>0</td>\n",
       "      <td>0</td>\n",
       "      <td>0</td>\n",
       "      <td>0</td>\n",
       "    </tr>\n",
       "    <tr>\n",
       "      <th>3031</th>\n",
       "      <td>3361</td>\n",
       "      <td>1450000</td>\n",
       "      <td>5</td>\n",
       "      <td>5</td>\n",
       "      <td>750</td>\n",
       "      <td>20</td>\n",
       "      <td>0</td>\n",
       "      <td>0</td>\n",
       "      <td>0</td>\n",
       "      <td>0</td>\n",
       "      <td>...</td>\n",
       "      <td>0</td>\n",
       "      <td>0</td>\n",
       "      <td>0</td>\n",
       "      <td>0</td>\n",
       "      <td>0</td>\n",
       "      <td>0</td>\n",
       "      <td>0</td>\n",
       "      <td>0</td>\n",
       "      <td>0</td>\n",
       "      <td>0</td>\n",
       "    </tr>\n",
       "    <tr>\n",
       "      <th>3032</th>\n",
       "      <td>3362</td>\n",
       "      <td>900000</td>\n",
       "      <td>5</td>\n",
       "      <td>5</td>\n",
       "      <td>400</td>\n",
       "      <td>15</td>\n",
       "      <td>0</td>\n",
       "      <td>0</td>\n",
       "      <td>0</td>\n",
       "      <td>0</td>\n",
       "      <td>...</td>\n",
       "      <td>0</td>\n",
       "      <td>0</td>\n",
       "      <td>0</td>\n",
       "      <td>0</td>\n",
       "      <td>0</td>\n",
       "      <td>0</td>\n",
       "      <td>0</td>\n",
       "      <td>0</td>\n",
       "      <td>0</td>\n",
       "      <td>0</td>\n",
       "    </tr>\n",
       "  </tbody>\n",
       "</table>\n",
       "<p>3033 rows × 106 columns</p>\n",
       "</div>"
      ],
      "text/plain": [
       "      Unnamed: 0    Price  Num_Of_Bedrooms  Num_Of_Bathrooms  Size(m²)  \\\n",
       "0              0  1400000                5                 5       510   \n",
       "1              1  1400000                5                 5       375   \n",
       "2              2  2500000                5                 5       700   \n",
       "3              3  2700000                4                 5       375   \n",
       "4              4  3000000                7                 5       600   \n",
       "...          ...      ...              ...               ...       ...   \n",
       "3028        3358   300000                5                 5       185   \n",
       "3029        3359  2000000                5                 5       450   \n",
       "3030        3360  1850000                4                 4       625   \n",
       "3031        3361  1450000                5                 5       750   \n",
       "3032        3362   900000                5                 5       400   \n",
       "\n",
       "      StreetWidth  District_اشبيلية  District_الازدهار  District_الاندلس  \\\n",
       "0              20                 0                  0                 0   \n",
       "1              15                 0                  0                 0   \n",
       "2              36                 0                  0                 0   \n",
       "3              15                 0                  0                 0   \n",
       "4              20                 0                  0                 0   \n",
       "...           ...               ...                ...               ...   \n",
       "3028           20                 0                  0                 0   \n",
       "3029           20                 0                  0                 0   \n",
       "3030           20                 0                  0                 0   \n",
       "3031           20                 0                  0                 0   \n",
       "3032           15                 0                  0                 0   \n",
       "\n",
       "      District_البديعة  ...  District_ظهرة نمار  District_عتيقة  \\\n",
       "0                    0  ...                   0               0   \n",
       "1                    0  ...                   0               0   \n",
       "2                    0  ...                   0               0   \n",
       "3                    0  ...                   0               0   \n",
       "4                    0  ...                   0               0   \n",
       "...                ...  ...                 ...             ...   \n",
       "3028                 0  ...                   0               0   \n",
       "3029                 0  ...                   0               0   \n",
       "3030                 0  ...                   0               0   \n",
       "3031                 0  ...                   0               0   \n",
       "3032                 0  ...                   0               0   \n",
       "\n",
       "      District_عكاظ  District_عليشة  District_غبيرة  District_غرناطة  \\\n",
       "0                 0               0               0                0   \n",
       "1                 0               0               0                0   \n",
       "2                 0               0               0                0   \n",
       "3                 0               0               0                0   \n",
       "4                 0               0               0                0   \n",
       "...             ...             ...             ...              ...   \n",
       "3028              0               0               0                0   \n",
       "3029              0               0               0                0   \n",
       "3030              0               0               0                0   \n",
       "3031              0               0               0                0   \n",
       "3032              0               0               0                0   \n",
       "\n",
       "      District_قرطبة  District_منفوحة  District_منفوحة الجديدة  District_نمار  \n",
       "0                  0                0                        0              0  \n",
       "1                  0                0                        0              0  \n",
       "2                  0                0                        0              0  \n",
       "3                  0                0                        0              0  \n",
       "4                  0                0                        0              0  \n",
       "...              ...              ...                      ...            ...  \n",
       "3028               0                0                        0              0  \n",
       "3029               0                0                        0              0  \n",
       "3030               0                0                        0              0  \n",
       "3031               0                0                        0              0  \n",
       "3032               0                0                        0              0  \n",
       "\n",
       "[3033 rows x 106 columns]"
      ]
     },
     "execution_count": 83,
     "metadata": {},
     "output_type": "execute_result"
    }
   ],
   "source": [
    "Sale_DF_dummy"
   ]
  },
  {
   "cell_type": "markdown",
   "id": "4e4a5625",
   "metadata": {},
   "source": [
    "After converting the categrical coulumns into dummy, we have ended up with 50 coulumns."
   ]
  },
  {
   "cell_type": "code",
   "execution_count": 84,
   "id": "8c8b5221",
   "metadata": {},
   "outputs": [
    {
     "data": {
      "text/html": [
       "<table class=\"simpletable\">\n",
       "<caption>OLS Regression Results</caption>\n",
       "<tr>\n",
       "  <th>Dep. Variable:</th>          <td>Price</td>      <th>  R-squared (uncentered):</th>      <td>   0.976</td> \n",
       "</tr>\n",
       "<tr>\n",
       "  <th>Model:</th>                   <td>OLS</td>       <th>  Adj. R-squared (uncentered):</th> <td>   0.975</td> \n",
       "</tr>\n",
       "<tr>\n",
       "  <th>Method:</th>             <td>Least Squares</td>  <th>  F-statistic:       </th>          <td>   1132.</td> \n",
       "</tr>\n",
       "<tr>\n",
       "  <th>Date:</th>             <td>Sun, 24 Oct 2021</td> <th>  Prob (F-statistic):</th>           <td>  0.00</td>  \n",
       "</tr>\n",
       "<tr>\n",
       "  <th>Time:</th>                 <td>21:10:31</td>     <th>  Log-Likelihood:    </th>          <td> -41674.</td> \n",
       "</tr>\n",
       "<tr>\n",
       "  <th>No. Observations:</th>      <td>  3033</td>      <th>  AIC:               </th>          <td>8.356e+04</td>\n",
       "</tr>\n",
       "<tr>\n",
       "  <th>Df Residuals:</th>          <td>  2928</td>      <th>  BIC:               </th>          <td>8.419e+04</td>\n",
       "</tr>\n",
       "<tr>\n",
       "  <th>Df Model:</th>              <td>   105</td>      <th>                     </th>              <td> </td>    \n",
       "</tr>\n",
       "<tr>\n",
       "  <th>Covariance Type:</th>      <td>nonrobust</td>    <th>                     </th>              <td> </td>    \n",
       "</tr>\n",
       "</table>\n",
       "<table class=\"simpletable\">\n",
       "<tr>\n",
       "                  <td></td>                     <th>coef</th>     <th>std err</th>      <th>t</th>      <th>P>|t|</th>  <th>[0.025</th>    <th>0.975]</th>  \n",
       "</tr>\n",
       "<tr>\n",
       "  <th>Unnamed: 0</th>                        <td>  -59.1217</td> <td>    5.794</td> <td>  -10.203</td> <td> 0.000</td> <td>  -70.483</td> <td>  -47.760</td>\n",
       "</tr>\n",
       "<tr>\n",
       "  <th>Num_Of_Bedrooms</th>                   <td> 2.357e+04</td> <td> 6025.855</td> <td>    3.911</td> <td> 0.000</td> <td> 1.18e+04</td> <td> 3.54e+04</td>\n",
       "</tr>\n",
       "<tr>\n",
       "  <th>Num_Of_Bathrooms</th>                  <td> 2.001e+04</td> <td> 5760.866</td> <td>    3.474</td> <td> 0.001</td> <td> 8714.680</td> <td> 3.13e+04</td>\n",
       "</tr>\n",
       "<tr>\n",
       "  <th>Size(m²)</th>                          <td> 1702.7244</td> <td>   36.947</td> <td>   46.085</td> <td> 0.000</td> <td> 1630.279</td> <td> 1775.170</td>\n",
       "</tr>\n",
       "<tr>\n",
       "  <th>StreetWidth</th>                       <td>  313.4026</td> <td>  650.010</td> <td>    0.482</td> <td> 0.630</td> <td> -961.120</td> <td> 1587.925</td>\n",
       "</tr>\n",
       "<tr>\n",
       "  <th>District_اشبيلية</th>                  <td> 1.096e+06</td> <td> 7.88e+04</td> <td>   13.909</td> <td> 0.000</td> <td> 9.42e+05</td> <td> 1.25e+06</td>\n",
       "</tr>\n",
       "<tr>\n",
       "  <th>District_الازدهار</th>                 <td> 1.114e+06</td> <td> 1.37e+05</td> <td>    8.139</td> <td> 0.000</td> <td> 8.46e+05</td> <td> 1.38e+06</td>\n",
       "</tr>\n",
       "<tr>\n",
       "  <th>District_الاندلس</th>                  <td> 1.186e+06</td> <td> 1.18e+05</td> <td>   10.018</td> <td> 0.000</td> <td> 9.54e+05</td> <td> 1.42e+06</td>\n",
       "</tr>\n",
       "<tr>\n",
       "  <th>District_البديعة</th>                  <td>-1.581e+04</td> <td> 1.06e+05</td> <td>   -0.149</td> <td> 0.881</td> <td>-2.23e+05</td> <td> 1.92e+05</td>\n",
       "</tr>\n",
       "<tr>\n",
       "  <th>District_التعاون</th>                  <td> 1.472e+06</td> <td> 1.37e+05</td> <td>   10.781</td> <td> 0.000</td> <td>  1.2e+06</td> <td> 1.74e+06</td>\n",
       "</tr>\n",
       "<tr>\n",
       "  <th>District_الجرادية</th>                 <td>-1.459e+04</td> <td> 7.06e+04</td> <td>   -0.207</td> <td> 0.836</td> <td>-1.53e+05</td> <td> 1.24e+05</td>\n",
       "</tr>\n",
       "<tr>\n",
       "  <th>District_الجزيرة</th>                  <td>  2.33e+05</td> <td> 1.64e+05</td> <td>    1.419</td> <td> 0.156</td> <td> -8.9e+04</td> <td> 5.55e+05</td>\n",
       "</tr>\n",
       "<tr>\n",
       "  <th>District_الجنادرية</th>                <td> 6.136e+05</td> <td> 9.28e+04</td> <td>    6.615</td> <td> 0.000</td> <td> 4.32e+05</td> <td> 7.95e+05</td>\n",
       "</tr>\n",
       "<tr>\n",
       "  <th>District_الحائر</th>                   <td>-1.029e+05</td> <td> 7.78e+04</td> <td>   -1.322</td> <td> 0.186</td> <td>-2.56e+05</td> <td> 4.97e+04</td>\n",
       "</tr>\n",
       "<tr>\n",
       "  <th>District_الحزم</th>                    <td> 4.068e+05</td> <td> 4.67e+04</td> <td>    8.714</td> <td> 0.000</td> <td> 3.15e+05</td> <td> 4.98e+05</td>\n",
       "</tr>\n",
       "<tr>\n",
       "  <th>District_الحمراء</th>                  <td> 1.045e+06</td> <td> 1.65e+05</td> <td>    6.335</td> <td> 0.000</td> <td> 7.22e+05</td> <td> 1.37e+06</td>\n",
       "</tr>\n",
       "<tr>\n",
       "  <th>District_الخالدية</th>                 <td> 1.164e+05</td> <td> 1.37e+05</td> <td>    0.850</td> <td> 0.395</td> <td>-1.52e+05</td> <td> 3.85e+05</td>\n",
       "</tr>\n",
       "<tr>\n",
       "  <th>District_الخليج</th>                   <td> 1.011e+06</td> <td> 4.35e+04</td> <td>   23.227</td> <td> 0.000</td> <td> 9.25e+05</td> <td>  1.1e+06</td>\n",
       "</tr>\n",
       "<tr>\n",
       "  <th>District_الدار البيضاء</th>            <td> 7.684e+04</td> <td> 3.61e+04</td> <td>    2.126</td> <td> 0.034</td> <td> 5985.638</td> <td> 1.48e+05</td>\n",
       "</tr>\n",
       "<tr>\n",
       "  <th>District_الدريهمية</th>                <td>  7.44e+04</td> <td> 1.65e+05</td> <td>    0.451</td> <td> 0.652</td> <td>-2.49e+05</td> <td> 3.98e+05</td>\n",
       "</tr>\n",
       "<tr>\n",
       "  <th>District_الربوة</th>                   <td> 9.509e+05</td> <td> 2.32e+05</td> <td>    4.094</td> <td> 0.000</td> <td> 4.95e+05</td> <td> 1.41e+06</td>\n",
       "</tr>\n",
       "<tr>\n",
       "  <th>District_الربيع</th>                   <td> 1.108e+06</td> <td> 2.31e+05</td> <td>    4.807</td> <td> 0.000</td> <td> 6.56e+05</td> <td> 1.56e+06</td>\n",
       "</tr>\n",
       "<tr>\n",
       "  <th>District_الرمال</th>                   <td> 6.806e+05</td> <td> 4.22e+04</td> <td>   16.130</td> <td> 0.000</td> <td> 5.98e+05</td> <td> 7.63e+05</td>\n",
       "</tr>\n",
       "<tr>\n",
       "  <th>District_الروضة</th>                   <td>  7.64e+05</td> <td> 1.09e+05</td> <td>    7.031</td> <td> 0.000</td> <td> 5.51e+05</td> <td> 9.77e+05</td>\n",
       "</tr>\n",
       "<tr>\n",
       "  <th>District_الرياض</th>                   <td> 3.596e+05</td> <td> 6.85e+04</td> <td>    5.253</td> <td> 0.000</td> <td> 2.25e+05</td> <td> 4.94e+05</td>\n",
       "</tr>\n",
       "<tr>\n",
       "  <th>District_الريان</th>                   <td> 8.704e+05</td> <td> 2.32e+05</td> <td>    3.744</td> <td> 0.000</td> <td> 4.15e+05</td> <td> 1.33e+06</td>\n",
       "</tr>\n",
       "<tr>\n",
       "  <th>District_الزهرة</th>                   <td> 1.863e+05</td> <td> 1.09e+05</td> <td>    1.713</td> <td> 0.087</td> <td>-2.69e+04</td> <td>    4e+05</td>\n",
       "</tr>\n",
       "<tr>\n",
       "  <th>District_السعادة</th>                  <td> 1.017e+06</td> <td> 8.72e+04</td> <td>   11.666</td> <td> 0.000</td> <td> 8.46e+05</td> <td> 1.19e+06</td>\n",
       "</tr>\n",
       "<tr>\n",
       "  <th>District_السلام</th>                   <td> 4.105e+05</td> <td> 2.32e+05</td> <td>    1.769</td> <td> 0.077</td> <td>-4.44e+04</td> <td> 8.65e+05</td>\n",
       "</tr>\n",
       "<tr>\n",
       "  <th>District_السليمانية</th>               <td> 1.005e+06</td> <td> 1.37e+05</td> <td>    7.361</td> <td> 0.000</td> <td> 7.37e+05</td> <td> 1.27e+06</td>\n",
       "</tr>\n",
       "<tr>\n",
       "  <th>District_السويدي</th>                  <td> 9.757e+04</td> <td>  8.3e+04</td> <td>    1.176</td> <td> 0.240</td> <td>-6.51e+04</td> <td>  2.6e+05</td>\n",
       "</tr>\n",
       "<tr>\n",
       "  <th>District_السويدي الغربي</th>           <td> 1.768e+05</td> <td> 1.66e+05</td> <td>    1.067</td> <td> 0.286</td> <td>-1.48e+05</td> <td> 5.02e+05</td>\n",
       "</tr>\n",
       "<tr>\n",
       "  <th>District_الشرق</th>                    <td> 6.428e+05</td> <td> 5.18e+04</td> <td>   12.404</td> <td> 0.000</td> <td> 5.41e+05</td> <td> 7.44e+05</td>\n",
       "</tr>\n",
       "<tr>\n",
       "  <th>District_الشفا</th>                    <td> 1.263e+05</td> <td> 4.63e+04</td> <td>    2.726</td> <td> 0.006</td> <td> 3.55e+04</td> <td> 2.17e+05</td>\n",
       "</tr>\n",
       "<tr>\n",
       "  <th>District_الشميسي</th>                  <td>-9.148e+04</td> <td> 3.77e+04</td> <td>   -2.424</td> <td> 0.015</td> <td>-1.65e+05</td> <td>-1.75e+04</td>\n",
       "</tr>\n",
       "<tr>\n",
       "  <th>District_الصالحية</th>                 <td> -1.91e+05</td> <td> 1.64e+05</td> <td>   -1.161</td> <td> 0.246</td> <td>-5.13e+05</td> <td> 1.31e+05</td>\n",
       "</tr>\n",
       "<tr>\n",
       "  <th>District_الصحافة</th>                  <td> 9.435e+05</td> <td> 4.19e+04</td> <td>   22.540</td> <td> 0.000</td> <td> 8.61e+05</td> <td> 1.03e+06</td>\n",
       "</tr>\n",
       "<tr>\n",
       "  <th>District_الصفا</th>                    <td> 2.021e+05</td> <td> 2.31e+05</td> <td>    0.877</td> <td> 0.381</td> <td> -2.5e+05</td> <td> 6.54e+05</td>\n",
       "</tr>\n",
       "<tr>\n",
       "  <th>District_العارض</th>                   <td> 1.601e+06</td> <td> 4.65e+04</td> <td>   34.434</td> <td> 0.000</td> <td> 1.51e+06</td> <td> 1.69e+06</td>\n",
       "</tr>\n",
       "<tr>\n",
       "  <th>District_العريجاء</th>                 <td>  4.17e+05</td> <td> 1.64e+05</td> <td>    2.540</td> <td> 0.011</td> <td> 9.52e+04</td> <td> 7.39e+05</td>\n",
       "</tr>\n",
       "<tr>\n",
       "  <th>District_العريجاء الغربية</th>         <td> 2.672e+05</td> <td> 7.24e+04</td> <td>    3.690</td> <td> 0.000</td> <td> 1.25e+05</td> <td> 4.09e+05</td>\n",
       "</tr>\n",
       "<tr>\n",
       "  <th>District_العريجاء الوسطى</th>          <td> 3.054e+05</td> <td> 1.18e+05</td> <td>    2.587</td> <td> 0.010</td> <td> 7.39e+04</td> <td> 5.37e+05</td>\n",
       "</tr>\n",
       "<tr>\n",
       "  <th>District_العزيزية</th>                 <td> 2.463e+05</td> <td> 6.42e+04</td> <td>    3.834</td> <td> 0.000</td> <td>  1.2e+05</td> <td> 3.72e+05</td>\n",
       "</tr>\n",
       "<tr>\n",
       "  <th>District_العليا</th>                   <td> 6.478e+05</td> <td> 9.98e+04</td> <td>    6.493</td> <td> 0.000</td> <td> 4.52e+05</td> <td> 8.43e+05</td>\n",
       "</tr>\n",
       "<tr>\n",
       "  <th>District_العود</th>                    <td>-1.658e+05</td> <td> 1.65e+05</td> <td>   -1.005</td> <td> 0.315</td> <td>-4.89e+05</td> <td> 1.58e+05</td>\n",
       "</tr>\n",
       "<tr>\n",
       "  <th>District_الفاروق</th>                  <td>-2.933e+05</td> <td> 2.32e+05</td> <td>   -1.263</td> <td> 0.207</td> <td>-7.49e+05</td> <td> 1.62e+05</td>\n",
       "</tr>\n",
       "<tr>\n",
       "  <th>District_الفلاح</th>                   <td>  1.15e+06</td> <td> 2.31e+05</td> <td>    4.979</td> <td> 0.000</td> <td> 6.97e+05</td> <td>  1.6e+06</td>\n",
       "</tr>\n",
       "<tr>\n",
       "  <th>District_الفوطة</th>                   <td> 3.324e+05</td> <td> 8.79e+04</td> <td>    3.782</td> <td> 0.000</td> <td>  1.6e+05</td> <td> 5.05e+05</td>\n",
       "</tr>\n",
       "<tr>\n",
       "  <th>District_الفيحاء</th>                  <td> 8.238e+05</td> <td> 1.37e+05</td> <td>    5.992</td> <td> 0.000</td> <td> 5.54e+05</td> <td> 1.09e+06</td>\n",
       "</tr>\n",
       "<tr>\n",
       "  <th>District_القادسية</th>                 <td> 9.574e+05</td> <td> 4.06e+04</td> <td>   23.609</td> <td> 0.000</td> <td> 8.78e+05</td> <td> 1.04e+06</td>\n",
       "</tr>\n",
       "<tr>\n",
       "  <th>District_القدس</th>                    <td> 1.729e+06</td> <td> 1.37e+05</td> <td>   12.607</td> <td> 0.000</td> <td> 1.46e+06</td> <td>    2e+06</td>\n",
       "</tr>\n",
       "<tr>\n",
       "  <th>District_القيروان</th>                 <td> 1.049e+06</td> <td> 7.41e+04</td> <td>   14.161</td> <td> 0.000</td> <td> 9.04e+05</td> <td> 1.19e+06</td>\n",
       "</tr>\n",
       "<tr>\n",
       "  <th>District_المدينة الصناعية الجديدة</th> <td>-1.951e+05</td> <td>  2.3e+05</td> <td>   -0.848</td> <td> 0.397</td> <td>-6.46e+05</td> <td> 2.56e+05</td>\n",
       "</tr>\n",
       "<tr>\n",
       "  <th>District_المربع</th>                   <td> 2.307e+05</td> <td>  2.3e+05</td> <td>    1.004</td> <td> 0.315</td> <td> -2.2e+05</td> <td> 6.81e+05</td>\n",
       "</tr>\n",
       "<tr>\n",
       "  <th>District_المروة</th>                   <td> 1.004e+06</td> <td> 9.03e+04</td> <td>   11.124</td> <td> 0.000</td> <td> 8.27e+05</td> <td> 1.18e+06</td>\n",
       "</tr>\n",
       "<tr>\n",
       "  <th>District_المروج</th>                   <td> 1.455e+06</td> <td> 1.07e+05</td> <td>   13.632</td> <td> 0.000</td> <td> 1.25e+06</td> <td> 1.66e+06</td>\n",
       "</tr>\n",
       "<tr>\n",
       "  <th>District_المصانع</th>                  <td>-3.776e+05</td> <td> 7.95e+04</td> <td>   -4.750</td> <td> 0.000</td> <td>-5.33e+05</td> <td>-2.22e+05</td>\n",
       "</tr>\n",
       "<tr>\n",
       "  <th>District_المصيف</th>                   <td>  4.38e+05</td> <td> 2.31e+05</td> <td>    1.896</td> <td> 0.058</td> <td> -1.5e+04</td> <td> 8.91e+05</td>\n",
       "</tr>\n",
       "<tr>\n",
       "  <th>District_المعيزلة</th>                 <td> 8.892e+05</td> <td> 1.18e+05</td> <td>    7.535</td> <td> 0.000</td> <td> 6.58e+05</td> <td> 1.12e+06</td>\n",
       "</tr>\n",
       "<tr>\n",
       "  <th>District_الملز</th>                    <td> 1.828e+05</td> <td>  2.3e+05</td> <td>    0.794</td> <td> 0.427</td> <td>-2.68e+05</td> <td> 6.34e+05</td>\n",
       "</tr>\n",
       "<tr>\n",
       "  <th>District_الملقا</th>                   <td> 2.068e+06</td> <td> 9.14e+04</td> <td>   22.620</td> <td> 0.000</td> <td> 1.89e+06</td> <td> 2.25e+06</td>\n",
       "</tr>\n",
       "<tr>\n",
       "  <th>District_الملك فهد</th>                <td> 8.202e+05</td> <td> 9.79e+04</td> <td>    8.374</td> <td> 0.000</td> <td> 6.28e+05</td> <td> 1.01e+06</td>\n",
       "</tr>\n",
       "<tr>\n",
       "  <th>District_الملك فيصل</th>               <td> 7.012e+05</td> <td>    1e+05</td> <td>    7.004</td> <td> 0.000</td> <td> 5.05e+05</td> <td> 8.97e+05</td>\n",
       "</tr>\n",
       "<tr>\n",
       "  <th>District_المنار</th>                   <td> 1.079e+06</td> <td> 2.32e+05</td> <td>    4.644</td> <td> 0.000</td> <td> 6.23e+05</td> <td> 1.53e+06</td>\n",
       "</tr>\n",
       "<tr>\n",
       "  <th>District_المنصورة</th>                 <td> 2.569e+05</td> <td> 1.17e+05</td> <td>    2.187</td> <td> 0.029</td> <td> 2.65e+04</td> <td> 4.87e+05</td>\n",
       "</tr>\n",
       "<tr>\n",
       "  <th>District_المهدية</th>                  <td> 8.567e+05</td> <td>  4.5e+04</td> <td>   19.030</td> <td> 0.000</td> <td> 7.68e+05</td> <td> 9.45e+05</td>\n",
       "</tr>\n",
       "<tr>\n",
       "  <th>District_المونسية</th>                 <td> 1.244e+06</td> <td> 4.54e+04</td> <td>   27.429</td> <td> 0.000</td> <td> 1.16e+06</td> <td> 1.33e+06</td>\n",
       "</tr>\n",
       "<tr>\n",
       "  <th>District_النرجس</th>                   <td> 1.874e+06</td> <td> 4.84e+04</td> <td>   38.709</td> <td> 0.000</td> <td> 1.78e+06</td> <td> 1.97e+06</td>\n",
       "</tr>\n",
       "<tr>\n",
       "  <th>District_النزهة</th>                   <td>  1.59e+06</td> <td> 1.65e+05</td> <td>    9.650</td> <td> 0.000</td> <td> 1.27e+06</td> <td> 1.91e+06</td>\n",
       "</tr>\n",
       "<tr>\n",
       "  <th>District_النسيم الشرقي</th>            <td> 2.577e+05</td> <td> 9.35e+04</td> <td>    2.755</td> <td> 0.006</td> <td> 7.43e+04</td> <td> 4.41e+05</td>\n",
       "</tr>\n",
       "<tr>\n",
       "  <th>District_النسيم الغربي</th>            <td> 4.443e+05</td> <td> 7.12e+04</td> <td>    6.236</td> <td> 0.000</td> <td> 3.05e+05</td> <td> 5.84e+05</td>\n",
       "</tr>\n",
       "<tr>\n",
       "  <th>District_النظيم</th>                   <td> 6.045e+05</td> <td> 3.67e+04</td> <td>   16.453</td> <td> 0.000</td> <td> 5.32e+05</td> <td> 6.77e+05</td>\n",
       "</tr>\n",
       "<tr>\n",
       "  <th>District_النفل</th>                    <td> 1.825e+06</td> <td> 1.64e+05</td> <td>   11.103</td> <td> 0.000</td> <td>  1.5e+06</td> <td> 2.15e+06</td>\n",
       "</tr>\n",
       "<tr>\n",
       "  <th>District_النهضة</th>                   <td> 1.011e+06</td> <td> 6.48e+04</td> <td>   15.597</td> <td> 0.000</td> <td> 8.84e+05</td> <td> 1.14e+06</td>\n",
       "</tr>\n",
       "<tr>\n",
       "  <th>District_الواحة</th>                   <td> 2.215e+06</td> <td> 2.32e+05</td> <td>    9.566</td> <td> 0.000</td> <td> 1.76e+06</td> <td> 2.67e+06</td>\n",
       "</tr>\n",
       "<tr>\n",
       "  <th>District_الوادي</th>                   <td> 1.357e+06</td> <td> 1.18e+05</td> <td>   11.497</td> <td> 0.000</td> <td> 1.13e+06</td> <td> 1.59e+06</td>\n",
       "</tr>\n",
       "<tr>\n",
       "  <th>District_الورود</th>                   <td> 5.335e+05</td> <td> 2.32e+05</td> <td>    2.298</td> <td> 0.022</td> <td> 7.82e+04</td> <td> 9.89e+05</td>\n",
       "</tr>\n",
       "<tr>\n",
       "  <th>District_الوشام</th>                   <td> 5.764e+05</td> <td> 2.33e+05</td> <td>    2.469</td> <td> 0.014</td> <td> 1.19e+05</td> <td> 1.03e+06</td>\n",
       "</tr>\n",
       "<tr>\n",
       "  <th>District_الياسمين</th>                 <td> 2.022e+06</td> <td> 7.63e+04</td> <td>   26.496</td> <td> 0.000</td> <td> 1.87e+06</td> <td> 2.17e+06</td>\n",
       "</tr>\n",
       "<tr>\n",
       "  <th>District_اليرموك</th>                  <td> 1.133e+06</td> <td> 6.49e+04</td> <td>   17.463</td> <td> 0.000</td> <td> 1.01e+06</td> <td> 1.26e+06</td>\n",
       "</tr>\n",
       "<tr>\n",
       "  <th>District_اليمامة</th>                  <td>-3.252e+05</td> <td> 2.31e+05</td> <td>   -1.410</td> <td> 0.159</td> <td>-7.77e+05</td> <td> 1.27e+05</td>\n",
       "</tr>\n",
       "<tr>\n",
       "  <th>District_ام الحمام الشرقي</th>         <td> 6.375e+05</td> <td> 2.29e+05</td> <td>    2.780</td> <td> 0.005</td> <td> 1.88e+05</td> <td> 1.09e+06</td>\n",
       "</tr>\n",
       "<tr>\n",
       "  <th>District_ام الحمام الغربي</th>         <td>-1.626e+05</td> <td> 2.32e+05</td> <td>   -0.701</td> <td> 0.483</td> <td>-6.17e+05</td> <td> 2.92e+05</td>\n",
       "</tr>\n",
       "<tr>\n",
       "  <th>District_ام سليم</th>                  <td> 1.403e+05</td> <td> 2.29e+05</td> <td>    0.612</td> <td> 0.541</td> <td>-3.09e+05</td> <td>  5.9e+05</td>\n",
       "</tr>\n",
       "<tr>\n",
       "  <th>District_بدر</th>                      <td> 2.729e+05</td> <td> 4.43e+04</td> <td>    6.160</td> <td> 0.000</td> <td> 1.86e+05</td> <td>  3.6e+05</td>\n",
       "</tr>\n",
       "<tr>\n",
       "  <th>District_بنبان</th>                    <td> 6.416e+04</td> <td> 3.83e+04</td> <td>    1.677</td> <td> 0.094</td> <td>-1.09e+04</td> <td> 1.39e+05</td>\n",
       "</tr>\n",
       "<tr>\n",
       "  <th>District_ثليم</th>                     <td> 1.378e+05</td> <td> 1.35e+05</td> <td>    1.022</td> <td> 0.307</td> <td>-1.26e+05</td> <td> 4.02e+05</td>\n",
       "</tr>\n",
       "<tr>\n",
       "  <th>District_جبرة</th>                     <td> -4.14e+04</td> <td> 8.59e+04</td> <td>   -0.482</td> <td> 0.630</td> <td> -2.1e+05</td> <td> 1.27e+05</td>\n",
       "</tr>\n",
       "<tr>\n",
       "  <th>District_ديراب</th>                    <td> 1.815e+05</td> <td> 9.16e+04</td> <td>    1.980</td> <td> 0.048</td> <td> 1797.026</td> <td> 3.61e+05</td>\n",
       "</tr>\n",
       "<tr>\n",
       "  <th>District_سلطانة</th>                   <td>-1.049e+05</td> <td> 4.53e+04</td> <td>   -2.313</td> <td> 0.021</td> <td>-1.94e+05</td> <td> -1.6e+04</td>\n",
       "</tr>\n",
       "<tr>\n",
       "  <th>District_شبرا</th>                     <td> 4.243e+05</td> <td> 1.19e+05</td> <td>    3.580</td> <td> 0.000</td> <td> 1.92e+05</td> <td> 6.57e+05</td>\n",
       "</tr>\n",
       "<tr>\n",
       "  <th>District_طويق</th>                     <td> 4.713e+05</td> <td> 3.42e+04</td> <td>   13.762</td> <td> 0.000</td> <td> 4.04e+05</td> <td> 5.39e+05</td>\n",
       "</tr>\n",
       "<tr>\n",
       "  <th>District_طيبة</th>                     <td> 2.335e+05</td> <td> 5.79e+04</td> <td>    4.030</td> <td> 0.000</td> <td>  1.2e+05</td> <td> 3.47e+05</td>\n",
       "</tr>\n",
       "<tr>\n",
       "  <th>District_ظهرة البديعة</th>             <td> 3.001e+05</td> <td> 9.38e+04</td> <td>    3.199</td> <td> 0.001</td> <td> 1.16e+05</td> <td> 4.84e+05</td>\n",
       "</tr>\n",
       "<tr>\n",
       "  <th>District_ظهرة لبن</th>                 <td> 8.849e+05</td> <td> 3.72e+04</td> <td>   23.808</td> <td> 0.000</td> <td> 8.12e+05</td> <td> 9.58e+05</td>\n",
       "</tr>\n",
       "<tr>\n",
       "  <th>District_ظهرة نمار</th>                <td>  6.04e+05</td> <td> 6.54e+04</td> <td>    9.238</td> <td> 0.000</td> <td> 4.76e+05</td> <td> 7.32e+05</td>\n",
       "</tr>\n",
       "<tr>\n",
       "  <th>District_عتيقة</th>                    <td>-2.155e+05</td> <td> 1.37e+05</td> <td>   -1.577</td> <td> 0.115</td> <td>-4.83e+05</td> <td> 5.24e+04</td>\n",
       "</tr>\n",
       "<tr>\n",
       "  <th>District_عكاظ</th>                     <td> 2.926e+05</td> <td> 4.03e+04</td> <td>    7.270</td> <td> 0.000</td> <td> 2.14e+05</td> <td> 3.72e+05</td>\n",
       "</tr>\n",
       "<tr>\n",
       "  <th>District_عليشة</th>                    <td>-1.086e+05</td> <td> 2.32e+05</td> <td>   -0.469</td> <td> 0.639</td> <td>-5.63e+05</td> <td> 3.46e+05</td>\n",
       "</tr>\n",
       "<tr>\n",
       "  <th>District_غبيرة</th>                    <td>-1.433e+05</td> <td> 7.04e+04</td> <td>   -2.035</td> <td> 0.042</td> <td>-2.81e+05</td> <td>-5252.994</td>\n",
       "</tr>\n",
       "<tr>\n",
       "  <th>District_غرناطة</th>                   <td> 1.188e+06</td> <td>  2.3e+05</td> <td>    5.166</td> <td> 0.000</td> <td> 7.37e+05</td> <td> 1.64e+06</td>\n",
       "</tr>\n",
       "<tr>\n",
       "  <th>District_قرطبة</th>                    <td> 1.907e+06</td> <td> 1.18e+05</td> <td>   16.111</td> <td> 0.000</td> <td> 1.67e+06</td> <td> 2.14e+06</td>\n",
       "</tr>\n",
       "<tr>\n",
       "  <th>District_منفوحة</th>                   <td>-1.772e+05</td> <td> 1.35e+05</td> <td>   -1.316</td> <td> 0.188</td> <td>-4.41e+05</td> <td> 8.68e+04</td>\n",
       "</tr>\n",
       "<tr>\n",
       "  <th>District_منفوحة الجديدة</th>           <td>-1.172e+05</td> <td> 3.53e+04</td> <td>   -3.320</td> <td> 0.001</td> <td>-1.86e+05</td> <td> -4.8e+04</td>\n",
       "</tr>\n",
       "<tr>\n",
       "  <th>District_نمار</th>                     <td> 4.366e+05</td> <td> 2.32e+05</td> <td>    1.880</td> <td> 0.060</td> <td>-1.87e+04</td> <td> 8.92e+05</td>\n",
       "</tr>\n",
       "</table>\n",
       "<table class=\"simpletable\">\n",
       "<tr>\n",
       "  <th>Omnibus:</th>       <td>357.584</td> <th>  Durbin-Watson:     </th> <td>   1.944</td>\n",
       "</tr>\n",
       "<tr>\n",
       "  <th>Prob(Omnibus):</th> <td> 0.000</td>  <th>  Jarque-Bera (JB):  </th> <td>2862.186</td>\n",
       "</tr>\n",
       "<tr>\n",
       "  <th>Skew:</th>          <td> 0.255</td>  <th>  Prob(JB):          </th> <td>    0.00</td>\n",
       "</tr>\n",
       "<tr>\n",
       "  <th>Kurtosis:</th>      <td> 7.732</td>  <th>  Cond. No.          </th> <td>1.67e+05</td>\n",
       "</tr>\n",
       "</table><br/><br/>Notes:<br/>[1] R² is computed without centering (uncentered) since the model does not contain a constant.<br/>[2] Standard Errors assume that the covariance matrix of the errors is correctly specified.<br/>[3] The condition number is large, 1.67e+05. This might indicate that there are<br/>strong multicollinearity or other numerical problems."
      ],
      "text/plain": [
       "<class 'statsmodels.iolib.summary.Summary'>\n",
       "\"\"\"\n",
       "                                 OLS Regression Results                                \n",
       "=======================================================================================\n",
       "Dep. Variable:                  Price   R-squared (uncentered):                   0.976\n",
       "Model:                            OLS   Adj. R-squared (uncentered):              0.975\n",
       "Method:                 Least Squares   F-statistic:                              1132.\n",
       "Date:                Sun, 24 Oct 2021   Prob (F-statistic):                        0.00\n",
       "Time:                        21:10:31   Log-Likelihood:                         -41674.\n",
       "No. Observations:                3033   AIC:                                  8.356e+04\n",
       "Df Residuals:                    2928   BIC:                                  8.419e+04\n",
       "Df Model:                         105                                                  \n",
       "Covariance Type:            nonrobust                                                  \n",
       "=====================================================================================================\n",
       "                                        coef    std err          t      P>|t|      [0.025      0.975]\n",
       "-----------------------------------------------------------------------------------------------------\n",
       "Unnamed: 0                          -59.1217      5.794    -10.203      0.000     -70.483     -47.760\n",
       "Num_Of_Bedrooms                    2.357e+04   6025.855      3.911      0.000    1.18e+04    3.54e+04\n",
       "Num_Of_Bathrooms                   2.001e+04   5760.866      3.474      0.001    8714.680    3.13e+04\n",
       "Size(m²)                           1702.7244     36.947     46.085      0.000    1630.279    1775.170\n",
       "StreetWidth                         313.4026    650.010      0.482      0.630    -961.120    1587.925\n",
       "District_اشبيلية                   1.096e+06   7.88e+04     13.909      0.000    9.42e+05    1.25e+06\n",
       "District_الازدهار                  1.114e+06   1.37e+05      8.139      0.000    8.46e+05    1.38e+06\n",
       "District_الاندلس                   1.186e+06   1.18e+05     10.018      0.000    9.54e+05    1.42e+06\n",
       "District_البديعة                  -1.581e+04   1.06e+05     -0.149      0.881   -2.23e+05    1.92e+05\n",
       "District_التعاون                   1.472e+06   1.37e+05     10.781      0.000     1.2e+06    1.74e+06\n",
       "District_الجرادية                 -1.459e+04   7.06e+04     -0.207      0.836   -1.53e+05    1.24e+05\n",
       "District_الجزيرة                    2.33e+05   1.64e+05      1.419      0.156    -8.9e+04    5.55e+05\n",
       "District_الجنادرية                 6.136e+05   9.28e+04      6.615      0.000    4.32e+05    7.95e+05\n",
       "District_الحائر                   -1.029e+05   7.78e+04     -1.322      0.186   -2.56e+05    4.97e+04\n",
       "District_الحزم                     4.068e+05   4.67e+04      8.714      0.000    3.15e+05    4.98e+05\n",
       "District_الحمراء                   1.045e+06   1.65e+05      6.335      0.000    7.22e+05    1.37e+06\n",
       "District_الخالدية                  1.164e+05   1.37e+05      0.850      0.395   -1.52e+05    3.85e+05\n",
       "District_الخليج                    1.011e+06   4.35e+04     23.227      0.000    9.25e+05     1.1e+06\n",
       "District_الدار البيضاء             7.684e+04   3.61e+04      2.126      0.034    5985.638    1.48e+05\n",
       "District_الدريهمية                  7.44e+04   1.65e+05      0.451      0.652   -2.49e+05    3.98e+05\n",
       "District_الربوة                    9.509e+05   2.32e+05      4.094      0.000    4.95e+05    1.41e+06\n",
       "District_الربيع                    1.108e+06   2.31e+05      4.807      0.000    6.56e+05    1.56e+06\n",
       "District_الرمال                    6.806e+05   4.22e+04     16.130      0.000    5.98e+05    7.63e+05\n",
       "District_الروضة                     7.64e+05   1.09e+05      7.031      0.000    5.51e+05    9.77e+05\n",
       "District_الرياض                    3.596e+05   6.85e+04      5.253      0.000    2.25e+05    4.94e+05\n",
       "District_الريان                    8.704e+05   2.32e+05      3.744      0.000    4.15e+05    1.33e+06\n",
       "District_الزهرة                    1.863e+05   1.09e+05      1.713      0.087   -2.69e+04       4e+05\n",
       "District_السعادة                   1.017e+06   8.72e+04     11.666      0.000    8.46e+05    1.19e+06\n",
       "District_السلام                    4.105e+05   2.32e+05      1.769      0.077   -4.44e+04    8.65e+05\n",
       "District_السليمانية                1.005e+06   1.37e+05      7.361      0.000    7.37e+05    1.27e+06\n",
       "District_السويدي                   9.757e+04    8.3e+04      1.176      0.240   -6.51e+04     2.6e+05\n",
       "District_السويدي الغربي            1.768e+05   1.66e+05      1.067      0.286   -1.48e+05    5.02e+05\n",
       "District_الشرق                     6.428e+05   5.18e+04     12.404      0.000    5.41e+05    7.44e+05\n",
       "District_الشفا                     1.263e+05   4.63e+04      2.726      0.006    3.55e+04    2.17e+05\n",
       "District_الشميسي                  -9.148e+04   3.77e+04     -2.424      0.015   -1.65e+05   -1.75e+04\n",
       "District_الصالحية                  -1.91e+05   1.64e+05     -1.161      0.246   -5.13e+05    1.31e+05\n",
       "District_الصحافة                   9.435e+05   4.19e+04     22.540      0.000    8.61e+05    1.03e+06\n",
       "District_الصفا                     2.021e+05   2.31e+05      0.877      0.381    -2.5e+05    6.54e+05\n",
       "District_العارض                    1.601e+06   4.65e+04     34.434      0.000    1.51e+06    1.69e+06\n",
       "District_العريجاء                   4.17e+05   1.64e+05      2.540      0.011    9.52e+04    7.39e+05\n",
       "District_العريجاء الغربية          2.672e+05   7.24e+04      3.690      0.000    1.25e+05    4.09e+05\n",
       "District_العريجاء الوسطى           3.054e+05   1.18e+05      2.587      0.010    7.39e+04    5.37e+05\n",
       "District_العزيزية                  2.463e+05   6.42e+04      3.834      0.000     1.2e+05    3.72e+05\n",
       "District_العليا                    6.478e+05   9.98e+04      6.493      0.000    4.52e+05    8.43e+05\n",
       "District_العود                    -1.658e+05   1.65e+05     -1.005      0.315   -4.89e+05    1.58e+05\n",
       "District_الفاروق                  -2.933e+05   2.32e+05     -1.263      0.207   -7.49e+05    1.62e+05\n",
       "District_الفلاح                     1.15e+06   2.31e+05      4.979      0.000    6.97e+05     1.6e+06\n",
       "District_الفوطة                    3.324e+05   8.79e+04      3.782      0.000     1.6e+05    5.05e+05\n",
       "District_الفيحاء                   8.238e+05   1.37e+05      5.992      0.000    5.54e+05    1.09e+06\n",
       "District_القادسية                  9.574e+05   4.06e+04     23.609      0.000    8.78e+05    1.04e+06\n",
       "District_القدس                     1.729e+06   1.37e+05     12.607      0.000    1.46e+06       2e+06\n",
       "District_القيروان                  1.049e+06   7.41e+04     14.161      0.000    9.04e+05    1.19e+06\n",
       "District_المدينة الصناعية الجديدة -1.951e+05    2.3e+05     -0.848      0.397   -6.46e+05    2.56e+05\n",
       "District_المربع                    2.307e+05    2.3e+05      1.004      0.315    -2.2e+05    6.81e+05\n",
       "District_المروة                    1.004e+06   9.03e+04     11.124      0.000    8.27e+05    1.18e+06\n",
       "District_المروج                    1.455e+06   1.07e+05     13.632      0.000    1.25e+06    1.66e+06\n",
       "District_المصانع                  -3.776e+05   7.95e+04     -4.750      0.000   -5.33e+05   -2.22e+05\n",
       "District_المصيف                     4.38e+05   2.31e+05      1.896      0.058    -1.5e+04    8.91e+05\n",
       "District_المعيزلة                  8.892e+05   1.18e+05      7.535      0.000    6.58e+05    1.12e+06\n",
       "District_الملز                     1.828e+05    2.3e+05      0.794      0.427   -2.68e+05    6.34e+05\n",
       "District_الملقا                    2.068e+06   9.14e+04     22.620      0.000    1.89e+06    2.25e+06\n",
       "District_الملك فهد                 8.202e+05   9.79e+04      8.374      0.000    6.28e+05    1.01e+06\n",
       "District_الملك فيصل                7.012e+05      1e+05      7.004      0.000    5.05e+05    8.97e+05\n",
       "District_المنار                    1.079e+06   2.32e+05      4.644      0.000    6.23e+05    1.53e+06\n",
       "District_المنصورة                  2.569e+05   1.17e+05      2.187      0.029    2.65e+04    4.87e+05\n",
       "District_المهدية                   8.567e+05    4.5e+04     19.030      0.000    7.68e+05    9.45e+05\n",
       "District_المونسية                  1.244e+06   4.54e+04     27.429      0.000    1.16e+06    1.33e+06\n",
       "District_النرجس                    1.874e+06   4.84e+04     38.709      0.000    1.78e+06    1.97e+06\n",
       "District_النزهة                     1.59e+06   1.65e+05      9.650      0.000    1.27e+06    1.91e+06\n",
       "District_النسيم الشرقي             2.577e+05   9.35e+04      2.755      0.006    7.43e+04    4.41e+05\n",
       "District_النسيم الغربي             4.443e+05   7.12e+04      6.236      0.000    3.05e+05    5.84e+05\n",
       "District_النظيم                    6.045e+05   3.67e+04     16.453      0.000    5.32e+05    6.77e+05\n",
       "District_النفل                     1.825e+06   1.64e+05     11.103      0.000     1.5e+06    2.15e+06\n",
       "District_النهضة                    1.011e+06   6.48e+04     15.597      0.000    8.84e+05    1.14e+06\n",
       "District_الواحة                    2.215e+06   2.32e+05      9.566      0.000    1.76e+06    2.67e+06\n",
       "District_الوادي                    1.357e+06   1.18e+05     11.497      0.000    1.13e+06    1.59e+06\n",
       "District_الورود                    5.335e+05   2.32e+05      2.298      0.022    7.82e+04    9.89e+05\n",
       "District_الوشام                    5.764e+05   2.33e+05      2.469      0.014    1.19e+05    1.03e+06\n",
       "District_الياسمين                  2.022e+06   7.63e+04     26.496      0.000    1.87e+06    2.17e+06\n",
       "District_اليرموك                   1.133e+06   6.49e+04     17.463      0.000    1.01e+06    1.26e+06\n",
       "District_اليمامة                  -3.252e+05   2.31e+05     -1.410      0.159   -7.77e+05    1.27e+05\n",
       "District_ام الحمام الشرقي          6.375e+05   2.29e+05      2.780      0.005    1.88e+05    1.09e+06\n",
       "District_ام الحمام الغربي         -1.626e+05   2.32e+05     -0.701      0.483   -6.17e+05    2.92e+05\n",
       "District_ام سليم                   1.403e+05   2.29e+05      0.612      0.541   -3.09e+05     5.9e+05\n",
       "District_بدر                       2.729e+05   4.43e+04      6.160      0.000    1.86e+05     3.6e+05\n",
       "District_بنبان                     6.416e+04   3.83e+04      1.677      0.094   -1.09e+04    1.39e+05\n",
       "District_ثليم                      1.378e+05   1.35e+05      1.022      0.307   -1.26e+05    4.02e+05\n",
       "District_جبرة                      -4.14e+04   8.59e+04     -0.482      0.630    -2.1e+05    1.27e+05\n",
       "District_ديراب                     1.815e+05   9.16e+04      1.980      0.048    1797.026    3.61e+05\n",
       "District_سلطانة                   -1.049e+05   4.53e+04     -2.313      0.021   -1.94e+05    -1.6e+04\n",
       "District_شبرا                      4.243e+05   1.19e+05      3.580      0.000    1.92e+05    6.57e+05\n",
       "District_طويق                      4.713e+05   3.42e+04     13.762      0.000    4.04e+05    5.39e+05\n",
       "District_طيبة                      2.335e+05   5.79e+04      4.030      0.000     1.2e+05    3.47e+05\n",
       "District_ظهرة البديعة              3.001e+05   9.38e+04      3.199      0.001    1.16e+05    4.84e+05\n",
       "District_ظهرة لبن                  8.849e+05   3.72e+04     23.808      0.000    8.12e+05    9.58e+05\n",
       "District_ظهرة نمار                  6.04e+05   6.54e+04      9.238      0.000    4.76e+05    7.32e+05\n",
       "District_عتيقة                    -2.155e+05   1.37e+05     -1.577      0.115   -4.83e+05    5.24e+04\n",
       "District_عكاظ                      2.926e+05   4.03e+04      7.270      0.000    2.14e+05    3.72e+05\n",
       "District_عليشة                    -1.086e+05   2.32e+05     -0.469      0.639   -5.63e+05    3.46e+05\n",
       "District_غبيرة                    -1.433e+05   7.04e+04     -2.035      0.042   -2.81e+05   -5252.994\n",
       "District_غرناطة                    1.188e+06    2.3e+05      5.166      0.000    7.37e+05    1.64e+06\n",
       "District_قرطبة                     1.907e+06   1.18e+05     16.111      0.000    1.67e+06    2.14e+06\n",
       "District_منفوحة                   -1.772e+05   1.35e+05     -1.316      0.188   -4.41e+05    8.68e+04\n",
       "District_منفوحة الجديدة           -1.172e+05   3.53e+04     -3.320      0.001   -1.86e+05    -4.8e+04\n",
       "District_نمار                      4.366e+05   2.32e+05      1.880      0.060   -1.87e+04    8.92e+05\n",
       "==============================================================================\n",
       "Omnibus:                      357.584   Durbin-Watson:                   1.944\n",
       "Prob(Omnibus):                  0.000   Jarque-Bera (JB):             2862.186\n",
       "Skew:                           0.255   Prob(JB):                         0.00\n",
       "Kurtosis:                       7.732   Cond. No.                     1.67e+05\n",
       "==============================================================================\n",
       "\n",
       "Notes:\n",
       "[1] R² is computed without centering (uncentered) since the model does not contain a constant.\n",
       "[2] Standard Errors assume that the covariance matrix of the errors is correctly specified.\n",
       "[3] The condition number is large, 1.67e+05. This might indicate that there are\n",
       "strong multicollinearity or other numerical problems.\n",
       "\"\"\""
      ]
     },
     "execution_count": 84,
     "metadata": {},
     "output_type": "execute_result"
    }
   ],
   "source": [
    "X = Sale_DF_dummy.drop([\"Price\"],axis=1)\n",
    "y = Sale_DF_dummy[\"Price\"]\n",
    "\n",
    "m = sm.OLS(y,X, data = Sale_DF_dummy)\n",
    "re = m.fit()\n",
    "re.summary()"
   ]
  },
  {
   "cell_type": "markdown",
   "id": "90c5d103",
   "metadata": {},
   "source": [
    "# Regression after dummy\n",
    "Splitting the data into 3 parts: 60% training, 20% validation , 20% testing."
   ]
  },
  {
   "cell_type": "code",
   "execution_count": 85,
   "id": "77984e13",
   "metadata": {},
   "outputs": [],
   "source": [
    "X = Sale_DF_dummy.drop([\"Price\"],axis=1)\n",
    "y = Sale_DF_dummy[\"Price\"]\n",
    "\n",
    "X, X_test, y, y_test = train_test_split(X, y, test_size=0.2, random_state=40)\n",
    "X_train, X_val, y_train, y_val = train_test_split(X, y, test_size=0.25, random_state=40)"
   ]
  },
  {
   "cell_type": "code",
   "execution_count": 86,
   "id": "f4d3e1dc",
   "metadata": {},
   "outputs": [
    {
     "data": {
      "text/html": [
       "<div>\n",
       "<style scoped>\n",
       "    .dataframe tbody tr th:only-of-type {\n",
       "        vertical-align: middle;\n",
       "    }\n",
       "\n",
       "    .dataframe tbody tr th {\n",
       "        vertical-align: top;\n",
       "    }\n",
       "\n",
       "    .dataframe thead th {\n",
       "        text-align: right;\n",
       "    }\n",
       "</style>\n",
       "<table border=\"1\" class=\"dataframe\">\n",
       "  <thead>\n",
       "    <tr style=\"text-align: right;\">\n",
       "      <th></th>\n",
       "      <th>Unnamed: 0</th>\n",
       "      <th>Num_Of_Bedrooms</th>\n",
       "      <th>Num_Of_Bathrooms</th>\n",
       "      <th>Size(m²)</th>\n",
       "      <th>StreetWidth</th>\n",
       "      <th>District_اشبيلية</th>\n",
       "      <th>District_الازدهار</th>\n",
       "      <th>District_الاندلس</th>\n",
       "      <th>District_البديعة</th>\n",
       "      <th>District_التعاون</th>\n",
       "      <th>...</th>\n",
       "      <th>District_ظهرة نمار</th>\n",
       "      <th>District_عتيقة</th>\n",
       "      <th>District_عكاظ</th>\n",
       "      <th>District_عليشة</th>\n",
       "      <th>District_غبيرة</th>\n",
       "      <th>District_غرناطة</th>\n",
       "      <th>District_قرطبة</th>\n",
       "      <th>District_منفوحة</th>\n",
       "      <th>District_منفوحة الجديدة</th>\n",
       "      <th>District_نمار</th>\n",
       "    </tr>\n",
       "  </thead>\n",
       "  <tbody>\n",
       "    <tr>\n",
       "      <th>1391</th>\n",
       "      <td>1478</td>\n",
       "      <td>5</td>\n",
       "      <td>4</td>\n",
       "      <td>159</td>\n",
       "      <td>20</td>\n",
       "      <td>0</td>\n",
       "      <td>0</td>\n",
       "      <td>0</td>\n",
       "      <td>0</td>\n",
       "      <td>0</td>\n",
       "      <td>...</td>\n",
       "      <td>0</td>\n",
       "      <td>0</td>\n",
       "      <td>0</td>\n",
       "      <td>0</td>\n",
       "      <td>0</td>\n",
       "      <td>0</td>\n",
       "      <td>0</td>\n",
       "      <td>0</td>\n",
       "      <td>0</td>\n",
       "      <td>0</td>\n",
       "    </tr>\n",
       "    <tr>\n",
       "      <th>2269</th>\n",
       "      <td>2478</td>\n",
       "      <td>4</td>\n",
       "      <td>4</td>\n",
       "      <td>625</td>\n",
       "      <td>20</td>\n",
       "      <td>0</td>\n",
       "      <td>0</td>\n",
       "      <td>0</td>\n",
       "      <td>0</td>\n",
       "      <td>0</td>\n",
       "      <td>...</td>\n",
       "      <td>0</td>\n",
       "      <td>0</td>\n",
       "      <td>0</td>\n",
       "      <td>0</td>\n",
       "      <td>0</td>\n",
       "      <td>0</td>\n",
       "      <td>0</td>\n",
       "      <td>0</td>\n",
       "      <td>0</td>\n",
       "      <td>0</td>\n",
       "    </tr>\n",
       "    <tr>\n",
       "      <th>306</th>\n",
       "      <td>318</td>\n",
       "      <td>3</td>\n",
       "      <td>4</td>\n",
       "      <td>375</td>\n",
       "      <td>16</td>\n",
       "      <td>0</td>\n",
       "      <td>0</td>\n",
       "      <td>0</td>\n",
       "      <td>0</td>\n",
       "      <td>0</td>\n",
       "      <td>...</td>\n",
       "      <td>0</td>\n",
       "      <td>0</td>\n",
       "      <td>0</td>\n",
       "      <td>0</td>\n",
       "      <td>0</td>\n",
       "      <td>0</td>\n",
       "      <td>0</td>\n",
       "      <td>0</td>\n",
       "      <td>0</td>\n",
       "      <td>0</td>\n",
       "    </tr>\n",
       "    <tr>\n",
       "      <th>2348</th>\n",
       "      <td>2565</td>\n",
       "      <td>5</td>\n",
       "      <td>3</td>\n",
       "      <td>422</td>\n",
       "      <td>5</td>\n",
       "      <td>0</td>\n",
       "      <td>0</td>\n",
       "      <td>0</td>\n",
       "      <td>0</td>\n",
       "      <td>0</td>\n",
       "      <td>...</td>\n",
       "      <td>0</td>\n",
       "      <td>0</td>\n",
       "      <td>0</td>\n",
       "      <td>0</td>\n",
       "      <td>0</td>\n",
       "      <td>0</td>\n",
       "      <td>0</td>\n",
       "      <td>0</td>\n",
       "      <td>0</td>\n",
       "      <td>0</td>\n",
       "    </tr>\n",
       "    <tr>\n",
       "      <th>2691</th>\n",
       "      <td>2961</td>\n",
       "      <td>5</td>\n",
       "      <td>5</td>\n",
       "      <td>816</td>\n",
       "      <td>6</td>\n",
       "      <td>0</td>\n",
       "      <td>0</td>\n",
       "      <td>0</td>\n",
       "      <td>0</td>\n",
       "      <td>0</td>\n",
       "      <td>...</td>\n",
       "      <td>0</td>\n",
       "      <td>0</td>\n",
       "      <td>0</td>\n",
       "      <td>0</td>\n",
       "      <td>0</td>\n",
       "      <td>0</td>\n",
       "      <td>0</td>\n",
       "      <td>0</td>\n",
       "      <td>0</td>\n",
       "      <td>0</td>\n",
       "    </tr>\n",
       "  </tbody>\n",
       "</table>\n",
       "<p>5 rows × 105 columns</p>\n",
       "</div>"
      ],
      "text/plain": [
       "      Unnamed: 0  Num_Of_Bedrooms  Num_Of_Bathrooms  Size(m²)  StreetWidth  \\\n",
       "1391        1478                5                 4       159           20   \n",
       "2269        2478                4                 4       625           20   \n",
       "306          318                3                 4       375           16   \n",
       "2348        2565                5                 3       422            5   \n",
       "2691        2961                5                 5       816            6   \n",
       "\n",
       "      District_اشبيلية  District_الازدهار  District_الاندلس  District_البديعة  \\\n",
       "1391                 0                  0                 0                 0   \n",
       "2269                 0                  0                 0                 0   \n",
       "306                  0                  0                 0                 0   \n",
       "2348                 0                  0                 0                 0   \n",
       "2691                 0                  0                 0                 0   \n",
       "\n",
       "      District_التعاون  ...  District_ظهرة نمار  District_عتيقة  \\\n",
       "1391                 0  ...                   0               0   \n",
       "2269                 0  ...                   0               0   \n",
       "306                  0  ...                   0               0   \n",
       "2348                 0  ...                   0               0   \n",
       "2691                 0  ...                   0               0   \n",
       "\n",
       "      District_عكاظ  District_عليشة  District_غبيرة  District_غرناطة  \\\n",
       "1391              0               0               0                0   \n",
       "2269              0               0               0                0   \n",
       "306               0               0               0                0   \n",
       "2348              0               0               0                0   \n",
       "2691              0               0               0                0   \n",
       "\n",
       "      District_قرطبة  District_منفوحة  District_منفوحة الجديدة  District_نمار  \n",
       "1391               0                0                        0              0  \n",
       "2269               0                0                        0              0  \n",
       "306                0                0                        0              0  \n",
       "2348               0                0                        0              0  \n",
       "2691               0                0                        0              0  \n",
       "\n",
       "[5 rows x 105 columns]"
      ]
     },
     "execution_count": 86,
     "metadata": {},
     "output_type": "execute_result"
    }
   ],
   "source": [
    "X_train.head()"
   ]
  },
  {
   "cell_type": "code",
   "execution_count": 87,
   "id": "78068813",
   "metadata": {},
   "outputs": [],
   "source": [
    "lm = LinearRegression()\n",
    "\n",
    "scaler = StandardScaler()\n",
    "\n",
    "X_train_scaled = scaler.fit_transform(X_train.values)\n",
    "X_val_scaled = scaler.transform(X_val.values)\n",
    "X_test_scaled = scaler.transform(X_test.values)\n",
    "\n",
    "\n",
    "poly = PolynomialFeatures(degree=2) \n",
    "\n",
    "X_train_poly = poly.fit_transform(X_train.values)\n",
    "X_val_poly = poly.transform(X_val.values)\n",
    "X_test_poly = poly.transform(X_test.values)\n",
    "\n",
    "poly3 = PolynomialFeatures(degree=3) \n",
    "X_train_poly3 = poly3.fit_transform(X_train.values)\n",
    "X_val_poly3 = poly3.transform(X_val.values)\n",
    "X_test_poly3 = poly3.transform(X_test.values)\n",
    "\n",
    "lm_poly = LinearRegression()\n",
    "\n",
    "\n",
    "lm_reg = Ridge(alpha=1)\n",
    "\n",
    "lm_lasso = Lasso(alpha = 100)"
   ]
  },
  {
   "cell_type": "code",
   "execution_count": 88,
   "id": "a5885ca2",
   "metadata": {},
   "outputs": [
    {
     "name": "stdout",
     "output_type": "stream",
     "text": [
      "====Linear Regression====\n",
      "Linear Regression training R^2: 0.886\n",
      "Linear Regression validation R^2: 0.863\n",
      "====Ridge Regression====\n",
      "Ridge Regression training R^2: 0.886\n",
      "Ridge Regression validation R^2: 0.863\n",
      "====Lasso Regression====\n",
      "Lasso Regression training R^2: 0.886\n",
      "Lasso Regression validation R^2: 0.863\n"
     ]
    }
   ],
   "source": [
    "print(\"====Linear Regression====\")\n",
    "lm.fit(X_train, y_train)\n",
    "print(f'Linear Regression training R^2: {lm.score(X_train,y_train):.3f}')\n",
    "print(f'Linear Regression validation R^2: {lm.score(X_val, y_val):.3f}')\n",
    "\n",
    "print(\"====Ridge Regression====\")\n",
    "lm_reg.fit(X_train_scaled, y_train)\n",
    "print(f'Ridge Regression training R^2: {lm_reg.score(X_train_scaled, y_train):.3f}')\n",
    "print(f'Ridge Regression validation R^2: {lm_reg.score(X_val_scaled, y_val):.3f}')\n",
    "\n",
    "print(\"====Lasso Regression====\")\n",
    "lm_lasso.fit(X_train_scaled, y_train)\n",
    "print(f'Lasso Regression training R^2: {lm_lasso.score(X_train_scaled, y_train):.3f}')\n",
    "print(f'Lasso Regression validation R^2: {lm_lasso.score(X_val_scaled, y_val):.3f}')"
   ]
  },
  {
   "cell_type": "code",
   "execution_count": 89,
   "id": "c5822a87",
   "metadata": {},
   "outputs": [
    {
     "name": "stdout",
     "output_type": "stream",
     "text": [
      "Cross validation for Linear Regression : 0.850056809414647\n"
     ]
    }
   ],
   "source": [
    "kf = KFold(n_splits = 5, shuffle = True, random_state = 71)\n",
    "linearC = cross_val_score(lm,X,y,cv= kf, scoring= \"r2\")\n",
    "print(\"Cross validation for Linear Regression :\",np.mean(linearC))"
   ]
  },
  {
   "cell_type": "code",
   "execution_count": 90,
   "id": "6f0e91b0",
   "metadata": {},
   "outputs": [
    {
     "name": "stdout",
     "output_type": "stream",
     "text": [
      "Cross validation for Ridge: 0.8506169640706334\n"
     ]
    }
   ],
   "source": [
    "kf = KFold(n_splits = 5, shuffle = True, random_state = 71)\n",
    "ridgeC = cross_val_score(lm_reg,X,y,cv= kf, scoring= \"r2\")\n",
    "print(\"Cross validation for Ridge:\",np.mean(ridgeC))"
   ]
  },
  {
   "cell_type": "code",
   "execution_count": 91,
   "id": "04a473df",
   "metadata": {},
   "outputs": [
    {
     "name": "stdout",
     "output_type": "stream",
     "text": [
      "Cross validation for Linear Regression : 0.8536030399997797\n"
     ]
    }
   ],
   "source": [
    "kf = KFold(n_splits = 5, shuffle = True, random_state = 71)\n",
    "lassoC = cross_val_score(lm_lasso,X,y,cv= kf, scoring= \"r2\")\n",
    "print(\"Cross validation for Linear Regression :\",np.mean(lassoC))"
   ]
  },
  {
   "cell_type": "markdown",
   "id": "2aa77cf3",
   "metadata": {},
   "source": [
    "# Test"
   ]
  },
  {
   "cell_type": "code",
   "execution_count": 92,
   "id": "fdcc3f4c",
   "metadata": {},
   "outputs": [
    {
     "name": "stdout",
     "output_type": "stream",
     "text": [
      "====Linear Regression====\n",
      "Linear Regression training & validation R^2: 0.885\n",
      "Linear Regression test R^2: 0.811\n",
      "====Ridge Regression (best alpha)====\n",
      "Ridge Regression training & validation R^2: 0.876\n",
      "Ridge Regression test R^2: -46.053\n",
      "====Lasso Regression (best alpha)====\n",
      "Lasso Regression training & validation R^2: 0.882\n",
      "Lasso Regression test R^2: -63.168\n"
     ]
    }
   ],
   "source": [
    "print(\"====Linear Regression====\")\n",
    "lm.fit(X, y)\n",
    "print(f'Linear Regression training & validation R^2: {lm.score(X,y):.3f}')\n",
    "print(f'Linear Regression test R^2: {lm.score(X_test, y_test):.3f}')\n",
    "\n",
    "print(\"====Ridge Regression (best alpha)====\")\n",
    "lm_reg.fit(X, y)\n",
    "print(f'Ridge Regression training & validation R^2: {lm_reg.score(X, y):.3f}')\n",
    "print(f'Ridge Regression test R^2: {lm_reg.score(X_test_scaled, y_test):.3f}')\n",
    "\n",
    "print(\"====Lasso Regression (best alpha)====\")\n",
    "lm_lasso.fit(X, y)\n",
    "print(f'Lasso Regression training & validation R^2: {lm_lasso.score(X, y):.3f}')\n",
    "print(f'Lasso Regression test R^2: {lm_lasso.score(X_test_scaled, y_test):.3f}')"
   ]
  },
  {
   "cell_type": "markdown",
   "id": "4db18297",
   "metadata": {},
   "source": [
    "==============================================================================================================================="
   ]
  },
  {
   "cell_type": "markdown",
   "id": "498049d1",
   "metadata": {},
   "source": [
    "# lasso_model"
   ]
  },
  {
   "cell_type": "code",
   "execution_count": 93,
   "id": "56e64387",
   "metadata": {},
   "outputs": [
    {
     "name": "stdout",
     "output_type": "stream",
     "text": [
      "Training score : 0.88376\n",
      "Val score : 0.85747\n"
     ]
    },
    {
     "data": {
      "text/plain": [
       "Lasso(alpha=100)"
      ]
     },
     "execution_count": 93,
     "metadata": {},
     "output_type": "execute_result"
    }
   ],
   "source": [
    "def lasso_model(X_train,y_train,X_val,y_val, regular_var = 1,\n",
    "                CV_flag = False, cv_value = 5, alphavec = [0.1,0.01, 0.001]):\n",
    "    \n",
    "    if CV_flag is True:\n",
    "        m = LassoCV(alphas = alphavec, cv = cv_value)\n",
    "        m.fit(X_train, y_train)\n",
    "        print(\"mean error:\", m.mse_path_)\n",
    "    else:\n",
    "        m = Lasso(alpha = regular_var) \n",
    "        m.fit(X_train, y_train )\n",
    "\n",
    "        print(\"Training score :\", round(m.score(X_train,y_train) ,5))\n",
    "        print(\"Val score :\", round(m.score(X_val,y_val),5))\n",
    "    return m\n",
    "lasso_model(X_train ,y_train ,X_val ,y_val ,regular_var = 100)"
   ]
  },
  {
   "cell_type": "code",
   "execution_count": null,
   "id": "25f806a5",
   "metadata": {},
   "outputs": [],
   "source": []
  }
 ],
 "metadata": {
  "kernelspec": {
   "display_name": "Python 3",
   "language": "python",
   "name": "python3"
  },
  "language_info": {
   "codemirror_mode": {
    "name": "ipython",
    "version": 3
   },
   "file_extension": ".py",
   "mimetype": "text/x-python",
   "name": "python",
   "nbconvert_exporter": "python",
   "pygments_lexer": "ipython3",
   "version": "3.8.8"
  }
 },
 "nbformat": 4,
 "nbformat_minor": 5
}
